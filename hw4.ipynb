{
  "nbformat": 4,
  "nbformat_minor": 0,
  "metadata": {
    "colab": {
      "provenance": [],
      "authorship_tag": "ABX9TyP+0G1Ni1/ug/mqFNelDW08"
    },
    "kernelspec": {
      "name": "python3",
      "display_name": "Python 3"
    },
    "language_info": {
      "name": "python"
    }
  },
  "cells": [
    {
      "cell_type": "code",
      "execution_count": null,
      "metadata": {
        "id": "XdIHHO-c-RYV"
      },
      "outputs": [],
      "source": [
        "import pandas as pd\n",
        "import numpy as np\n",
        "import matplotlib.pyplot as plt\n",
        "import seaborn as sns\n",
        "\n",
        "pd.set_option('display.max_columns', None)\n",
        "sns.set(style=\"darkgrid\", palette='flare')"
      ]
    },
    {
      "cell_type": "code",
      "source": [
        "train = pd.read_csv(\"Train.csv\")"
      ],
      "metadata": {
        "id": "3DjXHC14-dTN"
      },
      "execution_count": null,
      "outputs": []
    },
    {
      "cell_type": "code",
      "source": [
        "train.shape"
      ],
      "metadata": {
        "colab": {
          "base_uri": "https://localhost:8080/"
        },
        "id": "M6UMewKKC_S3",
        "outputId": "a08be55f-b67c-4222-fbef-556350469aad"
      },
      "execution_count": null,
      "outputs": [
        {
          "output_type": "execute_result",
          "data": {
            "text/plain": [
              "(100000, 25)"
            ]
          },
          "metadata": {},
          "execution_count": 324
        }
      ]
    },
    {
      "cell_type": "code",
      "source": [
        "train.head()"
      ],
      "metadata": {
        "colab": {
          "base_uri": "https://localhost:8080/",
          "height": 313
        },
        "id": "mBSWLOi9-fsf",
        "outputId": "4b9ab769-6ff6-492f-f966-0bd8472c750f"
      },
      "execution_count": null,
      "outputs": [
        {
          "output_type": "execute_result",
          "data": {
            "text/plain": [
              "   id    date  street_id  build_tech  floor  area  rooms  balcon  metro_dist  \\\n",
              "0   0  2011-1        560         NaN      2    59      3       0        30.0   \n",
              "1   1  2011-1        667         NaN     10    50      2       1        25.0   \n",
              "2   2  2011-1         90         0.0      1    48      2       0        25.0   \n",
              "3   3  2011-1         94         1.0      3    62      3       1        30.0   \n",
              "4   4  2011-1        232         0.0      3    60      3       0        25.0   \n",
              "\n",
              "   g_lift  n_photos  kw1  kw2  kw3  kw4  kw5  kw6  kw7  kw8  kw9  kw10  kw11  \\\n",
              "0     1.0         5    0    1    0    0    0    0    0    0    0     0     0   \n",
              "1     NaN         1    0    1    0    0    0    0    0    0    0     0     0   \n",
              "2     0.0         1    0    1    0    0    0    0    0    0    0     0     0   \n",
              "3     NaN         3    0    1    0    0    0    0    0    0    0     0     0   \n",
              "4     NaN         3    0    1    0    0    0    0    0    0    0     0     0   \n",
              "\n",
              "   kw12  kw13     price  \n",
              "0     0     0   4510000  \n",
              "1     0     0  13231000  \n",
              "2     0     0   2008000  \n",
              "3     0     0  12680000  \n",
              "4     0     0   3335000  "
            ],
            "text/html": [
              "\n",
              "  <div id=\"df-284ae936-bc31-4ccf-b539-0273890d52d0\" class=\"colab-df-container\">\n",
              "    <div>\n",
              "<style scoped>\n",
              "    .dataframe tbody tr th:only-of-type {\n",
              "        vertical-align: middle;\n",
              "    }\n",
              "\n",
              "    .dataframe tbody tr th {\n",
              "        vertical-align: top;\n",
              "    }\n",
              "\n",
              "    .dataframe thead th {\n",
              "        text-align: right;\n",
              "    }\n",
              "</style>\n",
              "<table border=\"1\" class=\"dataframe\">\n",
              "  <thead>\n",
              "    <tr style=\"text-align: right;\">\n",
              "      <th></th>\n",
              "      <th>id</th>\n",
              "      <th>date</th>\n",
              "      <th>street_id</th>\n",
              "      <th>build_tech</th>\n",
              "      <th>floor</th>\n",
              "      <th>area</th>\n",
              "      <th>rooms</th>\n",
              "      <th>balcon</th>\n",
              "      <th>metro_dist</th>\n",
              "      <th>g_lift</th>\n",
              "      <th>n_photos</th>\n",
              "      <th>kw1</th>\n",
              "      <th>kw2</th>\n",
              "      <th>kw3</th>\n",
              "      <th>kw4</th>\n",
              "      <th>kw5</th>\n",
              "      <th>kw6</th>\n",
              "      <th>kw7</th>\n",
              "      <th>kw8</th>\n",
              "      <th>kw9</th>\n",
              "      <th>kw10</th>\n",
              "      <th>kw11</th>\n",
              "      <th>kw12</th>\n",
              "      <th>kw13</th>\n",
              "      <th>price</th>\n",
              "    </tr>\n",
              "  </thead>\n",
              "  <tbody>\n",
              "    <tr>\n",
              "      <th>0</th>\n",
              "      <td>0</td>\n",
              "      <td>2011-1</td>\n",
              "      <td>560</td>\n",
              "      <td>NaN</td>\n",
              "      <td>2</td>\n",
              "      <td>59</td>\n",
              "      <td>3</td>\n",
              "      <td>0</td>\n",
              "      <td>30.0</td>\n",
              "      <td>1.0</td>\n",
              "      <td>5</td>\n",
              "      <td>0</td>\n",
              "      <td>1</td>\n",
              "      <td>0</td>\n",
              "      <td>0</td>\n",
              "      <td>0</td>\n",
              "      <td>0</td>\n",
              "      <td>0</td>\n",
              "      <td>0</td>\n",
              "      <td>0</td>\n",
              "      <td>0</td>\n",
              "      <td>0</td>\n",
              "      <td>0</td>\n",
              "      <td>0</td>\n",
              "      <td>4510000</td>\n",
              "    </tr>\n",
              "    <tr>\n",
              "      <th>1</th>\n",
              "      <td>1</td>\n",
              "      <td>2011-1</td>\n",
              "      <td>667</td>\n",
              "      <td>NaN</td>\n",
              "      <td>10</td>\n",
              "      <td>50</td>\n",
              "      <td>2</td>\n",
              "      <td>1</td>\n",
              "      <td>25.0</td>\n",
              "      <td>NaN</td>\n",
              "      <td>1</td>\n",
              "      <td>0</td>\n",
              "      <td>1</td>\n",
              "      <td>0</td>\n",
              "      <td>0</td>\n",
              "      <td>0</td>\n",
              "      <td>0</td>\n",
              "      <td>0</td>\n",
              "      <td>0</td>\n",
              "      <td>0</td>\n",
              "      <td>0</td>\n",
              "      <td>0</td>\n",
              "      <td>0</td>\n",
              "      <td>0</td>\n",
              "      <td>13231000</td>\n",
              "    </tr>\n",
              "    <tr>\n",
              "      <th>2</th>\n",
              "      <td>2</td>\n",
              "      <td>2011-1</td>\n",
              "      <td>90</td>\n",
              "      <td>0.0</td>\n",
              "      <td>1</td>\n",
              "      <td>48</td>\n",
              "      <td>2</td>\n",
              "      <td>0</td>\n",
              "      <td>25.0</td>\n",
              "      <td>0.0</td>\n",
              "      <td>1</td>\n",
              "      <td>0</td>\n",
              "      <td>1</td>\n",
              "      <td>0</td>\n",
              "      <td>0</td>\n",
              "      <td>0</td>\n",
              "      <td>0</td>\n",
              "      <td>0</td>\n",
              "      <td>0</td>\n",
              "      <td>0</td>\n",
              "      <td>0</td>\n",
              "      <td>0</td>\n",
              "      <td>0</td>\n",
              "      <td>0</td>\n",
              "      <td>2008000</td>\n",
              "    </tr>\n",
              "    <tr>\n",
              "      <th>3</th>\n",
              "      <td>3</td>\n",
              "      <td>2011-1</td>\n",
              "      <td>94</td>\n",
              "      <td>1.0</td>\n",
              "      <td>3</td>\n",
              "      <td>62</td>\n",
              "      <td>3</td>\n",
              "      <td>1</td>\n",
              "      <td>30.0</td>\n",
              "      <td>NaN</td>\n",
              "      <td>3</td>\n",
              "      <td>0</td>\n",
              "      <td>1</td>\n",
              "      <td>0</td>\n",
              "      <td>0</td>\n",
              "      <td>0</td>\n",
              "      <td>0</td>\n",
              "      <td>0</td>\n",
              "      <td>0</td>\n",
              "      <td>0</td>\n",
              "      <td>0</td>\n",
              "      <td>0</td>\n",
              "      <td>0</td>\n",
              "      <td>0</td>\n",
              "      <td>12680000</td>\n",
              "    </tr>\n",
              "    <tr>\n",
              "      <th>4</th>\n",
              "      <td>4</td>\n",
              "      <td>2011-1</td>\n",
              "      <td>232</td>\n",
              "      <td>0.0</td>\n",
              "      <td>3</td>\n",
              "      <td>60</td>\n",
              "      <td>3</td>\n",
              "      <td>0</td>\n",
              "      <td>25.0</td>\n",
              "      <td>NaN</td>\n",
              "      <td>3</td>\n",
              "      <td>0</td>\n",
              "      <td>1</td>\n",
              "      <td>0</td>\n",
              "      <td>0</td>\n",
              "      <td>0</td>\n",
              "      <td>0</td>\n",
              "      <td>0</td>\n",
              "      <td>0</td>\n",
              "      <td>0</td>\n",
              "      <td>0</td>\n",
              "      <td>0</td>\n",
              "      <td>0</td>\n",
              "      <td>0</td>\n",
              "      <td>3335000</td>\n",
              "    </tr>\n",
              "  </tbody>\n",
              "</table>\n",
              "</div>\n",
              "    <div class=\"colab-df-buttons\">\n",
              "\n",
              "  <div class=\"colab-df-container\">\n",
              "    <button class=\"colab-df-convert\" onclick=\"convertToInteractive('df-284ae936-bc31-4ccf-b539-0273890d52d0')\"\n",
              "            title=\"Convert this dataframe to an interactive table.\"\n",
              "            style=\"display:none;\">\n",
              "\n",
              "  <svg xmlns=\"http://www.w3.org/2000/svg\" height=\"24px\" viewBox=\"0 -960 960 960\">\n",
              "    <path d=\"M120-120v-720h720v720H120Zm60-500h600v-160H180v160Zm220 220h160v-160H400v160Zm0 220h160v-160H400v160ZM180-400h160v-160H180v160Zm440 0h160v-160H620v160ZM180-180h160v-160H180v160Zm440 0h160v-160H620v160Z\"/>\n",
              "  </svg>\n",
              "    </button>\n",
              "\n",
              "  <style>\n",
              "    .colab-df-container {\n",
              "      display:flex;\n",
              "      gap: 12px;\n",
              "    }\n",
              "\n",
              "    .colab-df-convert {\n",
              "      background-color: #E8F0FE;\n",
              "      border: none;\n",
              "      border-radius: 50%;\n",
              "      cursor: pointer;\n",
              "      display: none;\n",
              "      fill: #1967D2;\n",
              "      height: 32px;\n",
              "      padding: 0 0 0 0;\n",
              "      width: 32px;\n",
              "    }\n",
              "\n",
              "    .colab-df-convert:hover {\n",
              "      background-color: #E2EBFA;\n",
              "      box-shadow: 0px 1px 2px rgba(60, 64, 67, 0.3), 0px 1px 3px 1px rgba(60, 64, 67, 0.15);\n",
              "      fill: #174EA6;\n",
              "    }\n",
              "\n",
              "    .colab-df-buttons div {\n",
              "      margin-bottom: 4px;\n",
              "    }\n",
              "\n",
              "    [theme=dark] .colab-df-convert {\n",
              "      background-color: #3B4455;\n",
              "      fill: #D2E3FC;\n",
              "    }\n",
              "\n",
              "    [theme=dark] .colab-df-convert:hover {\n",
              "      background-color: #434B5C;\n",
              "      box-shadow: 0px 1px 3px 1px rgba(0, 0, 0, 0.15);\n",
              "      filter: drop-shadow(0px 1px 2px rgba(0, 0, 0, 0.3));\n",
              "      fill: #FFFFFF;\n",
              "    }\n",
              "  </style>\n",
              "\n",
              "    <script>\n",
              "      const buttonEl =\n",
              "        document.querySelector('#df-284ae936-bc31-4ccf-b539-0273890d52d0 button.colab-df-convert');\n",
              "      buttonEl.style.display =\n",
              "        google.colab.kernel.accessAllowed ? 'block' : 'none';\n",
              "\n",
              "      async function convertToInteractive(key) {\n",
              "        const element = document.querySelector('#df-284ae936-bc31-4ccf-b539-0273890d52d0');\n",
              "        const dataTable =\n",
              "          await google.colab.kernel.invokeFunction('convertToInteractive',\n",
              "                                                    [key], {});\n",
              "        if (!dataTable) return;\n",
              "\n",
              "        const docLinkHtml = 'Like what you see? Visit the ' +\n",
              "          '<a target=\"_blank\" href=https://colab.research.google.com/notebooks/data_table.ipynb>data table notebook</a>'\n",
              "          + ' to learn more about interactive tables.';\n",
              "        element.innerHTML = '';\n",
              "        dataTable['output_type'] = 'display_data';\n",
              "        await google.colab.output.renderOutput(dataTable, element);\n",
              "        const docLink = document.createElement('div');\n",
              "        docLink.innerHTML = docLinkHtml;\n",
              "        element.appendChild(docLink);\n",
              "      }\n",
              "    </script>\n",
              "  </div>\n",
              "\n",
              "\n",
              "<div id=\"df-50c99244-ff39-41c2-8a1a-757de9d0be73\">\n",
              "  <button class=\"colab-df-quickchart\" onclick=\"quickchart('df-50c99244-ff39-41c2-8a1a-757de9d0be73')\"\n",
              "            title=\"Suggest charts\"\n",
              "            style=\"display:none;\">\n",
              "\n",
              "<svg xmlns=\"http://www.w3.org/2000/svg\" height=\"24px\"viewBox=\"0 0 24 24\"\n",
              "     width=\"24px\">\n",
              "    <g>\n",
              "        <path d=\"M19 3H5c-1.1 0-2 .9-2 2v14c0 1.1.9 2 2 2h14c1.1 0 2-.9 2-2V5c0-1.1-.9-2-2-2zM9 17H7v-7h2v7zm4 0h-2V7h2v10zm4 0h-2v-4h2v4z\"/>\n",
              "    </g>\n",
              "</svg>\n",
              "  </button>\n",
              "\n",
              "<style>\n",
              "  .colab-df-quickchart {\n",
              "      --bg-color: #E8F0FE;\n",
              "      --fill-color: #1967D2;\n",
              "      --hover-bg-color: #E2EBFA;\n",
              "      --hover-fill-color: #174EA6;\n",
              "      --disabled-fill-color: #AAA;\n",
              "      --disabled-bg-color: #DDD;\n",
              "  }\n",
              "\n",
              "  [theme=dark] .colab-df-quickchart {\n",
              "      --bg-color: #3B4455;\n",
              "      --fill-color: #D2E3FC;\n",
              "      --hover-bg-color: #434B5C;\n",
              "      --hover-fill-color: #FFFFFF;\n",
              "      --disabled-bg-color: #3B4455;\n",
              "      --disabled-fill-color: #666;\n",
              "  }\n",
              "\n",
              "  .colab-df-quickchart {\n",
              "    background-color: var(--bg-color);\n",
              "    border: none;\n",
              "    border-radius: 50%;\n",
              "    cursor: pointer;\n",
              "    display: none;\n",
              "    fill: var(--fill-color);\n",
              "    height: 32px;\n",
              "    padding: 0;\n",
              "    width: 32px;\n",
              "  }\n",
              "\n",
              "  .colab-df-quickchart:hover {\n",
              "    background-color: var(--hover-bg-color);\n",
              "    box-shadow: 0 1px 2px rgba(60, 64, 67, 0.3), 0 1px 3px 1px rgba(60, 64, 67, 0.15);\n",
              "    fill: var(--button-hover-fill-color);\n",
              "  }\n",
              "\n",
              "  .colab-df-quickchart-complete:disabled,\n",
              "  .colab-df-quickchart-complete:disabled:hover {\n",
              "    background-color: var(--disabled-bg-color);\n",
              "    fill: var(--disabled-fill-color);\n",
              "    box-shadow: none;\n",
              "  }\n",
              "\n",
              "  .colab-df-spinner {\n",
              "    border: 2px solid var(--fill-color);\n",
              "    border-color: transparent;\n",
              "    border-bottom-color: var(--fill-color);\n",
              "    animation:\n",
              "      spin 1s steps(1) infinite;\n",
              "  }\n",
              "\n",
              "  @keyframes spin {\n",
              "    0% {\n",
              "      border-color: transparent;\n",
              "      border-bottom-color: var(--fill-color);\n",
              "      border-left-color: var(--fill-color);\n",
              "    }\n",
              "    20% {\n",
              "      border-color: transparent;\n",
              "      border-left-color: var(--fill-color);\n",
              "      border-top-color: var(--fill-color);\n",
              "    }\n",
              "    30% {\n",
              "      border-color: transparent;\n",
              "      border-left-color: var(--fill-color);\n",
              "      border-top-color: var(--fill-color);\n",
              "      border-right-color: var(--fill-color);\n",
              "    }\n",
              "    40% {\n",
              "      border-color: transparent;\n",
              "      border-right-color: var(--fill-color);\n",
              "      border-top-color: var(--fill-color);\n",
              "    }\n",
              "    60% {\n",
              "      border-color: transparent;\n",
              "      border-right-color: var(--fill-color);\n",
              "    }\n",
              "    80% {\n",
              "      border-color: transparent;\n",
              "      border-right-color: var(--fill-color);\n",
              "      border-bottom-color: var(--fill-color);\n",
              "    }\n",
              "    90% {\n",
              "      border-color: transparent;\n",
              "      border-bottom-color: var(--fill-color);\n",
              "    }\n",
              "  }\n",
              "</style>\n",
              "\n",
              "  <script>\n",
              "    async function quickchart(key) {\n",
              "      const quickchartButtonEl =\n",
              "        document.querySelector('#' + key + ' button');\n",
              "      quickchartButtonEl.disabled = true;  // To prevent multiple clicks.\n",
              "      quickchartButtonEl.classList.add('colab-df-spinner');\n",
              "      try {\n",
              "        const charts = await google.colab.kernel.invokeFunction(\n",
              "            'suggestCharts', [key], {});\n",
              "      } catch (error) {\n",
              "        console.error('Error during call to suggestCharts:', error);\n",
              "      }\n",
              "      quickchartButtonEl.classList.remove('colab-df-spinner');\n",
              "      quickchartButtonEl.classList.add('colab-df-quickchart-complete');\n",
              "    }\n",
              "    (() => {\n",
              "      let quickchartButtonEl =\n",
              "        document.querySelector('#df-50c99244-ff39-41c2-8a1a-757de9d0be73 button');\n",
              "      quickchartButtonEl.style.display =\n",
              "        google.colab.kernel.accessAllowed ? 'block' : 'none';\n",
              "    })();\n",
              "  </script>\n",
              "</div>\n",
              "    </div>\n",
              "  </div>\n"
            ],
            "application/vnd.google.colaboratory.intrinsic+json": {
              "type": "dataframe",
              "variable_name": "train"
            }
          },
          "metadata": {},
          "execution_count": 325
        }
      ]
    },
    {
      "cell_type": "code",
      "source": [
        "train.info()"
      ],
      "metadata": {
        "colab": {
          "base_uri": "https://localhost:8080/"
        },
        "id": "oW0y3u1R_5TP",
        "outputId": "9f5d7350-5f27-4ecc-e3ae-527975ac789a"
      },
      "execution_count": null,
      "outputs": [
        {
          "output_type": "stream",
          "name": "stdout",
          "text": [
            "<class 'pandas.core.frame.DataFrame'>\n",
            "RangeIndex: 100000 entries, 0 to 99999\n",
            "Data columns (total 25 columns):\n",
            " #   Column      Non-Null Count   Dtype  \n",
            "---  ------      --------------   -----  \n",
            " 0   id          100000 non-null  int64  \n",
            " 1   date        100000 non-null  object \n",
            " 2   street_id   100000 non-null  int64  \n",
            " 3   build_tech  70265 non-null   float64\n",
            " 4   floor       100000 non-null  int64  \n",
            " 5   area        100000 non-null  int64  \n",
            " 6   rooms       100000 non-null  int64  \n",
            " 7   balcon      100000 non-null  int64  \n",
            " 8   metro_dist  95104 non-null   float64\n",
            " 9   g_lift      70008 non-null   float64\n",
            " 10  n_photos    100000 non-null  int64  \n",
            " 11  kw1         100000 non-null  int64  \n",
            " 12  kw2         100000 non-null  int64  \n",
            " 13  kw3         100000 non-null  int64  \n",
            " 14  kw4         100000 non-null  int64  \n",
            " 15  kw5         100000 non-null  int64  \n",
            " 16  kw6         100000 non-null  int64  \n",
            " 17  kw7         100000 non-null  int64  \n",
            " 18  kw8         100000 non-null  int64  \n",
            " 19  kw9         100000 non-null  int64  \n",
            " 20  kw10        100000 non-null  int64  \n",
            " 21  kw11        100000 non-null  int64  \n",
            " 22  kw12        100000 non-null  int64  \n",
            " 23  kw13        100000 non-null  int64  \n",
            " 24  price       100000 non-null  int64  \n",
            "dtypes: float64(3), int64(21), object(1)\n",
            "memory usage: 19.1+ MB\n"
          ]
        }
      ]
    },
    {
      "cell_type": "markdown",
      "source": [
        "Разделим фичи и таргет:"
      ],
      "metadata": {
        "id": "4khFLn5IAIjc"
      }
    },
    {
      "cell_type": "code",
      "source": [
        "train.drop(columns='id', inplace=True) # дропаем айдишник объекта"
      ],
      "metadata": {
        "id": "L_eWthXi-rs3"
      },
      "execution_count": null,
      "outputs": []
    },
    {
      "cell_type": "markdown",
      "source": [
        "# Предобработка данных"
      ],
      "metadata": {
        "id": "Qo_AqY5fBKZd"
      }
    },
    {
      "cell_type": "code",
      "source": [
        "train.describe()"
      ],
      "metadata": {
        "colab": {
          "base_uri": "https://localhost:8080/",
          "height": 320
        },
        "id": "cDB-f7D6_3p3",
        "outputId": "a7093108-1072-48c5-fff4-d7573a8aa0cc"
      },
      "execution_count": null,
      "outputs": [
        {
          "output_type": "execute_result",
          "data": {
            "text/plain": [
              "           street_id    build_tech          floor          area  \\\n",
              "count  100000.000000  70265.000000  100000.000000  100000.00000   \n",
              "mean      334.479290      0.529837       5.267680      52.25343   \n",
              "std       194.004755      0.573645       3.905558      17.79250   \n",
              "min         0.000000      0.000000       1.000000      29.00000   \n",
              "25%       167.000000      0.000000       2.000000      40.00000   \n",
              "50%       334.000000      0.000000       4.000000      52.00000   \n",
              "75%       501.000000      1.000000       7.000000      60.00000   \n",
              "max       671.000000      2.000000      25.000000     217.00000   \n",
              "\n",
              "               rooms         balcon    metro_dist        g_lift  \\\n",
              "count  100000.000000  100000.000000  95104.000000  70008.000000   \n",
              "mean        2.118680       0.396740     22.154431      0.500986   \n",
              "std         0.829688       0.547632      8.286241      0.500003   \n",
              "min         1.000000       0.000000      0.000000      0.000000   \n",
              "25%         1.000000       0.000000     15.000000      0.000000   \n",
              "50%         2.000000       0.000000     25.000000      1.000000   \n",
              "75%         3.000000       1.000000     30.000000      1.000000   \n",
              "max         6.000000       2.000000     30.000000      1.000000   \n",
              "\n",
              "            n_photos            kw1            kw2            kw3  \\\n",
              "count  100000.000000  100000.000000  100000.000000  100000.000000   \n",
              "mean        2.470910       0.055650       0.631110       0.007270   \n",
              "std         1.944981       0.229246       0.482506       0.084954   \n",
              "min         0.000000       0.000000       0.000000       0.000000   \n",
              "25%         1.000000       0.000000       0.000000       0.000000   \n",
              "50%         2.000000       0.000000       1.000000       0.000000   \n",
              "75%         4.000000       0.000000       1.000000       0.000000   \n",
              "max        11.000000       1.000000       1.000000       1.000000   \n",
              "\n",
              "                 kw4            kw5            kw6            kw7  \\\n",
              "count  100000.000000  100000.000000  100000.000000  100000.000000   \n",
              "mean        0.006300       0.004360       0.001430       0.000940   \n",
              "std         0.079123       0.065887       0.037788       0.030645   \n",
              "min         0.000000       0.000000       0.000000       0.000000   \n",
              "25%         0.000000       0.000000       0.000000       0.000000   \n",
              "50%         0.000000       0.000000       0.000000       0.000000   \n",
              "75%         0.000000       0.000000       0.000000       0.000000   \n",
              "max         1.000000       1.000000       1.000000       1.000000   \n",
              "\n",
              "                 kw8            kw9          kw10           kw11  \\\n",
              "count  100000.000000  100000.000000  100000.00000  100000.000000   \n",
              "mean        0.007910       0.007890       0.00218       0.000320   \n",
              "std         0.088586       0.088475       0.04664       0.017886   \n",
              "min         0.000000       0.000000       0.00000       0.000000   \n",
              "25%         0.000000       0.000000       0.00000       0.000000   \n",
              "50%         0.000000       0.000000       0.00000       0.000000   \n",
              "75%         0.000000       0.000000       0.00000       0.000000   \n",
              "max         1.000000       1.000000       1.00000       1.000000   \n",
              "\n",
              "                kw12          kw13         price  \n",
              "count  100000.000000  100000.00000  1.000000e+05  \n",
              "mean        0.001210       0.00021  5.138396e+06  \n",
              "std         0.034764       0.01449  4.187469e+06  \n",
              "min         0.000000       0.00000  4.480000e+05  \n",
              "25%         0.000000       0.00000  2.644000e+06  \n",
              "50%         0.000000       0.00000  4.090000e+06  \n",
              "75%         0.000000       0.00000  6.281000e+06  \n",
              "max         1.000000       1.00000  8.054800e+07  "
            ],
            "text/html": [
              "\n",
              "  <div id=\"df-0d45f947-6ed2-45de-a9fc-b9b5fd03b978\" class=\"colab-df-container\">\n",
              "    <div>\n",
              "<style scoped>\n",
              "    .dataframe tbody tr th:only-of-type {\n",
              "        vertical-align: middle;\n",
              "    }\n",
              "\n",
              "    .dataframe tbody tr th {\n",
              "        vertical-align: top;\n",
              "    }\n",
              "\n",
              "    .dataframe thead th {\n",
              "        text-align: right;\n",
              "    }\n",
              "</style>\n",
              "<table border=\"1\" class=\"dataframe\">\n",
              "  <thead>\n",
              "    <tr style=\"text-align: right;\">\n",
              "      <th></th>\n",
              "      <th>street_id</th>\n",
              "      <th>build_tech</th>\n",
              "      <th>floor</th>\n",
              "      <th>area</th>\n",
              "      <th>rooms</th>\n",
              "      <th>balcon</th>\n",
              "      <th>metro_dist</th>\n",
              "      <th>g_lift</th>\n",
              "      <th>n_photos</th>\n",
              "      <th>kw1</th>\n",
              "      <th>kw2</th>\n",
              "      <th>kw3</th>\n",
              "      <th>kw4</th>\n",
              "      <th>kw5</th>\n",
              "      <th>kw6</th>\n",
              "      <th>kw7</th>\n",
              "      <th>kw8</th>\n",
              "      <th>kw9</th>\n",
              "      <th>kw10</th>\n",
              "      <th>kw11</th>\n",
              "      <th>kw12</th>\n",
              "      <th>kw13</th>\n",
              "      <th>price</th>\n",
              "    </tr>\n",
              "  </thead>\n",
              "  <tbody>\n",
              "    <tr>\n",
              "      <th>count</th>\n",
              "      <td>100000.000000</td>\n",
              "      <td>70265.000000</td>\n",
              "      <td>100000.000000</td>\n",
              "      <td>100000.00000</td>\n",
              "      <td>100000.000000</td>\n",
              "      <td>100000.000000</td>\n",
              "      <td>95104.000000</td>\n",
              "      <td>70008.000000</td>\n",
              "      <td>100000.000000</td>\n",
              "      <td>100000.000000</td>\n",
              "      <td>100000.000000</td>\n",
              "      <td>100000.000000</td>\n",
              "      <td>100000.000000</td>\n",
              "      <td>100000.000000</td>\n",
              "      <td>100000.000000</td>\n",
              "      <td>100000.000000</td>\n",
              "      <td>100000.000000</td>\n",
              "      <td>100000.000000</td>\n",
              "      <td>100000.00000</td>\n",
              "      <td>100000.000000</td>\n",
              "      <td>100000.000000</td>\n",
              "      <td>100000.00000</td>\n",
              "      <td>1.000000e+05</td>\n",
              "    </tr>\n",
              "    <tr>\n",
              "      <th>mean</th>\n",
              "      <td>334.479290</td>\n",
              "      <td>0.529837</td>\n",
              "      <td>5.267680</td>\n",
              "      <td>52.25343</td>\n",
              "      <td>2.118680</td>\n",
              "      <td>0.396740</td>\n",
              "      <td>22.154431</td>\n",
              "      <td>0.500986</td>\n",
              "      <td>2.470910</td>\n",
              "      <td>0.055650</td>\n",
              "      <td>0.631110</td>\n",
              "      <td>0.007270</td>\n",
              "      <td>0.006300</td>\n",
              "      <td>0.004360</td>\n",
              "      <td>0.001430</td>\n",
              "      <td>0.000940</td>\n",
              "      <td>0.007910</td>\n",
              "      <td>0.007890</td>\n",
              "      <td>0.00218</td>\n",
              "      <td>0.000320</td>\n",
              "      <td>0.001210</td>\n",
              "      <td>0.00021</td>\n",
              "      <td>5.138396e+06</td>\n",
              "    </tr>\n",
              "    <tr>\n",
              "      <th>std</th>\n",
              "      <td>194.004755</td>\n",
              "      <td>0.573645</td>\n",
              "      <td>3.905558</td>\n",
              "      <td>17.79250</td>\n",
              "      <td>0.829688</td>\n",
              "      <td>0.547632</td>\n",
              "      <td>8.286241</td>\n",
              "      <td>0.500003</td>\n",
              "      <td>1.944981</td>\n",
              "      <td>0.229246</td>\n",
              "      <td>0.482506</td>\n",
              "      <td>0.084954</td>\n",
              "      <td>0.079123</td>\n",
              "      <td>0.065887</td>\n",
              "      <td>0.037788</td>\n",
              "      <td>0.030645</td>\n",
              "      <td>0.088586</td>\n",
              "      <td>0.088475</td>\n",
              "      <td>0.04664</td>\n",
              "      <td>0.017886</td>\n",
              "      <td>0.034764</td>\n",
              "      <td>0.01449</td>\n",
              "      <td>4.187469e+06</td>\n",
              "    </tr>\n",
              "    <tr>\n",
              "      <th>min</th>\n",
              "      <td>0.000000</td>\n",
              "      <td>0.000000</td>\n",
              "      <td>1.000000</td>\n",
              "      <td>29.00000</td>\n",
              "      <td>1.000000</td>\n",
              "      <td>0.000000</td>\n",
              "      <td>0.000000</td>\n",
              "      <td>0.000000</td>\n",
              "      <td>0.000000</td>\n",
              "      <td>0.000000</td>\n",
              "      <td>0.000000</td>\n",
              "      <td>0.000000</td>\n",
              "      <td>0.000000</td>\n",
              "      <td>0.000000</td>\n",
              "      <td>0.000000</td>\n",
              "      <td>0.000000</td>\n",
              "      <td>0.000000</td>\n",
              "      <td>0.000000</td>\n",
              "      <td>0.00000</td>\n",
              "      <td>0.000000</td>\n",
              "      <td>0.000000</td>\n",
              "      <td>0.00000</td>\n",
              "      <td>4.480000e+05</td>\n",
              "    </tr>\n",
              "    <tr>\n",
              "      <th>25%</th>\n",
              "      <td>167.000000</td>\n",
              "      <td>0.000000</td>\n",
              "      <td>2.000000</td>\n",
              "      <td>40.00000</td>\n",
              "      <td>1.000000</td>\n",
              "      <td>0.000000</td>\n",
              "      <td>15.000000</td>\n",
              "      <td>0.000000</td>\n",
              "      <td>1.000000</td>\n",
              "      <td>0.000000</td>\n",
              "      <td>0.000000</td>\n",
              "      <td>0.000000</td>\n",
              "      <td>0.000000</td>\n",
              "      <td>0.000000</td>\n",
              "      <td>0.000000</td>\n",
              "      <td>0.000000</td>\n",
              "      <td>0.000000</td>\n",
              "      <td>0.000000</td>\n",
              "      <td>0.00000</td>\n",
              "      <td>0.000000</td>\n",
              "      <td>0.000000</td>\n",
              "      <td>0.00000</td>\n",
              "      <td>2.644000e+06</td>\n",
              "    </tr>\n",
              "    <tr>\n",
              "      <th>50%</th>\n",
              "      <td>334.000000</td>\n",
              "      <td>0.000000</td>\n",
              "      <td>4.000000</td>\n",
              "      <td>52.00000</td>\n",
              "      <td>2.000000</td>\n",
              "      <td>0.000000</td>\n",
              "      <td>25.000000</td>\n",
              "      <td>1.000000</td>\n",
              "      <td>2.000000</td>\n",
              "      <td>0.000000</td>\n",
              "      <td>1.000000</td>\n",
              "      <td>0.000000</td>\n",
              "      <td>0.000000</td>\n",
              "      <td>0.000000</td>\n",
              "      <td>0.000000</td>\n",
              "      <td>0.000000</td>\n",
              "      <td>0.000000</td>\n",
              "      <td>0.000000</td>\n",
              "      <td>0.00000</td>\n",
              "      <td>0.000000</td>\n",
              "      <td>0.000000</td>\n",
              "      <td>0.00000</td>\n",
              "      <td>4.090000e+06</td>\n",
              "    </tr>\n",
              "    <tr>\n",
              "      <th>75%</th>\n",
              "      <td>501.000000</td>\n",
              "      <td>1.000000</td>\n",
              "      <td>7.000000</td>\n",
              "      <td>60.00000</td>\n",
              "      <td>3.000000</td>\n",
              "      <td>1.000000</td>\n",
              "      <td>30.000000</td>\n",
              "      <td>1.000000</td>\n",
              "      <td>4.000000</td>\n",
              "      <td>0.000000</td>\n",
              "      <td>1.000000</td>\n",
              "      <td>0.000000</td>\n",
              "      <td>0.000000</td>\n",
              "      <td>0.000000</td>\n",
              "      <td>0.000000</td>\n",
              "      <td>0.000000</td>\n",
              "      <td>0.000000</td>\n",
              "      <td>0.000000</td>\n",
              "      <td>0.00000</td>\n",
              "      <td>0.000000</td>\n",
              "      <td>0.000000</td>\n",
              "      <td>0.00000</td>\n",
              "      <td>6.281000e+06</td>\n",
              "    </tr>\n",
              "    <tr>\n",
              "      <th>max</th>\n",
              "      <td>671.000000</td>\n",
              "      <td>2.000000</td>\n",
              "      <td>25.000000</td>\n",
              "      <td>217.00000</td>\n",
              "      <td>6.000000</td>\n",
              "      <td>2.000000</td>\n",
              "      <td>30.000000</td>\n",
              "      <td>1.000000</td>\n",
              "      <td>11.000000</td>\n",
              "      <td>1.000000</td>\n",
              "      <td>1.000000</td>\n",
              "      <td>1.000000</td>\n",
              "      <td>1.000000</td>\n",
              "      <td>1.000000</td>\n",
              "      <td>1.000000</td>\n",
              "      <td>1.000000</td>\n",
              "      <td>1.000000</td>\n",
              "      <td>1.000000</td>\n",
              "      <td>1.00000</td>\n",
              "      <td>1.000000</td>\n",
              "      <td>1.000000</td>\n",
              "      <td>1.00000</td>\n",
              "      <td>8.054800e+07</td>\n",
              "    </tr>\n",
              "  </tbody>\n",
              "</table>\n",
              "</div>\n",
              "    <div class=\"colab-df-buttons\">\n",
              "\n",
              "  <div class=\"colab-df-container\">\n",
              "    <button class=\"colab-df-convert\" onclick=\"convertToInteractive('df-0d45f947-6ed2-45de-a9fc-b9b5fd03b978')\"\n",
              "            title=\"Convert this dataframe to an interactive table.\"\n",
              "            style=\"display:none;\">\n",
              "\n",
              "  <svg xmlns=\"http://www.w3.org/2000/svg\" height=\"24px\" viewBox=\"0 -960 960 960\">\n",
              "    <path d=\"M120-120v-720h720v720H120Zm60-500h600v-160H180v160Zm220 220h160v-160H400v160Zm0 220h160v-160H400v160ZM180-400h160v-160H180v160Zm440 0h160v-160H620v160ZM180-180h160v-160H180v160Zm440 0h160v-160H620v160Z\"/>\n",
              "  </svg>\n",
              "    </button>\n",
              "\n",
              "  <style>\n",
              "    .colab-df-container {\n",
              "      display:flex;\n",
              "      gap: 12px;\n",
              "    }\n",
              "\n",
              "    .colab-df-convert {\n",
              "      background-color: #E8F0FE;\n",
              "      border: none;\n",
              "      border-radius: 50%;\n",
              "      cursor: pointer;\n",
              "      display: none;\n",
              "      fill: #1967D2;\n",
              "      height: 32px;\n",
              "      padding: 0 0 0 0;\n",
              "      width: 32px;\n",
              "    }\n",
              "\n",
              "    .colab-df-convert:hover {\n",
              "      background-color: #E2EBFA;\n",
              "      box-shadow: 0px 1px 2px rgba(60, 64, 67, 0.3), 0px 1px 3px 1px rgba(60, 64, 67, 0.15);\n",
              "      fill: #174EA6;\n",
              "    }\n",
              "\n",
              "    .colab-df-buttons div {\n",
              "      margin-bottom: 4px;\n",
              "    }\n",
              "\n",
              "    [theme=dark] .colab-df-convert {\n",
              "      background-color: #3B4455;\n",
              "      fill: #D2E3FC;\n",
              "    }\n",
              "\n",
              "    [theme=dark] .colab-df-convert:hover {\n",
              "      background-color: #434B5C;\n",
              "      box-shadow: 0px 1px 3px 1px rgba(0, 0, 0, 0.15);\n",
              "      filter: drop-shadow(0px 1px 2px rgba(0, 0, 0, 0.3));\n",
              "      fill: #FFFFFF;\n",
              "    }\n",
              "  </style>\n",
              "\n",
              "    <script>\n",
              "      const buttonEl =\n",
              "        document.querySelector('#df-0d45f947-6ed2-45de-a9fc-b9b5fd03b978 button.colab-df-convert');\n",
              "      buttonEl.style.display =\n",
              "        google.colab.kernel.accessAllowed ? 'block' : 'none';\n",
              "\n",
              "      async function convertToInteractive(key) {\n",
              "        const element = document.querySelector('#df-0d45f947-6ed2-45de-a9fc-b9b5fd03b978');\n",
              "        const dataTable =\n",
              "          await google.colab.kernel.invokeFunction('convertToInteractive',\n",
              "                                                    [key], {});\n",
              "        if (!dataTable) return;\n",
              "\n",
              "        const docLinkHtml = 'Like what you see? Visit the ' +\n",
              "          '<a target=\"_blank\" href=https://colab.research.google.com/notebooks/data_table.ipynb>data table notebook</a>'\n",
              "          + ' to learn more about interactive tables.';\n",
              "        element.innerHTML = '';\n",
              "        dataTable['output_type'] = 'display_data';\n",
              "        await google.colab.output.renderOutput(dataTable, element);\n",
              "        const docLink = document.createElement('div');\n",
              "        docLink.innerHTML = docLinkHtml;\n",
              "        element.appendChild(docLink);\n",
              "      }\n",
              "    </script>\n",
              "  </div>\n",
              "\n",
              "\n",
              "<div id=\"df-03f288fa-879a-4a25-ab32-c31a7609d5c0\">\n",
              "  <button class=\"colab-df-quickchart\" onclick=\"quickchart('df-03f288fa-879a-4a25-ab32-c31a7609d5c0')\"\n",
              "            title=\"Suggest charts\"\n",
              "            style=\"display:none;\">\n",
              "\n",
              "<svg xmlns=\"http://www.w3.org/2000/svg\" height=\"24px\"viewBox=\"0 0 24 24\"\n",
              "     width=\"24px\">\n",
              "    <g>\n",
              "        <path d=\"M19 3H5c-1.1 0-2 .9-2 2v14c0 1.1.9 2 2 2h14c1.1 0 2-.9 2-2V5c0-1.1-.9-2-2-2zM9 17H7v-7h2v7zm4 0h-2V7h2v10zm4 0h-2v-4h2v4z\"/>\n",
              "    </g>\n",
              "</svg>\n",
              "  </button>\n",
              "\n",
              "<style>\n",
              "  .colab-df-quickchart {\n",
              "      --bg-color: #E8F0FE;\n",
              "      --fill-color: #1967D2;\n",
              "      --hover-bg-color: #E2EBFA;\n",
              "      --hover-fill-color: #174EA6;\n",
              "      --disabled-fill-color: #AAA;\n",
              "      --disabled-bg-color: #DDD;\n",
              "  }\n",
              "\n",
              "  [theme=dark] .colab-df-quickchart {\n",
              "      --bg-color: #3B4455;\n",
              "      --fill-color: #D2E3FC;\n",
              "      --hover-bg-color: #434B5C;\n",
              "      --hover-fill-color: #FFFFFF;\n",
              "      --disabled-bg-color: #3B4455;\n",
              "      --disabled-fill-color: #666;\n",
              "  }\n",
              "\n",
              "  .colab-df-quickchart {\n",
              "    background-color: var(--bg-color);\n",
              "    border: none;\n",
              "    border-radius: 50%;\n",
              "    cursor: pointer;\n",
              "    display: none;\n",
              "    fill: var(--fill-color);\n",
              "    height: 32px;\n",
              "    padding: 0;\n",
              "    width: 32px;\n",
              "  }\n",
              "\n",
              "  .colab-df-quickchart:hover {\n",
              "    background-color: var(--hover-bg-color);\n",
              "    box-shadow: 0 1px 2px rgba(60, 64, 67, 0.3), 0 1px 3px 1px rgba(60, 64, 67, 0.15);\n",
              "    fill: var(--button-hover-fill-color);\n",
              "  }\n",
              "\n",
              "  .colab-df-quickchart-complete:disabled,\n",
              "  .colab-df-quickchart-complete:disabled:hover {\n",
              "    background-color: var(--disabled-bg-color);\n",
              "    fill: var(--disabled-fill-color);\n",
              "    box-shadow: none;\n",
              "  }\n",
              "\n",
              "  .colab-df-spinner {\n",
              "    border: 2px solid var(--fill-color);\n",
              "    border-color: transparent;\n",
              "    border-bottom-color: var(--fill-color);\n",
              "    animation:\n",
              "      spin 1s steps(1) infinite;\n",
              "  }\n",
              "\n",
              "  @keyframes spin {\n",
              "    0% {\n",
              "      border-color: transparent;\n",
              "      border-bottom-color: var(--fill-color);\n",
              "      border-left-color: var(--fill-color);\n",
              "    }\n",
              "    20% {\n",
              "      border-color: transparent;\n",
              "      border-left-color: var(--fill-color);\n",
              "      border-top-color: var(--fill-color);\n",
              "    }\n",
              "    30% {\n",
              "      border-color: transparent;\n",
              "      border-left-color: var(--fill-color);\n",
              "      border-top-color: var(--fill-color);\n",
              "      border-right-color: var(--fill-color);\n",
              "    }\n",
              "    40% {\n",
              "      border-color: transparent;\n",
              "      border-right-color: var(--fill-color);\n",
              "      border-top-color: var(--fill-color);\n",
              "    }\n",
              "    60% {\n",
              "      border-color: transparent;\n",
              "      border-right-color: var(--fill-color);\n",
              "    }\n",
              "    80% {\n",
              "      border-color: transparent;\n",
              "      border-right-color: var(--fill-color);\n",
              "      border-bottom-color: var(--fill-color);\n",
              "    }\n",
              "    90% {\n",
              "      border-color: transparent;\n",
              "      border-bottom-color: var(--fill-color);\n",
              "    }\n",
              "  }\n",
              "</style>\n",
              "\n",
              "  <script>\n",
              "    async function quickchart(key) {\n",
              "      const quickchartButtonEl =\n",
              "        document.querySelector('#' + key + ' button');\n",
              "      quickchartButtonEl.disabled = true;  // To prevent multiple clicks.\n",
              "      quickchartButtonEl.classList.add('colab-df-spinner');\n",
              "      try {\n",
              "        const charts = await google.colab.kernel.invokeFunction(\n",
              "            'suggestCharts', [key], {});\n",
              "      } catch (error) {\n",
              "        console.error('Error during call to suggestCharts:', error);\n",
              "      }\n",
              "      quickchartButtonEl.classList.remove('colab-df-spinner');\n",
              "      quickchartButtonEl.classList.add('colab-df-quickchart-complete');\n",
              "    }\n",
              "    (() => {\n",
              "      let quickchartButtonEl =\n",
              "        document.querySelector('#df-03f288fa-879a-4a25-ab32-c31a7609d5c0 button');\n",
              "      quickchartButtonEl.style.display =\n",
              "        google.colab.kernel.accessAllowed ? 'block' : 'none';\n",
              "    })();\n",
              "  </script>\n",
              "</div>\n",
              "    </div>\n",
              "  </div>\n"
            ],
            "application/vnd.google.colaboratory.intrinsic+json": {
              "type": "dataframe"
            }
          },
          "metadata": {},
          "execution_count": 328
        }
      ]
    },
    {
      "cell_type": "code",
      "source": [
        "plt.figure(figsize=(10, 5))\n",
        "plt.hist(train['price'], bins=500, lw=0)\n",
        "\n",
        "plt.show()"
      ],
      "metadata": {
        "colab": {
          "base_uri": "https://localhost:8080/",
          "height": 469
        },
        "id": "lbG3yyEkAo4n",
        "outputId": "0abe3565-d431-4f31-dc9b-549dde9a674f"
      },
      "execution_count": null,
      "outputs": [
        {
          "output_type": "display_data",
          "data": {
            "text/plain": [
              "<Figure size 1000x500 with 1 Axes>"
            ],
            "image/png": "[encoded data removed]"
          },
          "metadata": {}
        }
      ]
    },
    {
      "cell_type": "markdown",
      "source": [
        "Явно заметен выброс и тяжелый хвост в правой части"
      ],
      "metadata": {
        "id": "C7u2bgnsDN7N"
      }
    },
    {
      "cell_type": "code",
      "source": [
        "train['price'].value_counts()"
      ],
      "metadata": {
        "colab": {
          "base_uri": "https://localhost:8080/"
        },
        "id": "wzb_qHwvBY0G",
        "outputId": "c9cf6ebb-949b-4451-cab6-0387b754efb1"
      },
      "execution_count": null,
      "outputs": [
        {
          "output_type": "execute_result",
          "data": {
            "text/plain": [
              "price\n",
              "1000000     4079\n",
              "2935000       36\n",
              "2802000       35\n",
              "3200000       34\n",
              "2667000       31\n",
              "            ... \n",
              "33503000       1\n",
              "15319000       1\n",
              "13008000       1\n",
              "33233000       1\n",
              "20835000       1\n",
              "Name: count, Length: 15007, dtype: int64"
            ]
          },
          "metadata": {},
          "execution_count": 330
        }
      ]
    },
    {
      "cell_type": "code",
      "source": [
        "train[train['price'] == 1000000].describe()"
      ],
      "metadata": {
        "colab": {
          "base_uri": "https://localhost:8080/",
          "height": 320
        },
        "id": "FAWDlMymCGj2",
        "outputId": "f13ea03b-e26f-4a71-bcb0-07e9f2573558"
      },
      "execution_count": null,
      "outputs": [
        {
          "output_type": "execute_result",
          "data": {
            "text/plain": [
              "         street_id   build_tech        floor         area        rooms  \\\n",
              "count  4079.000000  2880.000000  4079.000000  4079.000000  4079.000000   \n",
              "mean    331.845060     0.516319     5.333905    52.497181     2.118902   \n",
              "std     195.569166     0.565057     4.001325    18.614937     0.832360   \n",
              "min       0.000000     0.000000     1.000000    29.000000     1.000000   \n",
              "25%     161.000000     0.000000     2.000000    40.000000     1.000000   \n",
              "50%     333.000000     0.000000     4.000000    52.000000     2.000000   \n",
              "75%     500.000000     1.000000     7.000000    60.000000     3.000000   \n",
              "max     671.000000     2.000000    25.000000   215.000000     6.000000   \n",
              "\n",
              "            balcon   metro_dist       g_lift     n_photos          kw1  \\\n",
              "count  4079.000000  3888.000000  2845.000000  4079.000000  4079.000000   \n",
              "mean      0.396666    22.033179     0.490685     2.469233     0.055896   \n",
              "std       0.548348     8.341390     0.500001     1.955105     0.229749   \n",
              "min       0.000000     0.000000     0.000000     0.000000     0.000000   \n",
              "25%       0.000000    15.000000     0.000000     1.000000     0.000000   \n",
              "50%       0.000000    25.000000     0.000000     2.000000     0.000000   \n",
              "75%       1.000000    30.000000     1.000000     4.000000     0.000000   \n",
              "max       2.000000    30.000000     1.000000    10.000000     1.000000   \n",
              "\n",
              "               kw2          kw3          kw4          kw5          kw6  \\\n",
              "count  4079.000000  4079.000000  4079.000000  4079.000000  4079.000000   \n",
              "mean      0.630056     0.006864     0.005639     0.004658     0.002206   \n",
              "std       0.482848     0.082577     0.074888     0.068099     0.046926   \n",
              "min       0.000000     0.000000     0.000000     0.000000     0.000000   \n",
              "25%       0.000000     0.000000     0.000000     0.000000     0.000000   \n",
              "50%       1.000000     0.000000     0.000000     0.000000     0.000000   \n",
              "75%       1.000000     0.000000     0.000000     0.000000     0.000000   \n",
              "max       1.000000     1.000000     1.000000     1.000000     1.000000   \n",
              "\n",
              "               kw7          kw8          kw9         kw10         kw11  \\\n",
              "count  4079.000000  4079.000000  4079.000000  4079.000000  4079.000000   \n",
              "mean      0.000735     0.007600     0.007845     0.002697     0.000245   \n",
              "std       0.027113     0.086856     0.088235     0.051866     0.015658   \n",
              "min       0.000000     0.000000     0.000000     0.000000     0.000000   \n",
              "25%       0.000000     0.000000     0.000000     0.000000     0.000000   \n",
              "50%       0.000000     0.000000     0.000000     0.000000     0.000000   \n",
              "75%       0.000000     0.000000     0.000000     0.000000     0.000000   \n",
              "max       1.000000     1.000000     1.000000     1.000000     1.000000   \n",
              "\n",
              "              kw12         kw13      price  \n",
              "count  4079.000000  4079.000000     4079.0  \n",
              "mean      0.001716     0.000245  1000000.0  \n",
              "std       0.041395     0.015658        0.0  \n",
              "min       0.000000     0.000000  1000000.0  \n",
              "25%       0.000000     0.000000  1000000.0  \n",
              "50%       0.000000     0.000000  1000000.0  \n",
              "75%       0.000000     0.000000  1000000.0  \n",
              "max       1.000000     1.000000  1000000.0  "
            ],
            "text/html": [
              "\n",
              "  <div id=\"df-dfcf35a0-de36-4073-a7c2-81570185c7a2\" class=\"colab-df-container\">\n",
              "    <div>\n",
              "<style scoped>\n",
              "    .dataframe tbody tr th:only-of-type {\n",
              "        vertical-align: middle;\n",
              "    }\n",
              "\n",
              "    .dataframe tbody tr th {\n",
              "        vertical-align: top;\n",
              "    }\n",
              "\n",
              "    .dataframe thead th {\n",
              "        text-align: right;\n",
              "    }\n",
              "</style>\n",
              "<table border=\"1\" class=\"dataframe\">\n",
              "  <thead>\n",
              "    <tr style=\"text-align: right;\">\n",
              "      <th></th>\n",
              "      <th>street_id</th>\n",
              "      <th>build_tech</th>\n",
              "      <th>floor</th>\n",
              "      <th>area</th>\n",
              "      <th>rooms</th>\n",
              "      <th>balcon</th>\n",
              "      <th>metro_dist</th>\n",
              "      <th>g_lift</th>\n",
              "      <th>n_photos</th>\n",
              "      <th>kw1</th>\n",
              "      <th>kw2</th>\n",
              "      <th>kw3</th>\n",
              "      <th>kw4</th>\n",
              "      <th>kw5</th>\n",
              "      <th>kw6</th>\n",
              "      <th>kw7</th>\n",
              "      <th>kw8</th>\n",
              "      <th>kw9</th>\n",
              "      <th>kw10</th>\n",
              "      <th>kw11</th>\n",
              "      <th>kw12</th>\n",
              "      <th>kw13</th>\n",
              "      <th>price</th>\n",
              "    </tr>\n",
              "  </thead>\n",
              "  <tbody>\n",
              "    <tr>\n",
              "      <th>count</th>\n",
              "      <td>4079.000000</td>\n",
              "      <td>2880.000000</td>\n",
              "      <td>4079.000000</td>\n",
              "      <td>4079.000000</td>\n",
              "      <td>4079.000000</td>\n",
              "      <td>4079.000000</td>\n",
              "      <td>3888.000000</td>\n",
              "      <td>2845.000000</td>\n",
              "      <td>4079.000000</td>\n",
              "      <td>4079.000000</td>\n",
              "      <td>4079.000000</td>\n",
              "      <td>4079.000000</td>\n",
              "      <td>4079.000000</td>\n",
              "      <td>4079.000000</td>\n",
              "      <td>4079.000000</td>\n",
              "      <td>4079.000000</td>\n",
              "      <td>4079.000000</td>\n",
              "      <td>4079.000000</td>\n",
              "      <td>4079.000000</td>\n",
              "      <td>4079.000000</td>\n",
              "      <td>4079.000000</td>\n",
              "      <td>4079.000000</td>\n",
              "      <td>4079.0</td>\n",
              "    </tr>\n",
              "    <tr>\n",
              "      <th>mean</th>\n",
              "      <td>331.845060</td>\n",
              "      <td>0.516319</td>\n",
              "      <td>5.333905</td>\n",
              "      <td>52.497181</td>\n",
              "      <td>2.118902</td>\n",
              "      <td>0.396666</td>\n",
              "      <td>22.033179</td>\n",
              "      <td>0.490685</td>\n",
              "      <td>2.469233</td>\n",
              "      <td>0.055896</td>\n",
              "      <td>0.630056</td>\n",
              "      <td>0.006864</td>\n",
              "      <td>0.005639</td>\n",
              "      <td>0.004658</td>\n",
              "      <td>0.002206</td>\n",
              "      <td>0.000735</td>\n",
              "      <td>0.007600</td>\n",
              "      <td>0.007845</td>\n",
              "      <td>0.002697</td>\n",
              "      <td>0.000245</td>\n",
              "      <td>0.001716</td>\n",
              "      <td>0.000245</td>\n",
              "      <td>1000000.0</td>\n",
              "    </tr>\n",
              "    <tr>\n",
              "      <th>std</th>\n",
              "      <td>195.569166</td>\n",
              "      <td>0.565057</td>\n",
              "      <td>4.001325</td>\n",
              "      <td>18.614937</td>\n",
              "      <td>0.832360</td>\n",
              "      <td>0.548348</td>\n",
              "      <td>8.341390</td>\n",
              "      <td>0.500001</td>\n",
              "      <td>1.955105</td>\n",
              "      <td>0.229749</td>\n",
              "      <td>0.482848</td>\n",
              "      <td>0.082577</td>\n",
              "      <td>0.074888</td>\n",
              "      <td>0.068099</td>\n",
              "      <td>0.046926</td>\n",
              "      <td>0.027113</td>\n",
              "      <td>0.086856</td>\n",
              "      <td>0.088235</td>\n",
              "      <td>0.051866</td>\n",
              "      <td>0.015658</td>\n",
              "      <td>0.041395</td>\n",
              "      <td>0.015658</td>\n",
              "      <td>0.0</td>\n",
              "    </tr>\n",
              "    <tr>\n",
              "      <th>min</th>\n",
              "      <td>0.000000</td>\n",
              "      <td>0.000000</td>\n",
              "      <td>1.000000</td>\n",
              "      <td>29.000000</td>\n",
              "      <td>1.000000</td>\n",
              "      <td>0.000000</td>\n",
              "      <td>0.000000</td>\n",
              "      <td>0.000000</td>\n",
              "      <td>0.000000</td>\n",
              "      <td>0.000000</td>\n",
              "      <td>0.000000</td>\n",
              "      <td>0.000000</td>\n",
              "      <td>0.000000</td>\n",
              "      <td>0.000000</td>\n",
              "      <td>0.000000</td>\n",
              "      <td>0.000000</td>\n",
              "      <td>0.000000</td>\n",
              "      <td>0.000000</td>\n",
              "      <td>0.000000</td>\n",
              "      <td>0.000000</td>\n",
              "      <td>0.000000</td>\n",
              "      <td>0.000000</td>\n",
              "      <td>1000000.0</td>\n",
              "    </tr>\n",
              "    <tr>\n",
              "      <th>25%</th>\n",
              "      <td>161.000000</td>\n",
              "      <td>0.000000</td>\n",
              "      <td>2.000000</td>\n",
              "      <td>40.000000</td>\n",
              "      <td>1.000000</td>\n",
              "      <td>0.000000</td>\n",
              "      <td>15.000000</td>\n",
              "      <td>0.000000</td>\n",
              "      <td>1.000000</td>\n",
              "      <td>0.000000</td>\n",
              "      <td>0.000000</td>\n",
              "      <td>0.000000</td>\n",
              "      <td>0.000000</td>\n",
              "      <td>0.000000</td>\n",
              "      <td>0.000000</td>\n",
              "      <td>0.000000</td>\n",
              "      <td>0.000000</td>\n",
              "      <td>0.000000</td>\n",
              "      <td>0.000000</td>\n",
              "      <td>0.000000</td>\n",
              "      <td>0.000000</td>\n",
              "      <td>0.000000</td>\n",
              "      <td>1000000.0</td>\n",
              "    </tr>\n",
              "    <tr>\n",
              "      <th>50%</th>\n",
              "      <td>333.000000</td>\n",
              "      <td>0.000000</td>\n",
              "      <td>4.000000</td>\n",
              "      <td>52.000000</td>\n",
              "      <td>2.000000</td>\n",
              "      <td>0.000000</td>\n",
              "      <td>25.000000</td>\n",
              "      <td>0.000000</td>\n",
              "      <td>2.000000</td>\n",
              "      <td>0.000000</td>\n",
              "      <td>1.000000</td>\n",
              "      <td>0.000000</td>\n",
              "      <td>0.000000</td>\n",
              "      <td>0.000000</td>\n",
              "      <td>0.000000</td>\n",
              "      <td>0.000000</td>\n",
              "      <td>0.000000</td>\n",
              "      <td>0.000000</td>\n",
              "      <td>0.000000</td>\n",
              "      <td>0.000000</td>\n",
              "      <td>0.000000</td>\n",
              "      <td>0.000000</td>\n",
              "      <td>1000000.0</td>\n",
              "    </tr>\n",
              "    <tr>\n",
              "      <th>75%</th>\n",
              "      <td>500.000000</td>\n",
              "      <td>1.000000</td>\n",
              "      <td>7.000000</td>\n",
              "      <td>60.000000</td>\n",
              "      <td>3.000000</td>\n",
              "      <td>1.000000</td>\n",
              "      <td>30.000000</td>\n",
              "      <td>1.000000</td>\n",
              "      <td>4.000000</td>\n",
              "      <td>0.000000</td>\n",
              "      <td>1.000000</td>\n",
              "      <td>0.000000</td>\n",
              "      <td>0.000000</td>\n",
              "      <td>0.000000</td>\n",
              "      <td>0.000000</td>\n",
              "      <td>0.000000</td>\n",
              "      <td>0.000000</td>\n",
              "      <td>0.000000</td>\n",
              "      <td>0.000000</td>\n",
              "      <td>0.000000</td>\n",
              "      <td>0.000000</td>\n",
              "      <td>0.000000</td>\n",
              "      <td>1000000.0</td>\n",
              "    </tr>\n",
              "    <tr>\n",
              "      <th>max</th>\n",
              "      <td>671.000000</td>\n",
              "      <td>2.000000</td>\n",
              "      <td>25.000000</td>\n",
              "      <td>215.000000</td>\n",
              "      <td>6.000000</td>\n",
              "      <td>2.000000</td>\n",
              "      <td>30.000000</td>\n",
              "      <td>1.000000</td>\n",
              "      <td>10.000000</td>\n",
              "      <td>1.000000</td>\n",
              "      <td>1.000000</td>\n",
              "      <td>1.000000</td>\n",
              "      <td>1.000000</td>\n",
              "      <td>1.000000</td>\n",
              "      <td>1.000000</td>\n",
              "      <td>1.000000</td>\n",
              "      <td>1.000000</td>\n",
              "      <td>1.000000</td>\n",
              "      <td>1.000000</td>\n",
              "      <td>1.000000</td>\n",
              "      <td>1.000000</td>\n",
              "      <td>1.000000</td>\n",
              "      <td>1000000.0</td>\n",
              "    </tr>\n",
              "  </tbody>\n",
              "</table>\n",
              "</div>\n",
              "    <div class=\"colab-df-buttons\">\n",
              "\n",
              "  <div class=\"colab-df-container\">\n",
              "    <button class=\"colab-df-convert\" onclick=\"convertToInteractive('df-dfcf35a0-de36-4073-a7c2-81570185c7a2')\"\n",
              "            title=\"Convert this dataframe to an interactive table.\"\n",
              "            style=\"display:none;\">\n",
              "\n",
              "  <svg xmlns=\"http://www.w3.org/2000/svg\" height=\"24px\" viewBox=\"0 -960 960 960\">\n",
              "    <path d=\"M120-120v-720h720v720H120Zm60-500h600v-160H180v160Zm220 220h160v-160H400v160Zm0 220h160v-160H400v160ZM180-400h160v-160H180v160Zm440 0h160v-160H620v160ZM180-180h160v-160H180v160Zm440 0h160v-160H620v160Z\"/>\n",
              "  </svg>\n",
              "    </button>\n",
              "\n",
              "  <style>\n",
              "    .colab-df-container {\n",
              "      display:flex;\n",
              "      gap: 12px;\n",
              "    }\n",
              "\n",
              "    .colab-df-convert {\n",
              "      background-color: #E8F0FE;\n",
              "      border: none;\n",
              "      border-radius: 50%;\n",
              "      cursor: pointer;\n",
              "      display: none;\n",
              "      fill: #1967D2;\n",
              "      height: 32px;\n",
              "      padding: 0 0 0 0;\n",
              "      width: 32px;\n",
              "    }\n",
              "\n",
              "    .colab-df-convert:hover {\n",
              "      background-color: #E2EBFA;\n",
              "      box-shadow: 0px 1px 2px rgba(60, 64, 67, 0.3), 0px 1px 3px 1px rgba(60, 64, 67, 0.15);\n",
              "      fill: #174EA6;\n",
              "    }\n",
              "\n",
              "    .colab-df-buttons div {\n",
              "      margin-bottom: 4px;\n",
              "    }\n",
              "\n",
              "    [theme=dark] .colab-df-convert {\n",
              "      background-color: #3B4455;\n",
              "      fill: #D2E3FC;\n",
              "    }\n",
              "\n",
              "    [theme=dark] .colab-df-convert:hover {\n",
              "      background-color: #434B5C;\n",
              "      box-shadow: 0px 1px 3px 1px rgba(0, 0, 0, 0.15);\n",
              "      filter: drop-shadow(0px 1px 2px rgba(0, 0, 0, 0.3));\n",
              "      fill: #FFFFFF;\n",
              "    }\n",
              "  </style>\n",
              "\n",
              "    <script>\n",
              "      const buttonEl =\n",
              "        document.querySelector('#df-dfcf35a0-de36-4073-a7c2-81570185c7a2 button.colab-df-convert');\n",
              "      buttonEl.style.display =\n",
              "        google.colab.kernel.accessAllowed ? 'block' : 'none';\n",
              "\n",
              "      async function convertToInteractive(key) {\n",
              "        const element = document.querySelector('#df-dfcf35a0-de36-4073-a7c2-81570185c7a2');\n",
              "        const dataTable =\n",
              "          await google.colab.kernel.invokeFunction('convertToInteractive',\n",
              "                                                    [key], {});\n",
              "        if (!dataTable) return;\n",
              "\n",
              "        const docLinkHtml = 'Like what you see? Visit the ' +\n",
              "          '<a target=\"_blank\" href=https://colab.research.google.com/notebooks/data_table.ipynb>data table notebook</a>'\n",
              "          + ' to learn more about interactive tables.';\n",
              "        element.innerHTML = '';\n",
              "        dataTable['output_type'] = 'display_data';\n",
              "        await google.colab.output.renderOutput(dataTable, element);\n",
              "        const docLink = document.createElement('div');\n",
              "        docLink.innerHTML = docLinkHtml;\n",
              "        element.appendChild(docLink);\n",
              "      }\n",
              "    </script>\n",
              "  </div>\n",
              "\n",
              "\n",
              "<div id=\"df-70f467ae-e007-4eca-a03b-0bc33cb57fed\">\n",
              "  <button class=\"colab-df-quickchart\" onclick=\"quickchart('df-70f467ae-e007-4eca-a03b-0bc33cb57fed')\"\n",
              "            title=\"Suggest charts\"\n",
              "            style=\"display:none;\">\n",
              "\n",
              "<svg xmlns=\"http://www.w3.org/2000/svg\" height=\"24px\"viewBox=\"0 0 24 24\"\n",
              "     width=\"24px\">\n",
              "    <g>\n",
              "        <path d=\"M19 3H5c-1.1 0-2 .9-2 2v14c0 1.1.9 2 2 2h14c1.1 0 2-.9 2-2V5c0-1.1-.9-2-2-2zM9 17H7v-7h2v7zm4 0h-2V7h2v10zm4 0h-2v-4h2v4z\"/>\n",
              "    </g>\n",
              "</svg>\n",
              "  </button>\n",
              "\n",
              "<style>\n",
              "  .colab-df-quickchart {\n",
              "      --bg-color: #E8F0FE;\n",
              "      --fill-color: #1967D2;\n",
              "      --hover-bg-color: #E2EBFA;\n",
              "      --hover-fill-color: #174EA6;\n",
              "      --disabled-fill-color: #AAA;\n",
              "      --disabled-bg-color: #DDD;\n",
              "  }\n",
              "\n",
              "  [theme=dark] .colab-df-quickchart {\n",
              "      --bg-color: #3B4455;\n",
              "      --fill-color: #D2E3FC;\n",
              "      --hover-bg-color: #434B5C;\n",
              "      --hover-fill-color: #FFFFFF;\n",
              "      --disabled-bg-color: #3B4455;\n",
              "      --disabled-fill-color: #666;\n",
              "  }\n",
              "\n",
              "  .colab-df-quickchart {\n",
              "    background-color: var(--bg-color);\n",
              "    border: none;\n",
              "    border-radius: 50%;\n",
              "    cursor: pointer;\n",
              "    display: none;\n",
              "    fill: var(--fill-color);\n",
              "    height: 32px;\n",
              "    padding: 0;\n",
              "    width: 32px;\n",
              "  }\n",
              "\n",
              "  .colab-df-quickchart:hover {\n",
              "    background-color: var(--hover-bg-color);\n",
              "    box-shadow: 0 1px 2px rgba(60, 64, 67, 0.3), 0 1px 3px 1px rgba(60, 64, 67, 0.15);\n",
              "    fill: var(--button-hover-fill-color);\n",
              "  }\n",
              "\n",
              "  .colab-df-quickchart-complete:disabled,\n",
              "  .colab-df-quickchart-complete:disabled:hover {\n",
              "    background-color: var(--disabled-bg-color);\n",
              "    fill: var(--disabled-fill-color);\n",
              "    box-shadow: none;\n",
              "  }\n",
              "\n",
              "  .colab-df-spinner {\n",
              "    border: 2px solid var(--fill-color);\n",
              "    border-color: transparent;\n",
              "    border-bottom-color: var(--fill-color);\n",
              "    animation:\n",
              "      spin 1s steps(1) infinite;\n",
              "  }\n",
              "\n",
              "  @keyframes spin {\n",
              "    0% {\n",
              "      border-color: transparent;\n",
              "      border-bottom-color: var(--fill-color);\n",
              "      border-left-color: var(--fill-color);\n",
              "    }\n",
              "    20% {\n",
              "      border-color: transparent;\n",
              "      border-left-color: var(--fill-color);\n",
              "      border-top-color: var(--fill-color);\n",
              "    }\n",
              "    30% {\n",
              "      border-color: transparent;\n",
              "      border-left-color: var(--fill-color);\n",
              "      border-top-color: var(--fill-color);\n",
              "      border-right-color: var(--fill-color);\n",
              "    }\n",
              "    40% {\n",
              "      border-color: transparent;\n",
              "      border-right-color: var(--fill-color);\n",
              "      border-top-color: var(--fill-color);\n",
              "    }\n",
              "    60% {\n",
              "      border-color: transparent;\n",
              "      border-right-color: var(--fill-color);\n",
              "    }\n",
              "    80% {\n",
              "      border-color: transparent;\n",
              "      border-right-color: var(--fill-color);\n",
              "      border-bottom-color: var(--fill-color);\n",
              "    }\n",
              "    90% {\n",
              "      border-color: transparent;\n",
              "      border-bottom-color: var(--fill-color);\n",
              "    }\n",
              "  }\n",
              "</style>\n",
              "\n",
              "  <script>\n",
              "    async function quickchart(key) {\n",
              "      const quickchartButtonEl =\n",
              "        document.querySelector('#' + key + ' button');\n",
              "      quickchartButtonEl.disabled = true;  // To prevent multiple clicks.\n",
              "      quickchartButtonEl.classList.add('colab-df-spinner');\n",
              "      try {\n",
              "        const charts = await google.colab.kernel.invokeFunction(\n",
              "            'suggestCharts', [key], {});\n",
              "      } catch (error) {\n",
              "        console.error('Error during call to suggestCharts:', error);\n",
              "      }\n",
              "      quickchartButtonEl.classList.remove('colab-df-spinner');\n",
              "      quickchartButtonEl.classList.add('colab-df-quickchart-complete');\n",
              "    }\n",
              "    (() => {\n",
              "      let quickchartButtonEl =\n",
              "        document.querySelector('#df-70f467ae-e007-4eca-a03b-0bc33cb57fed button');\n",
              "      quickchartButtonEl.style.display =\n",
              "        google.colab.kernel.accessAllowed ? 'block' : 'none';\n",
              "    })();\n",
              "  </script>\n",
              "</div>\n",
              "    </div>\n",
              "  </div>\n"
            ],
            "application/vnd.google.colaboratory.intrinsic+json": {
              "type": "dataframe"
            }
          },
          "metadata": {},
          "execution_count": 331
        }
      ]
    },
    {
      "cell_type": "markdown",
      "source": [
        "У фич с \"выбросным\" таргетом достаточно большой(относительно их масштаба) разброс, будем считать, что это все-таки выбросы и почистим такие объекты."
      ],
      "metadata": {
        "id": "4cjOb1VyDEp5"
      }
    },
    {
      "cell_type": "code",
      "source": [
        "train.drop(train.index[train['price'] == 1000000], inplace=True)"
      ],
      "metadata": {
        "id": "atTJx7GdCM_1"
      },
      "execution_count": null,
      "outputs": []
    },
    {
      "cell_type": "markdown",
      "source": [
        "Почистим хвост"
      ],
      "metadata": {
        "id": "mcCS_k2FE5GQ"
      }
    },
    {
      "cell_type": "code",
      "source": [
        "percentile_99 = train['price'].quantile(0.99)\n",
        "percentile_99"
      ],
      "metadata": {
        "colab": {
          "base_uri": "https://localhost:8080/"
        },
        "id": "2dlna8HlEVOe",
        "outputId": "9b89fb1e-2f18-45b5-ed0a-6bcd42eddaa2"
      },
      "execution_count": null,
      "outputs": [
        {
          "output_type": "execute_result",
          "data": {
            "text/plain": [
              "22601200.00000004"
            ]
          },
          "metadata": {},
          "execution_count": 333
        }
      ]
    },
    {
      "cell_type": "code",
      "source": [
        "train.drop(train.index[ train['price'] > percentile_99], inplace=True)"
      ],
      "metadata": {
        "id": "oAwtS05jFDpq"
      },
      "execution_count": null,
      "outputs": []
    },
    {
      "cell_type": "code",
      "source": [
        "plt.figure(figsize=(10, 5))\n",
        "plt.hist(train['price'], bins=500, lw=0)\n",
        "\n",
        "plt.show()"
      ],
      "metadata": {
        "colab": {
          "base_uri": "https://localhost:8080/",
          "height": 469
        },
        "id": "d2Tm0diBFOq2",
        "outputId": "db229ea6-5133-461d-d577-846f3b382567"
      },
      "execution_count": null,
      "outputs": [
        {
          "output_type": "display_data",
          "data": {
            "text/plain": [
              "<Figure size 1000x500 with 1 Axes>"
            ],
            "image/png": "[encoded data removed]"
          },
          "metadata": {}
        }
      ]
    },
    {
      "cell_type": "markdown",
      "source": [
        "Осталось какое-то сомнительное значение на уровне 0.5 * 1e7, но пока не будем его трогать"
      ],
      "metadata": {
        "id": "Tem4DyoqL1fH"
      }
    },
    {
      "cell_type": "code",
      "source": [
        "numeric_data = train.drop(columns='price').select_dtypes([np.number])\n",
        "numeric_features = numeric_data.columns\n",
        "\n",
        "correlations = train[numeric_features].corrwith(train['price']).sort_values(ascending=False)\n",
        "\n",
        "plt.figure(figsize=(10, 5))\n",
        "sns.barplot(y=correlations.index, x=correlations)\n",
        "plt.xlabel('')\n",
        "plt.ylabel('')\n",
        "plt.show()"
      ],
      "metadata": {
        "colab": {
          "base_uri": "https://localhost:8080/",
          "height": 450
        },
        "id": "6wxkzzB6FSBE",
        "outputId": "28d10598-24a5-4887-fdb2-42b052073009"
      },
      "execution_count": null,
      "outputs": [
        {
          "output_type": "display_data",
          "data": {
            "text/plain": [
              "<Figure size 1000x500 with 1 Axes>"
            ],
            "image/png": "[encoded data removed]"
          },
          "metadata": {}
        }
      ]
    },
    {
      "cell_type": "markdown",
      "source": [
        "Большая корреляция между таргетом и площадью, можно будет построить дополнительный признак (цену за квадратный метр, например)"
      ],
      "metadata": {
        "id": "n4hbyaY0I2wy"
      }
    },
    {
      "cell_type": "markdown",
      "source": [
        "Неудобно работать с датой в формате год-месяц + это невозможно скормить моделям, поэтому тоже будем преобразовывать. Нагенерируем новых признаков - разделим год и месяц, посчитаем кол-во месяцев, прошедших с момента выставления первого объявления(с течением времени цена должна подниматься - инфляция и все такое)"
      ],
      "metadata": {
        "id": "b7nZ8-T7OB4W"
      }
    },
    {
      "cell_type": "code",
      "source": [
        "train['year'] = pd.DatetimeIndex(train['date']).year\n",
        "train['month'] = pd.DatetimeIndex(train['date']).month\n",
        "train['months_from_start'] = (pd.DatetimeIndex(train['date']).year - 2011) * 12 + pd.DatetimeIndex(train['date']).month"
      ],
      "metadata": {
        "id": "3yVCQvumPdp0"
      },
      "execution_count": null,
      "outputs": []
    },
    {
      "cell_type": "code",
      "source": [
        "numeric_data = train.drop(columns='price').select_dtypes([np.number])\n",
        "numeric_features = numeric_data.columns\n",
        "\n",
        "correlations = train[numeric_features].corrwith(train['price']).sort_values(ascending=False)\n",
        "\n",
        "plt.figure(figsize=(10, 5))\n",
        "sns.barplot(y=correlations.index, x=correlations)\n",
        "plt.xlabel('')\n",
        "plt.ylabel('')\n",
        "plt.show()"
      ],
      "metadata": {
        "colab": {
          "base_uri": "https://localhost:8080/",
          "height": 450
        },
        "id": "ScPGi0jZQdoH",
        "outputId": "237995a4-e908-42b5-d62e-ceeba90468fd"
      },
      "execution_count": null,
      "outputs": [
        {
          "output_type": "display_data",
          "data": {
            "text/plain": [
              "<Figure size 1000x500 with 1 Axes>"
            ],
            "image/png": "[encoded data removed]"
          },
          "metadata": {}
        }
      ]
    },
    {
      "cell_type": "code",
      "source": [
        "train.drop(columns='date', inplace=True)"
      ],
      "metadata": {
        "id": "cKKIISNDR0Va"
      },
      "execution_count": null,
      "outputs": []
    },
    {
      "cell_type": "markdown",
      "source": [
        "# Работа с пропусками"
      ],
      "metadata": {
        "id": "o27i4HNzKJfM"
      }
    },
    {
      "cell_type": "code",
      "source": [
        "train.isna().sum()"
      ],
      "metadata": {
        "colab": {
          "base_uri": "https://localhost:8080/"
        },
        "id": "nohOeUAtJ-EX",
        "outputId": "9b98f3e9-12c9-43dd-82f6-7c75e8107f55"
      },
      "execution_count": null,
      "outputs": [
        {
          "output_type": "execute_result",
          "data": {
            "text/plain": [
              "street_id                0\n",
              "build_tech           28276\n",
              "floor                    0\n",
              "area                     0\n",
              "rooms                    0\n",
              "balcon                   0\n",
              "metro_dist            4658\n",
              "g_lift               28465\n",
              "n_photos                 0\n",
              "kw1                      0\n",
              "kw2                      0\n",
              "kw3                      0\n",
              "kw4                      0\n",
              "kw5                      0\n",
              "kw6                      0\n",
              "kw7                      0\n",
              "kw8                      0\n",
              "kw9                      0\n",
              "kw10                     0\n",
              "kw11                     0\n",
              "kw12                     0\n",
              "kw13                     0\n",
              "price                    0\n",
              "year                     0\n",
              "month                    0\n",
              "months_from_start        0\n",
              "dtype: int64"
            ]
          },
          "metadata": {},
          "execution_count": 340
        }
      ]
    },
    {
      "cell_type": "markdown",
      "source": [
        "В build_tech, metro_dist, g_lift есть пропуски - будем думать, что с ними делать"
      ],
      "metadata": {
        "id": "tfE8WVI0KPkI"
      }
    },
    {
      "cell_type": "markdown",
      "source": [
        "## g_lift"
      ],
      "metadata": {
        "id": "IvJeXZIbTABv"
      }
    },
    {
      "cell_type": "code",
      "source": [
        "train.g_lift.value_counts()"
      ],
      "metadata": {
        "colab": {
          "base_uri": "https://localhost:8080/"
        },
        "id": "vgIiRMTeTDmB",
        "outputId": "9b9cc1fa-d672-439c-8063-549cbdb262f6"
      },
      "execution_count": null,
      "outputs": [
        {
          "output_type": "execute_result",
          "data": {
            "text/plain": [
              "g_lift\n",
              "1.0    33357\n",
              "0.0    33139\n",
              "Name: count, dtype: int64"
            ]
          },
          "metadata": {},
          "execution_count": 341
        }
      ]
    },
    {
      "cell_type": "code",
      "source": [
        "missed = ['build_tech', 'metro_dist', 'g_lift']"
      ],
      "metadata": {
        "id": "s6mRNqd8T8LF"
      },
      "execution_count": null,
      "outputs": []
    },
    {
      "cell_type": "code",
      "source": [
        "features = train.drop(columns=missed).columns\n",
        "\n",
        "correlations = train[features].corrwith(train['g_lift']).sort_values(ascending=False)\n",
        "\n",
        "plt.figure(figsize=(10, 5))\n",
        "sns.barplot(y=correlations.index, x=correlations)\n",
        "plt.xlabel('')\n",
        "plt.ylabel('')\n",
        "plt.show()"
      ],
      "metadata": {
        "colab": {
          "base_uri": "https://localhost:8080/",
          "height": 450
        },
        "id": "sNCcSzvVUEE0",
        "outputId": "fbeeda84-a785-478f-ce0b-413fd13ba707"
      },
      "execution_count": null,
      "outputs": [
        {
          "output_type": "display_data",
          "data": {
            "text/plain": [
              "<Figure size 1000x500 with 1 Axes>"
            ],
            "image/png": "[encoded data removed]"
          },
          "metadata": {}
        }
      ]
    },
    {
      "cell_type": "markdown",
      "source": [
        "сам g_lift слабо коррелирует с таргетом, с другими фичами - тоже, не пропущенные значения распределены равномерно - явного алгоритма восстановления не видно. объектом с пропуском в g_lift много, удалять их все нельзя - потеряю много данных. есть идеи - либо удалить сам признак, либо заполнить пропуски рандомно 0 или 1, пока попробуем первое"
      ],
      "metadata": {
        "id": "jOlu0yHeUdM_"
      }
    },
    {
      "cell_type": "code",
      "source": [
        "del train['g_lift']"
      ],
      "metadata": {
        "id": "jkByideNVJb5"
      },
      "execution_count": null,
      "outputs": []
    },
    {
      "cell_type": "markdown",
      "source": [
        "## metro_dist"
      ],
      "metadata": {
        "id": "LISezsW5R_G1"
      }
    },
    {
      "cell_type": "code",
      "source": [
        "train.metro_dist.value_counts()"
      ],
      "metadata": {
        "colab": {
          "base_uri": "https://localhost:8080/"
        },
        "id": "cm4AGrCiSZ6Y",
        "outputId": "8ecd8aac-7ede-4c67-e902-15ca9b46998c"
      },
      "execution_count": null,
      "outputs": [
        {
          "output_type": "execute_result",
          "data": {
            "text/plain": [
              "metro_dist\n",
              "30.0    35605\n",
              "25.0    15224\n",
              "20.0    13604\n",
              "15.0    11853\n",
              "10.0     8220\n",
              "5.0      4319\n",
              "0.0      1478\n",
              "Name: count, dtype: int64"
            ]
          },
          "metadata": {},
          "execution_count": 345
        }
      ]
    },
    {
      "cell_type": "code",
      "source": [
        "plt.hist(train.metro_dist)\n",
        "plt.show()"
      ],
      "metadata": {
        "colab": {
          "base_uri": "https://localhost:8080/",
          "height": 434
        },
        "id": "5Qi9EXioSFli",
        "outputId": "c6dbcb94-761f-40d7-db17-127d875e326e"
      },
      "execution_count": null,
      "outputs": [
        {
          "output_type": "display_data",
          "data": {
            "text/plain": [
              "<Figure size 640x480 with 1 Axes>"
            ],
            "image/png": "[encoded data removed]"
          },
          "metadata": {}
        }
      ]
    },
    {
      "cell_type": "code",
      "source": [
        "train[\"metro_dist\"] = train[\"metro_dist\"].fillna(train[\"metro_dist\"].mean())"
      ],
      "metadata": {
        "id": "JlJo31xTW-Kj"
      },
      "execution_count": null,
      "outputs": []
    },
    {
      "cell_type": "markdown",
      "source": [
        "## build_tech"
      ],
      "metadata": {
        "id": "MqjRJOaPKteo"
      }
    },
    {
      "cell_type": "markdown",
      "source": [
        "Сильно коррелирует с таргетом - это важный признак, к тому же категориальный. Обучим случайный лес для заполнения пропусков"
      ],
      "metadata": {
        "id": "2TsmlKqRMWSE"
      }
    },
    {
      "cell_type": "code",
      "source": [
        "from sklearn.ensemble import RandomForestClassifier"
      ],
      "metadata": {
        "id": "rnuXHifsNFoc"
      },
      "execution_count": null,
      "outputs": []
    },
    {
      "cell_type": "code",
      "source": [
        "bt_fillna_train = train[train[\"build_tech\"].notnull()].drop(columns=[\"build_tech\", 'price'])\n",
        "bt_fillna_target = train[train[\"build_tech\"].notnull()][\"build_tech\"].astype(int)"
      ],
      "metadata": {
        "id": "V1STMgUxK3xZ"
      },
      "execution_count": null,
      "outputs": []
    },
    {
      "cell_type": "code",
      "source": [
        "bt_fillna = RandomForestClassifier()\n",
        "bt_fillna.fit(bt_fillna_train, bt_fillna_target)"
      ],
      "metadata": {
        "colab": {
          "base_uri": "https://localhost:8080/",
          "height": 75
        },
        "id": "hYKAgSWXNB5F",
        "outputId": "ec84a760-c309-4e82-b7b5-9815f1ae03eb"
      },
      "execution_count": null,
      "outputs": [
        {
          "output_type": "execute_result",
          "data": {
            "text/plain": [
              "RandomForestClassifier()"
            ],
            "text/html": [
              "<style>#sk-container-id-4 {color: black;background-color: white;}#sk-container-id-4 pre{padding: 0;}#sk-container-id-4 div.sk-toggleable {background-color: white;}#sk-container-id-4 label.sk-toggleable__label {cursor: pointer;display: block;width: 100%;margin-bottom: 0;padding: 0.3em;box-sizing: border-box;text-align: center;}#sk-container-id-4 label.sk-toggleable__label-arrow:before {content: \"▸\";float: left;margin-right: 0.25em;color: #696969;}#sk-container-id-4 label.sk-toggleable__label-arrow:hover:before {color: black;}#sk-container-id-4 div.sk-estimator:hover label.sk-toggleable__label-arrow:before {color: black;}#sk-container-id-4 div.sk-toggleable__content {max-height: 0;max-width: 0;overflow: hidden;text-align: left;background-color: #f0f8ff;}#sk-container-id-4 div.sk-toggleable__content pre {margin: 0.2em;color: black;border-radius: 0.25em;background-color: #f0f8ff;}#sk-container-id-4 input.sk-toggleable__control:checked~div.sk-toggleable__content {max-height: 200px;max-width: 100%;overflow: auto;}#sk-container-id-4 input.sk-toggleable__control:checked~label.sk-toggleable__label-arrow:before {content: \"▾\";}#sk-container-id-4 div.sk-estimator input.sk-toggleable__control:checked~label.sk-toggleable__label {background-color: #d4ebff;}#sk-container-id-4 div.sk-label input.sk-toggleable__control:checked~label.sk-toggleable__label {background-color: #d4ebff;}#sk-container-id-4 input.sk-hidden--visually {border: 0;clip: rect(1px 1px 1px 1px);clip: rect(1px, 1px, 1px, 1px);height: 1px;margin: -1px;overflow: hidden;padding: 0;position: absolute;width: 1px;}#sk-container-id-4 div.sk-estimator {font-family: monospace;background-color: #f0f8ff;border: 1px dotted black;border-radius: 0.25em;box-sizing: border-box;margin-bottom: 0.5em;}#sk-container-id-4 div.sk-estimator:hover {background-color: #d4ebff;}#sk-container-id-4 div.sk-parallel-item::after {content: \"\";width: 100%;border-bottom: 1px solid gray;flex-grow: 1;}#sk-container-id-4 div.sk-label:hover label.sk-toggleable__label {background-color: #d4ebff;}#sk-container-id-4 div.sk-serial::before {content: \"\";position: absolute;border-left: 1px solid gray;box-sizing: border-box;top: 0;bottom: 0;left: 50%;z-index: 0;}#sk-container-id-4 div.sk-serial {display: flex;flex-direction: column;align-items: center;background-color: white;padding-right: 0.2em;padding-left: 0.2em;position: relative;}#sk-container-id-4 div.sk-item {position: relative;z-index: 1;}#sk-container-id-4 div.sk-parallel {display: flex;align-items: stretch;justify-content: center;background-color: white;position: relative;}#sk-container-id-4 div.sk-item::before, #sk-container-id-4 div.sk-parallel-item::before {content: \"\";position: absolute;border-left: 1px solid gray;box-sizing: border-box;top: 0;bottom: 0;left: 50%;z-index: -1;}#sk-container-id-4 div.sk-parallel-item {display: flex;flex-direction: column;z-index: 1;position: relative;background-color: white;}#sk-container-id-4 div.sk-parallel-item:first-child::after {align-self: flex-end;width: 50%;}#sk-container-id-4 div.sk-parallel-item:last-child::after {align-self: flex-start;width: 50%;}#sk-container-id-4 div.sk-parallel-item:only-child::after {width: 0;}#sk-container-id-4 div.sk-dashed-wrapped {border: 1px dashed gray;margin: 0 0.4em 0.5em 0.4em;box-sizing: border-box;padding-bottom: 0.4em;background-color: white;}#sk-container-id-4 div.sk-label label {font-family: monospace;font-weight: bold;display: inline-block;line-height: 1.2em;}#sk-container-id-4 div.sk-label-container {text-align: center;}#sk-container-id-4 div.sk-container {/* jupyter's `normalize.less` sets `[hidden] { display: none; }` but bootstrap.min.css set `[hidden] { display: none !important; }` so we also need the `!important` here to be able to override the default hidden behavior on the sphinx rendered scikit-learn.org. See: https://github.com/scikit-learn/scikit-learn/issues/21755 */display: inline-block !important;position: relative;}#sk-container-id-4 div.sk-text-repr-fallback {display: none;}</style><div id=\"sk-container-id-4\" class=\"sk-top-container\"><div class=\"sk-text-repr-fallback\"><pre>RandomForestClassifier()</pre><b>In a Jupyter environment, please rerun this cell to show the HTML representation or trust the notebook. <br />On GitHub, the HTML representation is unable to render, please try loading this page with nbviewer.org.</b></div><div class=\"sk-container\" hidden><div class=\"sk-item\"><div class=\"sk-estimator sk-toggleable\"><input class=\"sk-toggleable__control sk-hidden--visually\" id=\"sk-estimator-id-4\" type=\"checkbox\" checked><label for=\"sk-estimator-id-4\" class=\"sk-toggleable__label sk-toggleable__label-arrow\">RandomForestClassifier</label><div class=\"sk-toggleable__content\"><pre>RandomForestClassifier()</pre></div></div></div></div></div>"
            ]
          },
          "metadata": {},
          "execution_count": 350
        }
      ]
    },
    {
      "cell_type": "code",
      "source": [
        "from sklearn.metrics import accuracy_score\n",
        "\n",
        "accuracy_score(bt_fillna_target, bt_fillna.predict(bt_fillna_train))"
      ],
      "metadata": {
        "colab": {
          "base_uri": "https://localhost:8080/"
        },
        "id": "lDDGTMwMXV6o",
        "outputId": "0ca4a804-491e-4819-964b-7ed27dec09ee"
      },
      "execution_count": null,
      "outputs": [
        {
          "output_type": "execute_result",
          "data": {
            "text/plain": [
              "0.9999850041238659"
            ]
          },
          "metadata": {},
          "execution_count": 351
        }
      ]
    },
    {
      "cell_type": "code",
      "source": [
        "fill_with = pd.DataFrame({'build_tech': bt_fillna.predict(train[train[\"build_tech\"].isna()].drop(columns=[\"build_tech\", \"price\"]))}, index = train.index[train[\"build_tech\"].isna()]).squeeze()"
      ],
      "metadata": {
        "id": "PYFaUrj9ZfVh"
      },
      "execution_count": null,
      "outputs": []
    },
    {
      "cell_type": "code",
      "source": [
        "train['build_tech'].fillna(fill_with, inplace=True)"
      ],
      "metadata": {
        "id": "XAKXyFDrX-pb"
      },
      "execution_count": null,
      "outputs": []
    },
    {
      "cell_type": "code",
      "source": [
        "train['build_tech'] = train['build_tech'].apply(lambda x: int(x))"
      ],
      "metadata": {
        "id": "2HMndFRIejoq"
      },
      "execution_count": null,
      "outputs": []
    },
    {
      "cell_type": "markdown",
      "source": [
        "# CatBoost"
      ],
      "metadata": {
        "id": "VLAdW7PJJ0Os"
      }
    },
    {
      "cell_type": "code",
      "source": [
        "!pip install catboost"
      ],
      "metadata": {
        "colab": {
          "base_uri": "https://localhost:8080/"
        },
        "id": "clQsMQ57Jy5x",
        "outputId": "e766652f-879a-490b-b7da-e31678ce765b"
      },
      "execution_count": null,
      "outputs": [
        {
          "output_type": "stream",
          "name": "stdout",
          "text": [
            "Requirement already satisfied: catboost in /usr/local/lib/python3.10/dist-packages (1.2.5)\n",
            "Requirement already satisfied: graphviz in /usr/local/lib/python3.10/dist-packages (from catboost) (0.20.3)\n",
            "Requirement already satisfied: matplotlib in /usr/local/lib/python3.10/dist-packages (from catboost) (3.7.1)\n",
            "Requirement already satisfied: numpy>=1.16.0 in /usr/local/lib/python3.10/dist-packages (from catboost) (1.25.2)\n",
            "Requirement already satisfied: pandas>=0.24 in /usr/local/lib/python3.10/dist-packages (from catboost) (2.0.3)\n",
            "Requirement already satisfied: scipy in /usr/local/lib/python3.10/dist-packages (from catboost) (1.11.4)\n",
            "Requirement already satisfied: plotly in /usr/local/lib/python3.10/dist-packages (from catboost) (5.15.0)\n",
            "Requirement already satisfied: six in /usr/local/lib/python3.10/dist-packages (from catboost) (1.16.0)\n",
            "Requirement already satisfied: python-dateutil>=2.8.2 in /usr/local/lib/python3.10/dist-packages (from pandas>=0.24->catboost) (2.8.2)\n",
            "Requirement already satisfied: pytz>=2020.1 in /usr/local/lib/python3.10/dist-packages (from pandas>=0.24->catboost) (2023.4)\n",
            "Requirement already satisfied: tzdata>=2022.1 in /usr/local/lib/python3.10/dist-packages (from pandas>=0.24->catboost) (2024.1)\n",
            "Requirement already satisfied: contourpy>=1.0.1 in /usr/local/lib/python3.10/dist-packages (from matplotlib->catboost) (1.2.1)\n",
            "Requirement already satisfied: cycler>=0.10 in /usr/local/lib/python3.10/dist-packages (from matplotlib->catboost) (0.12.1)\n",
            "Requirement already satisfied: fonttools>=4.22.0 in /usr/local/lib/python3.10/dist-packages (from matplotlib->catboost) (4.51.0)\n",
            "Requirement already satisfied: kiwisolver>=1.0.1 in /usr/local/lib/python3.10/dist-packages (from matplotlib->catboost) (1.4.5)\n",
            "Requirement already satisfied: packaging>=20.0 in /usr/local/lib/python3.10/dist-packages (from matplotlib->catboost) (24.0)\n",
            "Requirement already satisfied: pillow>=6.2.0 in /usr/local/lib/python3.10/dist-packages (from matplotlib->catboost) (9.4.0)\n",
            "Requirement already satisfied: pyparsing>=2.3.1 in /usr/local/lib/python3.10/dist-packages (from matplotlib->catboost) (3.1.2)\n",
            "Requirement already satisfied: tenacity>=6.2.0 in /usr/local/lib/python3.10/dist-packages (from plotly->catboost) (8.2.3)\n"
          ]
        }
      ]
    },
    {
      "cell_type": "code",
      "source": [
        "from catboost import CatBoostRegressor\n",
        "from catboost import Pool\n",
        "from sklearn.metrics import mean_absolute_error as mae"
      ],
      "metadata": {
        "id": "6yDuIe3RbD3W"
      },
      "execution_count": null,
      "outputs": []
    },
    {
      "cell_type": "code",
      "source": [
        "X = train.drop(columns='price')\n",
        "y = train.price.values"
      ],
      "metadata": {
        "id": "4tyr_DB5b2A9"
      },
      "execution_count": null,
      "outputs": []
    },
    {
      "cell_type": "code",
      "source": [
        "from sklearn.model_selection import train_test_split\n",
        "\n",
        "X_train, X_test, y_train, y_test = train_test_split(train, y, test_size=0.2, random_state=42)"
      ],
      "metadata": {
        "id": "mMwDobvpbVuK"
      },
      "execution_count": null,
      "outputs": []
    },
    {
      "cell_type": "code",
      "source": [
        "features = X.columns\n",
        "cat_features = ['build_tech', 'month', 'street_id']\n",
        "\n",
        "train_pool = Pool(data=train[features], label=y, cat_features=cat_features)"
      ],
      "metadata": {
        "id": "895NSGRSbqId"
      },
      "execution_count": null,
      "outputs": []
    },
    {
      "cell_type": "code",
      "source": [
        "model = CatBoostRegressor(n_estimators=10000, depth=6, learning_rate=0.05, random_state=42,\n",
        "                          loss_function='MAE', eval_metric='MAE')\n",
        "\n",
        "model.fit(train_pool, verbose=False)"
      ],
      "metadata": {
        "colab": {
          "base_uri": "https://localhost:8080/"
        },
        "id": "DC5OPKRNezsx",
        "outputId": "c8d47b30-2f52-46d9-eeea-816b27ba758d"
      },
      "execution_count": null,
      "outputs": [
        {
          "output_type": "execute_result",
          "data": {
            "text/plain": [
              "<catboost.core.CatBoostRegressor at 0x7a40270c59f0>"
            ]
          },
          "metadata": {},
          "execution_count": 373
        }
      ]
    },
    {
      "cell_type": "markdown",
      "source": [
        "n_estimators=100, все фичи"
      ],
      "metadata": {
        "id": "j1N09xuCijFB"
      }
    },
    {
      "cell_type": "code",
      "source": [
        "pred = model.predict(X_test[features])\n",
        "mae(y_test, pred)"
      ],
      "metadata": {
        "colab": {
          "base_uri": "https://localhost:8080/"
        },
        "id": "jTxosgZQfCFH",
        "outputId": "7b08e0de-cd91-4198-820b-c6e66f34c5fb"
      },
      "execution_count": null,
      "outputs": [
        {
          "output_type": "execute_result",
          "data": {
            "text/plain": [
              "761298.1306784358"
            ]
          },
          "metadata": {},
          "execution_count": 360
        }
      ]
    },
    {
      "cell_type": "markdown",
      "source": [
        "n_estimators=1000, все фичи"
      ],
      "metadata": {
        "id": "dISCzW4fjklE"
      }
    },
    {
      "cell_type": "code",
      "source": [
        "pred = model.predict(X_test[features])\n",
        "mae(y_test, pred)"
      ],
      "metadata": {
        "colab": {
          "base_uri": "https://localhost:8080/"
        },
        "id": "428mdsc6jjbG",
        "outputId": "e3bb4eb8-2f29-455d-c4ed-4aa1029c3a4a"
      },
      "execution_count": null,
      "outputs": [
        {
          "output_type": "execute_result",
          "data": {
            "text/plain": [
              "441409.12274834735"
            ]
          },
          "metadata": {},
          "execution_count": 371
        }
      ]
    },
    {
      "cell_type": "markdown",
      "source": [
        "n_estimators=10000, все фичи"
      ],
      "metadata": {
        "id": "eT7R9UKIkAkE"
      }
    },
    {
      "cell_type": "code",
      "source": [
        "pred = model.predict(X_test[features])\n",
        "mae(y_test, pred)"
      ],
      "metadata": {
        "colab": {
          "base_uri": "https://localhost:8080/"
        },
        "id": "4r0LWtW2kClw",
        "outputId": "31081361-dc2a-4c27-870a-b647cc66fdec"
      },
      "execution_count": null,
      "outputs": [
        {
          "output_type": "execute_result",
          "data": {
            "text/plain": [
              "365504.099103258"
            ]
          },
          "metadata": {},
          "execution_count": 374
        }
      ]
    },
    {
      "cell_type": "code",
      "source": [
        "features = ['street_id', 'build_tech', 'floor', 'area', 'rooms', 'balcon',\n",
        "            'metro_dist', 'n_photos', 'kw1', 'kw2', 'kw3', 'kw4', 'kw5', 'kw6',\n",
        "            'kw7', 'kw10', 'kw11', 'kw12', 'kw13', 'year', 'month',\n",
        "            'months_from_start']\n",
        "cat_features = ['build_tech', 'month', 'street_id']\n",
        "\n",
        "train_pool = Pool(data=train[features], label=y, cat_features=cat_features)"
      ],
      "metadata": {
        "id": "EFbm19ZkqrGv"
      },
      "execution_count": null,
      "outputs": []
    },
    {
      "cell_type": "code",
      "source": [
        "model = CatBoostRegressor(n_estimators=10000, depth=6, learning_rate=0.05, random_state=42,\n",
        "                          loss_function='MAE', eval_metric='MAE')\n",
        "\n",
        "model.fit(train_pool, verbose=False)"
      ],
      "metadata": {
        "colab": {
          "base_uri": "https://localhost:8080/"
        },
        "outputId": "2df345b1-8ded-4427-d815-3ab582f188db",
        "id": "dqE9oUfpqrGx"
      },
      "execution_count": null,
      "outputs": [
        {
          "output_type": "execute_result",
          "data": {
            "text/plain": [
              "<catboost.core.CatBoostRegressor at 0x7a40270c4880>"
            ]
          },
          "metadata": {},
          "execution_count": 378
        }
      ]
    },
    {
      "cell_type": "markdown",
      "source": [
        "n_estimators = 10000, не все фичи"
      ],
      "metadata": {
        "id": "V0fXa0QirAwH"
      }
    },
    {
      "cell_type": "code",
      "source": [
        "pred = model.predict(X_test[features])\n",
        "mae(y_test, pred)"
      ],
      "metadata": {
        "colab": {
          "base_uri": "https://localhost:8080/"
        },
        "id": "GgRiQoK2rAO4",
        "outputId": "e4ae2b27-d77e-4cd0-f503-4a0e368bc6e2"
      },
      "execution_count": null,
      "outputs": [
        {
          "output_type": "execute_result",
          "data": {
            "text/plain": [
              "365030.9210007213"
            ]
          },
          "metadata": {},
          "execution_count": 379
        }
      ]
    },
    {
      "cell_type": "markdown",
      "source": [
        "на валидации стало чуть лучше, на тесте(в лидерборде) стало сильно хуже"
      ],
      "metadata": {
        "id": "wzAvu_xpubkH"
      }
    },
    {
      "cell_type": "markdown",
      "source": [
        "# Предсказание"
      ],
      "metadata": {
        "id": "ipuxwlayfUyX"
      }
    },
    {
      "cell_type": "code",
      "source": [
        "test = pd.read_csv(\"Test.csv\")"
      ],
      "metadata": {
        "id": "awRI-WcAfFq2"
      },
      "execution_count": null,
      "outputs": []
    },
    {
      "cell_type": "code",
      "source": [
        "test.isna().any()"
      ],
      "metadata": {
        "colab": {
          "base_uri": "https://localhost:8080/"
        },
        "id": "9xMTnfqnhGo-",
        "outputId": "b1bebafa-e7d8-4adc-8d7e-caf2120a29ef"
      },
      "execution_count": null,
      "outputs": [
        {
          "output_type": "execute_result",
          "data": {
            "text/plain": [
              "id            False\n",
              "date          False\n",
              "street_id     False\n",
              "build_tech     True\n",
              "floor         False\n",
              "area          False\n",
              "rooms         False\n",
              "balcon        False\n",
              "metro_dist     True\n",
              "g_lift         True\n",
              "n_photos      False\n",
              "kw1           False\n",
              "kw2           False\n",
              "kw3           False\n",
              "kw4           False\n",
              "kw5           False\n",
              "kw6           False\n",
              "kw7           False\n",
              "kw8           False\n",
              "kw9           False\n",
              "kw10          False\n",
              "kw11          False\n",
              "kw12          False\n",
              "kw13          False\n",
              "dtype: bool"
            ]
          },
          "metadata": {},
          "execution_count": 320
        }
      ]
    },
    {
      "cell_type": "code",
      "source": [
        "test['year'] = pd.DatetimeIndex(test['date']).year\n",
        "test['month'] = pd.DatetimeIndex(test['date']).month\n",
        "test['months_from_start'] = (pd.DatetimeIndex(test['date']).year - 2011) * 12 + pd.DatetimeIndex(test['date']).month"
      ],
      "metadata": {
        "id": "n0TpVIhRfTrd"
      },
      "execution_count": null,
      "outputs": []
    },
    {
      "cell_type": "code",
      "source": [
        "test = test[features]"
      ],
      "metadata": {
        "id": "R66SHzSlglDQ"
      },
      "execution_count": null,
      "outputs": []
    },
    {
      "cell_type": "code",
      "source": [
        "test[\"metro_dist\"].fillna(train[\"metro_dist\"].mean(), inplace=True)"
      ],
      "metadata": {
        "id": "LngG8xyIfwRI"
      },
      "execution_count": null,
      "outputs": []
    },
    {
      "cell_type": "code",
      "source": [
        "fill_with = pd.DataFrame({'build_tech': bt_fillna.predict(test[test[\"build_tech\"].isna()].drop(columns=[\"build_tech\"]))},\n",
        "                         index = test.index[test[\"build_tech\"].isna()]).squeeze()"
      ],
      "metadata": {
        "id": "LE9SzsDuiSIq"
      },
      "execution_count": null,
      "outputs": []
    },
    {
      "cell_type": "code",
      "source": [
        "test['build_tech'].fillna(fill_with, inplace=True)"
      ],
      "metadata": {
        "id": "SHr5Ysh2gW1v"
      },
      "execution_count": null,
      "outputs": []
    },
    {
      "cell_type": "code",
      "source": [
        "test['build_tech'] = test['build_tech'].apply(lambda x: int(x))"
      ],
      "metadata": {
        "id": "w5ayR17ygW1v"
      },
      "execution_count": null,
      "outputs": []
    },
    {
      "cell_type": "code",
      "source": [
        "ans = pd.read_csv(\"Test.csv\")\n",
        "ans[\"price\"] = model.predict(test[features])\n",
        "ans[[\"id\", \"price\"]].to_csv(\"10000_catboost_notall.csv\", index=False)"
      ],
      "metadata": {
        "id": "uP78S6Qtiht8"
      },
      "execution_count": null,
      "outputs": []
    },
    {
      "cell_type": "markdown",
      "source": [
        "# Результат"
      ],
      "metadata": {
        "id": "WaIfnHr-uS8N"
      }
    },
    {
      "cell_type": "markdown",
      "source": [
        "По итогам соревновния лучший результат показал катбуст на всех данных на 10к деревьев, с private score = 850k."
      ],
      "metadata": {
        "id": "Vdx5Jx1zuU9Y"
      }
    },
    {
      "cell_type": "code",
      "source": [],
      "metadata": {
        "id": "5sq-5JFOi5Go"
      },
      "execution_count": null,
      "outputs": []
    }
  ]
}