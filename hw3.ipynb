{
  "cells": [
    {
      "cell_type": "code",
      "execution_count": null,
      "metadata": {
        "id": "BFzyRa4f11jB"
      },
      "outputs": [],
      "source": [
        "import numpy as np\n",
        "import pandas as pd\n",
        "from sklearn.cluster import KMeans\n",
        "import matplotlib.pyplot as plt"
      ]
    },
    {
      "cell_type": "code",
      "execution_count": null,
      "metadata": {
        "id": "FXADNXuPvn6O"
      },
      "outputs": [],
      "source": [
        "from scipy import sparse\n",
        "\n",
        "train = sparse.load_npz(\"train.npz\")"
      ]
    },
    {
      "cell_type": "code",
      "execution_count": null,
      "metadata": {
        "colab": {
          "base_uri": "https://localhost:8080/"
        },
        "id": "vzhdNxFyp1TK",
        "outputId": "5ac4458c-bf9f-4161-c7f3-bc9f6d93509d"
      },
      "outputs": [
        {
          "output_type": "execute_result",
          "data": {
            "text/plain": [
              "(14590, 77888)"
            ]
          },
          "metadata": {},
          "execution_count": 3
        }
      ],
      "source": [
        "train.shape"
      ]
    },
    {
      "cell_type": "code",
      "source": [
        "from sklearn.preprocessing import MinMaxScaler\n",
        "import numpy as np\n",
        "from scipy.sparse import csr_matrix\n",
        "\n",
        "# Предположим, что sparse_matrix — это ваша разреженная матрица.\n",
        "# Пример создания разреженной матрицы:\n",
        "# sparse_matrix = csr_matrix((3, 3), dtype=np.float64)\n",
        "# sparse_matrix[0, 0] = 0.5\n",
        "# sparse_matrix[1, 2] = 0.7\n",
        "\n",
        "# Преобразование в COO для удобного доступа к ненулевым элементам\n",
        "coo_matrix = train.tocoo()\n",
        "\n",
        "# Извлечение ненулевых значений\n",
        "nonzero_values = coo_matrix.data\n",
        "\n",
        "# Создание и обучение scaler'а только на ненулевых значениях\n",
        "scaler = MinMaxScaler()\n",
        "nonzero_values_scaled = scaler.fit_transform(nonzero_values.reshape(-1, 1)).flatten()\n",
        "\n",
        "# Применение масштабированных значений обратно к ненулевым элементам\n",
        "for i, (row, col) in enumerate(zip(coo_matrix.row, coo_matrix.col)):\n",
        "    train[row, col] = nonzero_values_scaled[i]\n",
        "\n",
        "# Теперь sparse_matrix содержит масштабированные ненулевые значения."
      ],
      "metadata": {
        "id": "vt_Qf-_CQf8I"
      },
      "execution_count": null,
      "outputs": []
    },
    {
      "cell_type": "code",
      "source": [
        "len(train.data)"
      ],
      "metadata": {
        "colab": {
          "base_uri": "https://localhost:8080/"
        },
        "id": "GwIIJp14Q273",
        "outputId": "6ba81ea5-1375-4f95-dfe1-93a176bad763"
      },
      "execution_count": null,
      "outputs": [
        {
          "output_type": "execute_result",
          "data": {
            "text/plain": [
              "2026769"
            ]
          },
          "metadata": {},
          "execution_count": 33
        }
      ]
    },
    {
      "cell_type": "code",
      "source": [
        "from scipy.sparse import coo_matrix\n",
        "\n",
        "# Предположим, что sparse_matrix — ваша разреженная матрица в формате CSR, CSC или любом другом.\n",
        "# Преобразуем её в COO для удобного доступа к элементам.\n",
        "coo_matrix = train.tocoo()\n",
        "\n",
        "# Используем условие для фильтрации ненулевых элементов, которые нужно обнулить.\n",
        "# Создаем маску для значений, которые больше 0.25.\n",
        "mask = coo_matrix.data > 0.22\n",
        "\n",
        "# Применяем маску и обнуляем эти значения.\n",
        "coo_matrix.data[mask] = 0\n",
        "\n",
        "# Преобразуем обратно в исходный формат, если это необходимо. Здесь возвращаем в CSR.\n",
        "train = coo_matrix.tocsr()\n",
        "\n",
        "# Теперь в sparse_matrix все значения больше 0.25 заменены на 0.\n",
        "\n",
        "train.eliminate_zeros()"
      ],
      "metadata": {
        "id": "_hV2nB8Af_Ok"
      },
      "execution_count": null,
      "outputs": []
    },
    {
      "cell_type": "code",
      "source": [
        "plt.hist(train.data, bins=1000)\n",
        "\n",
        "plt.show()"
      ],
      "metadata": {
        "colab": {
          "base_uri": "https://localhost:8080/",
          "height": 430
        },
        "id": "zp8nABfQfmbS",
        "outputId": "a4d84aea-b02b-4c1d-c86b-906cd2b0dd66"
      },
      "execution_count": null,
      "outputs": [
        {
          "output_type": "display_data",
          "data": {
            "text/plain": [
              "<Figure size 640x480 with 1 Axes>"
            ],
            "image/png": "[encoded data removed]"
          },
          "metadata": {}
        }
      ]
    },
    {
      "cell_type": "code",
      "source": [
        "from sklearn.preprocessing import RobustScaler\n",
        "\n",
        "scaler = RobustScaler(with_centering=False)\n",
        "scaler.fit(train)"
      ],
      "metadata": {
        "colab": {
          "base_uri": "https://localhost:8080/",
          "height": 75
        },
        "id": "SgTvqW4ugwnl",
        "outputId": "08f3f353-78fe-40e2-9135-af68253ff4d3"
      },
      "execution_count": null,
      "outputs": [
        {
          "output_type": "execute_result",
          "data": {
            "text/plain": [
              "RobustScaler(with_centering=False)"
            ],
            "text/html": [
              "<style>#sk-container-id-1 {color: black;background-color: white;}#sk-container-id-1 pre{padding: 0;}#sk-container-id-1 div.sk-toggleable {background-color: white;}#sk-container-id-1 label.sk-toggleable__label {cursor: pointer;display: block;width: 100%;margin-bottom: 0;padding: 0.3em;box-sizing: border-box;text-align: center;}#sk-container-id-1 label.sk-toggleable__label-arrow:before {content: \"▸\";float: left;margin-right: 0.25em;color: #696969;}#sk-container-id-1 label.sk-toggleable__label-arrow:hover:before {color: black;}#sk-container-id-1 div.sk-estimator:hover label.sk-toggleable__label-arrow:before {color: black;}#sk-container-id-1 div.sk-toggleable__content {max-height: 0;max-width: 0;overflow: hidden;text-align: left;background-color: #f0f8ff;}#sk-container-id-1 div.sk-toggleable__content pre {margin: 0.2em;color: black;border-radius: 0.25em;background-color: #f0f8ff;}#sk-container-id-1 input.sk-toggleable__control:checked~div.sk-toggleable__content {max-height: 200px;max-width: 100%;overflow: auto;}#sk-container-id-1 input.sk-toggleable__control:checked~label.sk-toggleable__label-arrow:before {content: \"▾\";}#sk-container-id-1 div.sk-estimator input.sk-toggleable__control:checked~label.sk-toggleable__label {background-color: #d4ebff;}#sk-container-id-1 div.sk-label input.sk-toggleable__control:checked~label.sk-toggleable__label {background-color: #d4ebff;}#sk-container-id-1 input.sk-hidden--visually {border: 0;clip: rect(1px 1px 1px 1px);clip: rect(1px, 1px, 1px, 1px);height: 1px;margin: -1px;overflow: hidden;padding: 0;position: absolute;width: 1px;}#sk-container-id-1 div.sk-estimator {font-family: monospace;background-color: #f0f8ff;border: 1px dotted black;border-radius: 0.25em;box-sizing: border-box;margin-bottom: 0.5em;}#sk-container-id-1 div.sk-estimator:hover {background-color: #d4ebff;}#sk-container-id-1 div.sk-parallel-item::after {content: \"\";width: 100%;border-bottom: 1px solid gray;flex-grow: 1;}#sk-container-id-1 div.sk-label:hover label.sk-toggleable__label {background-color: #d4ebff;}#sk-container-id-1 div.sk-serial::before {content: \"\";position: absolute;border-left: 1px solid gray;box-sizing: border-box;top: 0;bottom: 0;left: 50%;z-index: 0;}#sk-container-id-1 div.sk-serial {display: flex;flex-direction: column;align-items: center;background-color: white;padding-right: 0.2em;padding-left: 0.2em;position: relative;}#sk-container-id-1 div.sk-item {position: relative;z-index: 1;}#sk-container-id-1 div.sk-parallel {display: flex;align-items: stretch;justify-content: center;background-color: white;position: relative;}#sk-container-id-1 div.sk-item::before, #sk-container-id-1 div.sk-parallel-item::before {content: \"\";position: absolute;border-left: 1px solid gray;box-sizing: border-box;top: 0;bottom: 0;left: 50%;z-index: -1;}#sk-container-id-1 div.sk-parallel-item {display: flex;flex-direction: column;z-index: 1;position: relative;background-color: white;}#sk-container-id-1 div.sk-parallel-item:first-child::after {align-self: flex-end;width: 50%;}#sk-container-id-1 div.sk-parallel-item:last-child::after {align-self: flex-start;width: 50%;}#sk-container-id-1 div.sk-parallel-item:only-child::after {width: 0;}#sk-container-id-1 div.sk-dashed-wrapped {border: 1px dashed gray;margin: 0 0.4em 0.5em 0.4em;box-sizing: border-box;padding-bottom: 0.4em;background-color: white;}#sk-container-id-1 div.sk-label label {font-family: monospace;font-weight: bold;display: inline-block;line-height: 1.2em;}#sk-container-id-1 div.sk-label-container {text-align: center;}#sk-container-id-1 div.sk-container {/* jupyter's `normalize.less` sets `[hidden] { display: none; }` but bootstrap.min.css set `[hidden] { display: none !important; }` so we also need the `!important` here to be able to override the default hidden behavior on the sphinx rendered scikit-learn.org. See: https://github.com/scikit-learn/scikit-learn/issues/21755 */display: inline-block !important;position: relative;}#sk-container-id-1 div.sk-text-repr-fallback {display: none;}</style><div id=\"sk-container-id-1\" class=\"sk-top-container\"><div class=\"sk-text-repr-fallback\"><pre>RobustScaler(with_centering=False)</pre><b>In a Jupyter environment, please rerun this cell to show the HTML representation or trust the notebook. <br />On GitHub, the HTML representation is unable to render, please try loading this page with nbviewer.org.</b></div><div class=\"sk-container\" hidden><div class=\"sk-item\"><div class=\"sk-estimator sk-toggleable\"><input class=\"sk-toggleable__control sk-hidden--visually\" id=\"sk-estimator-id-1\" type=\"checkbox\" checked><label for=\"sk-estimator-id-1\" class=\"sk-toggleable__label sk-toggleable__label-arrow\">RobustScaler</label><div class=\"sk-toggleable__content\"><pre>RobustScaler(with_centering=False)</pre></div></div></div></div></div>"
            ]
          },
          "metadata": {},
          "execution_count": 6
        }
      ]
    },
    {
      "cell_type": "code",
      "source": [
        "scaled_data = scaler.transform(train)"
      ],
      "metadata": {
        "id": "-wOnWUJus5NS"
      },
      "execution_count": null,
      "outputs": []
    },
    {
      "cell_type": "code",
      "source": [
        "max(scaled_data.data)"
      ],
      "metadata": {
        "colab": {
          "base_uri": "https://localhost:8080/"
        },
        "id": "BBFuLmRovYT8",
        "outputId": "2e345f87-48ea-4751-ac62-928dd8906535"
      },
      "execution_count": null,
      "outputs": [
        {
          "output_type": "execute_result",
          "data": {
            "text/plain": [
              "15.132602403511896"
            ]
          },
          "metadata": {},
          "execution_count": 11
        }
      ]
    },
    {
      "cell_type": "code",
      "source": [
        "from sklearn.preprocessing import QuantileTransformer\n",
        "\n",
        "qt = QuantileTransformer(random_state=42, output_distribution='normal')\n",
        "normal_train = qt.fit_transform(train)"
      ],
      "metadata": {
        "id": "ENdPWtxJxpbM"
      },
      "execution_count": null,
      "outputs": []
    },
    {
      "cell_type": "code",
      "source": [
        "from sklearn.preprocessing import\n",
        "\n",
        "scaler = RobustScaler(with_centering=False)\n",
        "scaler.fit(train)"
      ],
      "metadata": {
        "id": "bfrzrbyTw1Rz"
      },
      "execution_count": null,
      "outputs": []
    },
    {
      "cell_type": "code",
      "source": [
        "plt.hist(normal_train.data, bins=1000)\n",
        "\n",
        "plt.show()"
      ],
      "metadata": {
        "colab": {
          "base_uri": "https://localhost:8080/",
          "height": 430
        },
        "id": "o17MJeuEuYp0",
        "outputId": "65575166-64d0-4cb6-f36d-70731cccc833"
      },
      "execution_count": null,
      "outputs": [
        {
          "output_type": "display_data",
          "data": {
            "text/plain": [
              "<Figure size 640x480 with 1 Axes>"
            ],
            "image/png": "[encoded data removed]"
          },
          "metadata": {}
        }
      ]
    },
    {
      "cell_type": "code",
      "source": [
        "plt.subplots(1, 2)\n",
        "plt.hist(data, bins=100)\n",
        "\n",
        "plt.subplots(2, 2)\n",
        "plt.hist()"
      ],
      "metadata": {
        "id": "GxqIMcjMf2cx"
      },
      "execution_count": null,
      "outputs": []
    },
    {
      "cell_type": "markdown",
      "source": [
        "Первой идеей было попробовать KMeans и посмотреть, что он нам даст\n",
        "Сначала был перебор от 2 до 20 кластеров, расстояние до центроид при этом не особо уменьшалось, поэтому решила попробовать на 100 кластерах. Но даже это не дало особых результатов. Сделала вывод, что кластеров очень много, искать их KMeans будет слишком долго\n",
        "/ниже только часть моих опытов, остальное удалила, чтобы не засорять/"
      ],
      "metadata": {
        "id": "Biqshx_gY7ZA"
      }
    },
    {
      "cell_type": "code",
      "execution_count": null,
      "metadata": {
        "colab": {
          "base_uri": "https://localhost:8080/"
        },
        "id": "NfByj3aumRlf",
        "outputId": "7d75c412-c4bc-4045-fc16-39c4b7dc63f9"
      },
      "outputs": [
        {
          "name": "stderr",
          "output_type": "stream",
          "text": [
            "/usr/local/lib/python3.10/dist-packages/sklearn/cluster/_kmeans.py:870: FutureWarning: The default value of `n_init` will change from 10 to 'auto' in 1.4. Set the value of `n_init` explicitly to suppress the warning\n",
            "  warnings.warn(\n"
          ]
        },
        {
          "name": "stdout",
          "output_type": "stream",
          "text": [
            "118.57029163572686\n"
          ]
        }
      ],
      "source": [
        "kmeans_rand = KMeans(n_clusters=100, random_state=42)\n",
        "kmeans_rand.fit(train)\n",
        "print(np.sqrt(kmeans_rand.inertia_))"
      ]
    },
    {
      "cell_type": "code",
      "execution_count": null,
      "metadata": {
        "colab": {
          "base_uri": "https://localhost:8080/",
          "height": 430
        },
        "id": "FbXfam2OeN2g",
        "outputId": "07cfd085-9817-46af-a78b-8408303bb71d"
      },
      "outputs": [
        {
          "data": {
            "image/png": "[encoded data removed]",
            "text/plain": [
              "<Figure size 640x480 with 1 Axes>"
            ]
          },
          "metadata": {},
          "output_type": "display_data"
        }
      ],
      "source": [
        "plt.plot(range(2, 20), np.sqrt(dist_rand), marker='s')\n",
        "\n",
        "plt.show()"
      ]
    },
    {
      "cell_type": "markdown",
      "source": [
        "DBSCAN и другие методы работали очень долго, вспомнила про SpectralClustering\n",
        "\n",
        "Это был первый метод, который дал скор > simple"
      ],
      "metadata": {
        "id": "jX5fLItkcXsw"
      }
    },
    {
      "cell_type": "code",
      "source": [
        "pip install pyamg"
      ],
      "metadata": {
        "colab": {
          "base_uri": "https://localhost:8080/"
        },
        "id": "KD9FyRnvjppS",
        "outputId": "eab01fc8-ee0f-414e-91fc-2921daab9870"
      },
      "execution_count": null,
      "outputs": [
        {
          "output_type": "stream",
          "name": "stdout",
          "text": [
            "Collecting pyamg\n",
            "  Downloading pyamg-5.1.0-cp310-cp310-manylinux_2_17_x86_64.manylinux2014_x86_64.whl (1.9 MB)\n",
            "\u001b[2K     \u001b[90m━━━━━━━━━━━━━━━━━━━━━━━━━━━━━━━━━━━━━━━━\u001b[0m \u001b[32m1.9/1.9 MB\u001b[0m \u001b[31m8.3 MB/s\u001b[0m eta \u001b[36m0:00:00\u001b[0m\n",
            "\u001b[?25hRequirement already satisfied: numpy in /usr/local/lib/python3.10/dist-packages (from pyamg) (1.25.2)\n",
            "Requirement already satisfied: scipy>=1.8.0 in /usr/local/lib/python3.10/dist-packages (from pyamg) (1.11.4)\n",
            "Installing collected packages: pyamg\n",
            "Successfully installed pyamg-5.1.0\n"
          ]
        }
      ]
    },
    {
      "cell_type": "code",
      "source": [
        "import pyamg"
      ],
      "metadata": {
        "id": "oasSX3rtj0y7"
      },
      "execution_count": null,
      "outputs": []
    },
    {
      "cell_type": "code",
      "source": [
        "\n",
        "from sklearn.cluster import SpectralClustering"
      ],
      "metadata": {
        "id": "0jie5aqckOpw"
      },
      "execution_count": null,
      "outputs": []
    },
    {
      "cell_type": "code",
      "execution_count": null,
      "metadata": {
        "id": "e5q_r4hTspSn"
      },
      "outputs": [],
      "source": [
        "%%time\n",
        "from sklearn.cluster import SpectralClustering\n",
        "\n",
        "labels = SpectralClustering(n_clusters=3, random_state=42,\n",
        "                            assign_labels=\"discretize\", n_jobs=-1,\n",
        "                            eigen_solver='amg').fit_predict(train)"
      ]
    },
    {
      "cell_type": "code",
      "source": [
        "df = pd.DataFrame(data={'ID': range(train.shape[0]), 'TARGET': labels})"
      ],
      "metadata": {
        "id": "cdkgaKB2bRy9"
      },
      "execution_count": null,
      "outputs": []
    },
    {
      "cell_type": "code",
      "source": [
        "df['TARGET'].value_counts()"
      ],
      "metadata": {
        "id": "9bK4Y3J1-qgv",
        "colab": {
          "base_uri": "https://localhost:8080/"
        },
        "outputId": "5252e209-83fb-43b1-ea32-9ac68e5af98a"
      },
      "execution_count": null,
      "outputs": [
        {
          "output_type": "execute_result",
          "data": {
            "text/plain": [
              "TARGET\n",
              "1    6909\n",
              "0    3946\n",
              "2    3735\n",
              "Name: count, dtype: int64"
            ]
          },
          "metadata": {},
          "execution_count": 28
        }
      ]
    },
    {
      "cell_type": "code",
      "source": [
        "df.to_csv('ans_robust22.csv', index=False)"
      ],
      "metadata": {
        "id": "in6o1TAdbhPb"
      },
      "execution_count": null,
      "outputs": []
    },
    {
      "cell_type": "code",
      "source": [],
      "metadata": {
        "id": "pTtUj8IFSV8c"
      },
      "execution_count": null,
      "outputs": []
    }
  ],
  "metadata": {
    "colab": {
      "provenance": []
    },
    "kernelspec": {
      "display_name": "Python 3",
      "name": "python3"
    },
    "language_info": {
      "name": "python"
    }
  },
  "nbformat": 4,
  "nbformat_minor": 0
}