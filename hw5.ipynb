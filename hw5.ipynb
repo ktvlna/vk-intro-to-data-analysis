{
  "cells": [
    {
      "cell_type": "markdown",
      "metadata": {
        "id": "IeP_qC1NEWF3"
      },
      "source": [
        "# Домашнее задание"
      ]
    },
    {
      "cell_type": "markdown",
      "metadata": {
        "id": "FQCPsyX_EWF3"
      },
      "source": [
        "Data contains the book rating information. Ratings (Book-Rating) are either explicit, expressed on a scale from 1-10 (higher values denoting higher appreciation), or implicit, expressed by 0."
      ]
    },
    {
      "cell_type": "code",
      "source": [
        "import pandas as pd\n",
        "import numpy as np"
      ],
      "metadata": {
        "id": "DpQoMPfxIYQl"
      },
      "execution_count": null,
      "outputs": []
    },
    {
      "cell_type": "code",
      "source": [
        "from google.colab import drive\n",
        "drive.mount('/content/drive')"
      ],
      "metadata": {
        "colab": {
          "base_uri": "https://localhost:8080/"
        },
        "id": "kBcLMJ-FJ04d",
        "outputId": "79fe1eae-a77c-4023-f55a-3ff6d84a04c0"
      },
      "execution_count": null,
      "outputs": [
        {
          "output_type": "stream",
          "name": "stdout",
          "text": [
            "Mounted at /content/drive\n"
          ]
        }
      ]
    },
    {
      "cell_type": "code",
      "execution_count": null,
      "metadata": {
        "id": "qKj5EL_tEWF4",
        "colab": {
          "base_uri": "https://localhost:8080/"
        },
        "outputId": "f78a0fd2-8719-4d89-ec39-48d647fbbac0"
      },
      "outputs": [
        {
          "output_type": "stream",
          "name": "stderr",
          "text": [
            "<ipython-input-3-81e974c7dd81>:1: DtypeWarning: Columns (3) have mixed types. Specify dtype option on import or set low_memory=False.\n",
            "  books = pd.read_csv('/content/drive/MyDrive/recsys-hw-data/BX-Books.csv')\n"
          ]
        }
      ],
      "source": [
        "books = pd.read_csv('/content/drive/MyDrive/recsys-hw-data/BX-Books.csv')"
      ]
    },
    {
      "cell_type": "code",
      "execution_count": null,
      "metadata": {
        "id": "Zr_TBqczEWF4"
      },
      "outputs": [],
      "source": [
        "interactions = pd.read_csv(\"/content/drive/MyDrive/recsys-hw-data/BX-Book-Ratings.csv\", sep=\";\", encoding = \"ISO-8859-1\")"
      ]
    },
    {
      "cell_type": "code",
      "execution_count": null,
      "metadata": {
        "id": "dtUsMQhrEWF4"
      },
      "outputs": [],
      "source": [
        "interactions = interactions[interactions[\"Book-Rating\"] != 0]"
      ]
    },
    {
      "cell_type": "code",
      "execution_count": null,
      "metadata": {
        "id": "9EQKo3m5EWF4",
        "colab": {
          "base_uri": "https://localhost:8080/",
          "height": 424
        },
        "outputId": "8dd18992-2508-45e5-d335-e688806e8292"
      },
      "outputs": [
        {
          "output_type": "execute_result",
          "data": {
            "text/plain": [
              "         User-ID         ISBN  Book-Rating\n",
              "1         276726   0155061224            5\n",
              "3         276729   052165615X            3\n",
              "4         276729   0521795028            6\n",
              "6         276736   3257224281            8\n",
              "7         276737   0600570967            6\n",
              "...          ...          ...          ...\n",
              "1149773   276704   0806917695            5\n",
              "1149775   276704   1563526298            9\n",
              "1149777   276709   0515107662           10\n",
              "1149778   276721   0590442449           10\n",
              "1149779   276723  05162443314            8\n",
              "\n",
              "[433671 rows x 3 columns]"
            ],
            "text/html": [
              "\n",
              "  <div id=\"df-85bcaec2-67d8-4bea-9e99-698dce433d79\" class=\"colab-df-container\">\n",
              "    <div>\n",
              "<style scoped>\n",
              "    .dataframe tbody tr th:only-of-type {\n",
              "        vertical-align: middle;\n",
              "    }\n",
              "\n",
              "    .dataframe tbody tr th {\n",
              "        vertical-align: top;\n",
              "    }\n",
              "\n",
              "    .dataframe thead th {\n",
              "        text-align: right;\n",
              "    }\n",
              "</style>\n",
              "<table border=\"1\" class=\"dataframe\">\n",
              "  <thead>\n",
              "    <tr style=\"text-align: right;\">\n",
              "      <th></th>\n",
              "      <th>User-ID</th>\n",
              "      <th>ISBN</th>\n",
              "      <th>Book-Rating</th>\n",
              "    </tr>\n",
              "  </thead>\n",
              "  <tbody>\n",
              "    <tr>\n",
              "      <th>1</th>\n",
              "      <td>276726</td>\n",
              "      <td>0155061224</td>\n",
              "      <td>5</td>\n",
              "    </tr>\n",
              "    <tr>\n",
              "      <th>3</th>\n",
              "      <td>276729</td>\n",
              "      <td>052165615X</td>\n",
              "      <td>3</td>\n",
              "    </tr>\n",
              "    <tr>\n",
              "      <th>4</th>\n",
              "      <td>276729</td>\n",
              "      <td>0521795028</td>\n",
              "      <td>6</td>\n",
              "    </tr>\n",
              "    <tr>\n",
              "      <th>6</th>\n",
              "      <td>276736</td>\n",
              "      <td>3257224281</td>\n",
              "      <td>8</td>\n",
              "    </tr>\n",
              "    <tr>\n",
              "      <th>7</th>\n",
              "      <td>276737</td>\n",
              "      <td>0600570967</td>\n",
              "      <td>6</td>\n",
              "    </tr>\n",
              "    <tr>\n",
              "      <th>...</th>\n",
              "      <td>...</td>\n",
              "      <td>...</td>\n",
              "      <td>...</td>\n",
              "    </tr>\n",
              "    <tr>\n",
              "      <th>1149773</th>\n",
              "      <td>276704</td>\n",
              "      <td>0806917695</td>\n",
              "      <td>5</td>\n",
              "    </tr>\n",
              "    <tr>\n",
              "      <th>1149775</th>\n",
              "      <td>276704</td>\n",
              "      <td>1563526298</td>\n",
              "      <td>9</td>\n",
              "    </tr>\n",
              "    <tr>\n",
              "      <th>1149777</th>\n",
              "      <td>276709</td>\n",
              "      <td>0515107662</td>\n",
              "      <td>10</td>\n",
              "    </tr>\n",
              "    <tr>\n",
              "      <th>1149778</th>\n",
              "      <td>276721</td>\n",
              "      <td>0590442449</td>\n",
              "      <td>10</td>\n",
              "    </tr>\n",
              "    <tr>\n",
              "      <th>1149779</th>\n",
              "      <td>276723</td>\n",
              "      <td>05162443314</td>\n",
              "      <td>8</td>\n",
              "    </tr>\n",
              "  </tbody>\n",
              "</table>\n",
              "<p>433671 rows × 3 columns</p>\n",
              "</div>\n",
              "    <div class=\"colab-df-buttons\">\n",
              "\n",
              "  <div class=\"colab-df-container\">\n",
              "    <button class=\"colab-df-convert\" onclick=\"convertToInteractive('df-85bcaec2-67d8-4bea-9e99-698dce433d79')\"\n",
              "            title=\"Convert this dataframe to an interactive table.\"\n",
              "            style=\"display:none;\">\n",
              "\n",
              "  <svg xmlns=\"http://www.w3.org/2000/svg\" height=\"24px\" viewBox=\"0 -960 960 960\">\n",
              "    <path d=\"M120-120v-720h720v720H120Zm60-500h600v-160H180v160Zm220 220h160v-160H400v160Zm0 220h160v-160H400v160ZM180-400h160v-160H180v160Zm440 0h160v-160H620v160ZM180-180h160v-160H180v160Zm440 0h160v-160H620v160Z\"/>\n",
              "  </svg>\n",
              "    </button>\n",
              "\n",
              "  <style>\n",
              "    .colab-df-container {\n",
              "      display:flex;\n",
              "      gap: 12px;\n",
              "    }\n",
              "\n",
              "    .colab-df-convert {\n",
              "      background-color: #E8F0FE;\n",
              "      border: none;\n",
              "      border-radius: 50%;\n",
              "      cursor: pointer;\n",
              "      display: none;\n",
              "      fill: #1967D2;\n",
              "      height: 32px;\n",
              "      padding: 0 0 0 0;\n",
              "      width: 32px;\n",
              "    }\n",
              "\n",
              "    .colab-df-convert:hover {\n",
              "      background-color: #E2EBFA;\n",
              "      box-shadow: 0px 1px 2px rgba(60, 64, 67, 0.3), 0px 1px 3px 1px rgba(60, 64, 67, 0.15);\n",
              "      fill: #174EA6;\n",
              "    }\n",
              "\n",
              "    .colab-df-buttons div {\n",
              "      margin-bottom: 4px;\n",
              "    }\n",
              "\n",
              "    [theme=dark] .colab-df-convert {\n",
              "      background-color: #3B4455;\n",
              "      fill: #D2E3FC;\n",
              "    }\n",
              "\n",
              "    [theme=dark] .colab-df-convert:hover {\n",
              "      background-color: #434B5C;\n",
              "      box-shadow: 0px 1px 3px 1px rgba(0, 0, 0, 0.15);\n",
              "      filter: drop-shadow(0px 1px 2px rgba(0, 0, 0, 0.3));\n",
              "      fill: #FFFFFF;\n",
              "    }\n",
              "  </style>\n",
              "\n",
              "    <script>\n",
              "      const buttonEl =\n",
              "        document.querySelector('#df-85bcaec2-67d8-4bea-9e99-698dce433d79 button.colab-df-convert');\n",
              "      buttonEl.style.display =\n",
              "        google.colab.kernel.accessAllowed ? 'block' : 'none';\n",
              "\n",
              "      async function convertToInteractive(key) {\n",
              "        const element = document.querySelector('#df-85bcaec2-67d8-4bea-9e99-698dce433d79');\n",
              "        const dataTable =\n",
              "          await google.colab.kernel.invokeFunction('convertToInteractive',\n",
              "                                                    [key], {});\n",
              "        if (!dataTable) return;\n",
              "\n",
              "        const docLinkHtml = 'Like what you see? Visit the ' +\n",
              "          '<a target=\"_blank\" href=https://colab.research.google.com/notebooks/data_table.ipynb>data table notebook</a>'\n",
              "          + ' to learn more about interactive tables.';\n",
              "        element.innerHTML = '';\n",
              "        dataTable['output_type'] = 'display_data';\n",
              "        await google.colab.output.renderOutput(dataTable, element);\n",
              "        const docLink = document.createElement('div');\n",
              "        docLink.innerHTML = docLinkHtml;\n",
              "        element.appendChild(docLink);\n",
              "      }\n",
              "    </script>\n",
              "  </div>\n",
              "\n",
              "\n",
              "<div id=\"df-a4194213-1e7a-4659-9014-bc3937c9eb1a\">\n",
              "  <button class=\"colab-df-quickchart\" onclick=\"quickchart('df-a4194213-1e7a-4659-9014-bc3937c9eb1a')\"\n",
              "            title=\"Suggest charts\"\n",
              "            style=\"display:none;\">\n",
              "\n",
              "<svg xmlns=\"http://www.w3.org/2000/svg\" height=\"24px\"viewBox=\"0 0 24 24\"\n",
              "     width=\"24px\">\n",
              "    <g>\n",
              "        <path d=\"M19 3H5c-1.1 0-2 .9-2 2v14c0 1.1.9 2 2 2h14c1.1 0 2-.9 2-2V5c0-1.1-.9-2-2-2zM9 17H7v-7h2v7zm4 0h-2V7h2v10zm4 0h-2v-4h2v4z\"/>\n",
              "    </g>\n",
              "</svg>\n",
              "  </button>\n",
              "\n",
              "<style>\n",
              "  .colab-df-quickchart {\n",
              "      --bg-color: #E8F0FE;\n",
              "      --fill-color: #1967D2;\n",
              "      --hover-bg-color: #E2EBFA;\n",
              "      --hover-fill-color: #174EA6;\n",
              "      --disabled-fill-color: #AAA;\n",
              "      --disabled-bg-color: #DDD;\n",
              "  }\n",
              "\n",
              "  [theme=dark] .colab-df-quickchart {\n",
              "      --bg-color: #3B4455;\n",
              "      --fill-color: #D2E3FC;\n",
              "      --hover-bg-color: #434B5C;\n",
              "      --hover-fill-color: #FFFFFF;\n",
              "      --disabled-bg-color: #3B4455;\n",
              "      --disabled-fill-color: #666;\n",
              "  }\n",
              "\n",
              "  .colab-df-quickchart {\n",
              "    background-color: var(--bg-color);\n",
              "    border: none;\n",
              "    border-radius: 50%;\n",
              "    cursor: pointer;\n",
              "    display: none;\n",
              "    fill: var(--fill-color);\n",
              "    height: 32px;\n",
              "    padding: 0;\n",
              "    width: 32px;\n",
              "  }\n",
              "\n",
              "  .colab-df-quickchart:hover {\n",
              "    background-color: var(--hover-bg-color);\n",
              "    box-shadow: 0 1px 2px rgba(60, 64, 67, 0.3), 0 1px 3px 1px rgba(60, 64, 67, 0.15);\n",
              "    fill: var(--button-hover-fill-color);\n",
              "  }\n",
              "\n",
              "  .colab-df-quickchart-complete:disabled,\n",
              "  .colab-df-quickchart-complete:disabled:hover {\n",
              "    background-color: var(--disabled-bg-color);\n",
              "    fill: var(--disabled-fill-color);\n",
              "    box-shadow: none;\n",
              "  }\n",
              "\n",
              "  .colab-df-spinner {\n",
              "    border: 2px solid var(--fill-color);\n",
              "    border-color: transparent;\n",
              "    border-bottom-color: var(--fill-color);\n",
              "    animation:\n",
              "      spin 1s steps(1) infinite;\n",
              "  }\n",
              "\n",
              "  @keyframes spin {\n",
              "    0% {\n",
              "      border-color: transparent;\n",
              "      border-bottom-color: var(--fill-color);\n",
              "      border-left-color: var(--fill-color);\n",
              "    }\n",
              "    20% {\n",
              "      border-color: transparent;\n",
              "      border-left-color: var(--fill-color);\n",
              "      border-top-color: var(--fill-color);\n",
              "    }\n",
              "    30% {\n",
              "      border-color: transparent;\n",
              "      border-left-color: var(--fill-color);\n",
              "      border-top-color: var(--fill-color);\n",
              "      border-right-color: var(--fill-color);\n",
              "    }\n",
              "    40% {\n",
              "      border-color: transparent;\n",
              "      border-right-color: var(--fill-color);\n",
              "      border-top-color: var(--fill-color);\n",
              "    }\n",
              "    60% {\n",
              "      border-color: transparent;\n",
              "      border-right-color: var(--fill-color);\n",
              "    }\n",
              "    80% {\n",
              "      border-color: transparent;\n",
              "      border-right-color: var(--fill-color);\n",
              "      border-bottom-color: var(--fill-color);\n",
              "    }\n",
              "    90% {\n",
              "      border-color: transparent;\n",
              "      border-bottom-color: var(--fill-color);\n",
              "    }\n",
              "  }\n",
              "</style>\n",
              "\n",
              "  <script>\n",
              "    async function quickchart(key) {\n",
              "      const quickchartButtonEl =\n",
              "        document.querySelector('#' + key + ' button');\n",
              "      quickchartButtonEl.disabled = true;  // To prevent multiple clicks.\n",
              "      quickchartButtonEl.classList.add('colab-df-spinner');\n",
              "      try {\n",
              "        const charts = await google.colab.kernel.invokeFunction(\n",
              "            'suggestCharts', [key], {});\n",
              "      } catch (error) {\n",
              "        console.error('Error during call to suggestCharts:', error);\n",
              "      }\n",
              "      quickchartButtonEl.classList.remove('colab-df-spinner');\n",
              "      quickchartButtonEl.classList.add('colab-df-quickchart-complete');\n",
              "    }\n",
              "    (() => {\n",
              "      let quickchartButtonEl =\n",
              "        document.querySelector('#df-a4194213-1e7a-4659-9014-bc3937c9eb1a button');\n",
              "      quickchartButtonEl.style.display =\n",
              "        google.colab.kernel.accessAllowed ? 'block' : 'none';\n",
              "    })();\n",
              "  </script>\n",
              "</div>\n",
              "    </div>\n",
              "  </div>\n"
            ],
            "application/vnd.google.colaboratory.intrinsic+json": {
              "type": "dataframe",
              "variable_name": "interactions"
            }
          },
          "metadata": {},
          "execution_count": 6
        }
      ],
      "source": [
        "interactions"
      ]
    },
    {
      "cell_type": "code",
      "execution_count": null,
      "metadata": {
        "id": "5tWWBpp_EWF4",
        "colab": {
          "base_uri": "https://localhost:8080/",
          "height": 434
        },
        "outputId": "35e04b52-e6e8-4422-9aa7-8312a61be025"
      },
      "outputs": [
        {
          "output_type": "execute_result",
          "data": {
            "text/plain": [
              "         ISBN                                         Book-Title  \\\n",
              "0  0195153448                                Classical Mythology   \n",
              "1  0002005018                                       Clara Callan   \n",
              "2  0060973129                               Decision in Normandy   \n",
              "3  0374157065  Flu: The Story of the Great Influenza Pandemic...   \n",
              "4  0393045218                             The Mummies of Urumchi   \n",
              "\n",
              "            Book-Author Year-Of-Publication                   Publisher  \\\n",
              "0    Mark P. O. Morford                2002     Oxford University Press   \n",
              "1  Richard Bruce Wright                2001       HarperFlamingo Canada   \n",
              "2          Carlo D'Este                1991             HarperPerennial   \n",
              "3      Gina Bari Kolata                1999        Farrar Straus Giroux   \n",
              "4       E. J. W. Barber                1999  W. W. Norton &amp; Company   \n",
              "\n",
              "                                         Image-URL-S  \\\n",
              "0  http://images.amazon.com/images/P/0195153448.0...   \n",
              "1  http://images.amazon.com/images/P/0002005018.0...   \n",
              "2  http://images.amazon.com/images/P/0060973129.0...   \n",
              "3  http://images.amazon.com/images/P/0374157065.0...   \n",
              "4  http://images.amazon.com/images/P/0393045218.0...   \n",
              "\n",
              "                                         Image-URL-M  \\\n",
              "0  http://images.amazon.com/images/P/0195153448.0...   \n",
              "1  http://images.amazon.com/images/P/0002005018.0...   \n",
              "2  http://images.amazon.com/images/P/0060973129.0...   \n",
              "3  http://images.amazon.com/images/P/0374157065.0...   \n",
              "4  http://images.amazon.com/images/P/0393045218.0...   \n",
              "\n",
              "                                         Image-URL-L  \n",
              "0  http://images.amazon.com/images/P/0195153448.0...  \n",
              "1  http://images.amazon.com/images/P/0002005018.0...  \n",
              "2  http://images.amazon.com/images/P/0060973129.0...  \n",
              "3  http://images.amazon.com/images/P/0374157065.0...  \n",
              "4  http://images.amazon.com/images/P/0393045218.0...  "
            ],
            "text/html": [
              "\n",
              "  <div id=\"df-c7f70c24-7b52-42db-ab22-6301de7e8925\" class=\"colab-df-container\">\n",
              "    <div>\n",
              "<style scoped>\n",
              "    .dataframe tbody tr th:only-of-type {\n",
              "        vertical-align: middle;\n",
              "    }\n",
              "\n",
              "    .dataframe tbody tr th {\n",
              "        vertical-align: top;\n",
              "    }\n",
              "\n",
              "    .dataframe thead th {\n",
              "        text-align: right;\n",
              "    }\n",
              "</style>\n",
              "<table border=\"1\" class=\"dataframe\">\n",
              "  <thead>\n",
              "    <tr style=\"text-align: right;\">\n",
              "      <th></th>\n",
              "      <th>ISBN</th>\n",
              "      <th>Book-Title</th>\n",
              "      <th>Book-Author</th>\n",
              "      <th>Year-Of-Publication</th>\n",
              "      <th>Publisher</th>\n",
              "      <th>Image-URL-S</th>\n",
              "      <th>Image-URL-M</th>\n",
              "      <th>Image-URL-L</th>\n",
              "    </tr>\n",
              "  </thead>\n",
              "  <tbody>\n",
              "    <tr>\n",
              "      <th>0</th>\n",
              "      <td>0195153448</td>\n",
              "      <td>Classical Mythology</td>\n",
              "      <td>Mark P. O. Morford</td>\n",
              "      <td>2002</td>\n",
              "      <td>Oxford University Press</td>\n",
              "      <td>http://images.amazon.com/images/P/0195153448.0...</td>\n",
              "      <td>http://images.amazon.com/images/P/0195153448.0...</td>\n",
              "      <td>http://images.amazon.com/images/P/0195153448.0...</td>\n",
              "    </tr>\n",
              "    <tr>\n",
              "      <th>1</th>\n",
              "      <td>0002005018</td>\n",
              "      <td>Clara Callan</td>\n",
              "      <td>Richard Bruce Wright</td>\n",
              "      <td>2001</td>\n",
              "      <td>HarperFlamingo Canada</td>\n",
              "      <td>http://images.amazon.com/images/P/0002005018.0...</td>\n",
              "      <td>http://images.amazon.com/images/P/0002005018.0...</td>\n",
              "      <td>http://images.amazon.com/images/P/0002005018.0...</td>\n",
              "    </tr>\n",
              "    <tr>\n",
              "      <th>2</th>\n",
              "      <td>0060973129</td>\n",
              "      <td>Decision in Normandy</td>\n",
              "      <td>Carlo D'Este</td>\n",
              "      <td>1991</td>\n",
              "      <td>HarperPerennial</td>\n",
              "      <td>http://images.amazon.com/images/P/0060973129.0...</td>\n",
              "      <td>http://images.amazon.com/images/P/0060973129.0...</td>\n",
              "      <td>http://images.amazon.com/images/P/0060973129.0...</td>\n",
              "    </tr>\n",
              "    <tr>\n",
              "      <th>3</th>\n",
              "      <td>0374157065</td>\n",
              "      <td>Flu: The Story of the Great Influenza Pandemic...</td>\n",
              "      <td>Gina Bari Kolata</td>\n",
              "      <td>1999</td>\n",
              "      <td>Farrar Straus Giroux</td>\n",
              "      <td>http://images.amazon.com/images/P/0374157065.0...</td>\n",
              "      <td>http://images.amazon.com/images/P/0374157065.0...</td>\n",
              "      <td>http://images.amazon.com/images/P/0374157065.0...</td>\n",
              "    </tr>\n",
              "    <tr>\n",
              "      <th>4</th>\n",
              "      <td>0393045218</td>\n",
              "      <td>The Mummies of Urumchi</td>\n",
              "      <td>E. J. W. Barber</td>\n",
              "      <td>1999</td>\n",
              "      <td>W. W. Norton &amp;amp; Company</td>\n",
              "      <td>http://images.amazon.com/images/P/0393045218.0...</td>\n",
              "      <td>http://images.amazon.com/images/P/0393045218.0...</td>\n",
              "      <td>http://images.amazon.com/images/P/0393045218.0...</td>\n",
              "    </tr>\n",
              "  </tbody>\n",
              "</table>\n",
              "</div>\n",
              "    <div class=\"colab-df-buttons\">\n",
              "\n",
              "  <div class=\"colab-df-container\">\n",
              "    <button class=\"colab-df-convert\" onclick=\"convertToInteractive('df-c7f70c24-7b52-42db-ab22-6301de7e8925')\"\n",
              "            title=\"Convert this dataframe to an interactive table.\"\n",
              "            style=\"display:none;\">\n",
              "\n",
              "  <svg xmlns=\"http://www.w3.org/2000/svg\" height=\"24px\" viewBox=\"0 -960 960 960\">\n",
              "    <path d=\"M120-120v-720h720v720H120Zm60-500h600v-160H180v160Zm220 220h160v-160H400v160Zm0 220h160v-160H400v160ZM180-400h160v-160H180v160Zm440 0h160v-160H620v160ZM180-180h160v-160H180v160Zm440 0h160v-160H620v160Z\"/>\n",
              "  </svg>\n",
              "    </button>\n",
              "\n",
              "  <style>\n",
              "    .colab-df-container {\n",
              "      display:flex;\n",
              "      gap: 12px;\n",
              "    }\n",
              "\n",
              "    .colab-df-convert {\n",
              "      background-color: #E8F0FE;\n",
              "      border: none;\n",
              "      border-radius: 50%;\n",
              "      cursor: pointer;\n",
              "      display: none;\n",
              "      fill: #1967D2;\n",
              "      height: 32px;\n",
              "      padding: 0 0 0 0;\n",
              "      width: 32px;\n",
              "    }\n",
              "\n",
              "    .colab-df-convert:hover {\n",
              "      background-color: #E2EBFA;\n",
              "      box-shadow: 0px 1px 2px rgba(60, 64, 67, 0.3), 0px 1px 3px 1px rgba(60, 64, 67, 0.15);\n",
              "      fill: #174EA6;\n",
              "    }\n",
              "\n",
              "    .colab-df-buttons div {\n",
              "      margin-bottom: 4px;\n",
              "    }\n",
              "\n",
              "    [theme=dark] .colab-df-convert {\n",
              "      background-color: #3B4455;\n",
              "      fill: #D2E3FC;\n",
              "    }\n",
              "\n",
              "    [theme=dark] .colab-df-convert:hover {\n",
              "      background-color: #434B5C;\n",
              "      box-shadow: 0px 1px 3px 1px rgba(0, 0, 0, 0.15);\n",
              "      filter: drop-shadow(0px 1px 2px rgba(0, 0, 0, 0.3));\n",
              "      fill: #FFFFFF;\n",
              "    }\n",
              "  </style>\n",
              "\n",
              "    <script>\n",
              "      const buttonEl =\n",
              "        document.querySelector('#df-c7f70c24-7b52-42db-ab22-6301de7e8925 button.colab-df-convert');\n",
              "      buttonEl.style.display =\n",
              "        google.colab.kernel.accessAllowed ? 'block' : 'none';\n",
              "\n",
              "      async function convertToInteractive(key) {\n",
              "        const element = document.querySelector('#df-c7f70c24-7b52-42db-ab22-6301de7e8925');\n",
              "        const dataTable =\n",
              "          await google.colab.kernel.invokeFunction('convertToInteractive',\n",
              "                                                    [key], {});\n",
              "        if (!dataTable) return;\n",
              "\n",
              "        const docLinkHtml = 'Like what you see? Visit the ' +\n",
              "          '<a target=\"_blank\" href=https://colab.research.google.com/notebooks/data_table.ipynb>data table notebook</a>'\n",
              "          + ' to learn more about interactive tables.';\n",
              "        element.innerHTML = '';\n",
              "        dataTable['output_type'] = 'display_data';\n",
              "        await google.colab.output.renderOutput(dataTable, element);\n",
              "        const docLink = document.createElement('div');\n",
              "        docLink.innerHTML = docLinkHtml;\n",
              "        element.appendChild(docLink);\n",
              "      }\n",
              "    </script>\n",
              "  </div>\n",
              "\n",
              "\n",
              "<div id=\"df-e0213434-4737-4a49-983e-3fbe9bff56ca\">\n",
              "  <button class=\"colab-df-quickchart\" onclick=\"quickchart('df-e0213434-4737-4a49-983e-3fbe9bff56ca')\"\n",
              "            title=\"Suggest charts\"\n",
              "            style=\"display:none;\">\n",
              "\n",
              "<svg xmlns=\"http://www.w3.org/2000/svg\" height=\"24px\"viewBox=\"0 0 24 24\"\n",
              "     width=\"24px\">\n",
              "    <g>\n",
              "        <path d=\"M19 3H5c-1.1 0-2 .9-2 2v14c0 1.1.9 2 2 2h14c1.1 0 2-.9 2-2V5c0-1.1-.9-2-2-2zM9 17H7v-7h2v7zm4 0h-2V7h2v10zm4 0h-2v-4h2v4z\"/>\n",
              "    </g>\n",
              "</svg>\n",
              "  </button>\n",
              "\n",
              "<style>\n",
              "  .colab-df-quickchart {\n",
              "      --bg-color: #E8F0FE;\n",
              "      --fill-color: #1967D2;\n",
              "      --hover-bg-color: #E2EBFA;\n",
              "      --hover-fill-color: #174EA6;\n",
              "      --disabled-fill-color: #AAA;\n",
              "      --disabled-bg-color: #DDD;\n",
              "  }\n",
              "\n",
              "  [theme=dark] .colab-df-quickchart {\n",
              "      --bg-color: #3B4455;\n",
              "      --fill-color: #D2E3FC;\n",
              "      --hover-bg-color: #434B5C;\n",
              "      --hover-fill-color: #FFFFFF;\n",
              "      --disabled-bg-color: #3B4455;\n",
              "      --disabled-fill-color: #666;\n",
              "  }\n",
              "\n",
              "  .colab-df-quickchart {\n",
              "    background-color: var(--bg-color);\n",
              "    border: none;\n",
              "    border-radius: 50%;\n",
              "    cursor: pointer;\n",
              "    display: none;\n",
              "    fill: var(--fill-color);\n",
              "    height: 32px;\n",
              "    padding: 0;\n",
              "    width: 32px;\n",
              "  }\n",
              "\n",
              "  .colab-df-quickchart:hover {\n",
              "    background-color: var(--hover-bg-color);\n",
              "    box-shadow: 0 1px 2px rgba(60, 64, 67, 0.3), 0 1px 3px 1px rgba(60, 64, 67, 0.15);\n",
              "    fill: var(--button-hover-fill-color);\n",
              "  }\n",
              "\n",
              "  .colab-df-quickchart-complete:disabled,\n",
              "  .colab-df-quickchart-complete:disabled:hover {\n",
              "    background-color: var(--disabled-bg-color);\n",
              "    fill: var(--disabled-fill-color);\n",
              "    box-shadow: none;\n",
              "  }\n",
              "\n",
              "  .colab-df-spinner {\n",
              "    border: 2px solid var(--fill-color);\n",
              "    border-color: transparent;\n",
              "    border-bottom-color: var(--fill-color);\n",
              "    animation:\n",
              "      spin 1s steps(1) infinite;\n",
              "  }\n",
              "\n",
              "  @keyframes spin {\n",
              "    0% {\n",
              "      border-color: transparent;\n",
              "      border-bottom-color: var(--fill-color);\n",
              "      border-left-color: var(--fill-color);\n",
              "    }\n",
              "    20% {\n",
              "      border-color: transparent;\n",
              "      border-left-color: var(--fill-color);\n",
              "      border-top-color: var(--fill-color);\n",
              "    }\n",
              "    30% {\n",
              "      border-color: transparent;\n",
              "      border-left-color: var(--fill-color);\n",
              "      border-top-color: var(--fill-color);\n",
              "      border-right-color: var(--fill-color);\n",
              "    }\n",
              "    40% {\n",
              "      border-color: transparent;\n",
              "      border-right-color: var(--fill-color);\n",
              "      border-top-color: var(--fill-color);\n",
              "    }\n",
              "    60% {\n",
              "      border-color: transparent;\n",
              "      border-right-color: var(--fill-color);\n",
              "    }\n",
              "    80% {\n",
              "      border-color: transparent;\n",
              "      border-right-color: var(--fill-color);\n",
              "      border-bottom-color: var(--fill-color);\n",
              "    }\n",
              "    90% {\n",
              "      border-color: transparent;\n",
              "      border-bottom-color: var(--fill-color);\n",
              "    }\n",
              "  }\n",
              "</style>\n",
              "\n",
              "  <script>\n",
              "    async function quickchart(key) {\n",
              "      const quickchartButtonEl =\n",
              "        document.querySelector('#' + key + ' button');\n",
              "      quickchartButtonEl.disabled = true;  // To prevent multiple clicks.\n",
              "      quickchartButtonEl.classList.add('colab-df-spinner');\n",
              "      try {\n",
              "        const charts = await google.colab.kernel.invokeFunction(\n",
              "            'suggestCharts', [key], {});\n",
              "      } catch (error) {\n",
              "        console.error('Error during call to suggestCharts:', error);\n",
              "      }\n",
              "      quickchartButtonEl.classList.remove('colab-df-spinner');\n",
              "      quickchartButtonEl.classList.add('colab-df-quickchart-complete');\n",
              "    }\n",
              "    (() => {\n",
              "      let quickchartButtonEl =\n",
              "        document.querySelector('#df-e0213434-4737-4a49-983e-3fbe9bff56ca button');\n",
              "      quickchartButtonEl.style.display =\n",
              "        google.colab.kernel.accessAllowed ? 'block' : 'none';\n",
              "    })();\n",
              "  </script>\n",
              "</div>\n",
              "    </div>\n",
              "  </div>\n"
            ],
            "application/vnd.google.colaboratory.intrinsic+json": {
              "type": "dataframe",
              "variable_name": "books"
            }
          },
          "metadata": {},
          "execution_count": 7
        }
      ],
      "source": [
        "books.head()"
      ]
    },
    {
      "cell_type": "code",
      "execution_count": null,
      "metadata": {
        "id": "zSY7gQJmEWF5"
      },
      "outputs": [],
      "source": [
        "books_meets = interactions.groupby(\"ISBN\")[\"User-ID\"].count().reset_index().rename(columns={\"User-ID\": \"user_num\"})"
      ]
    },
    {
      "cell_type": "code",
      "execution_count": null,
      "metadata": {
        "id": "edrQzalgEWF5"
      },
      "outputs": [],
      "source": [
        "user_meets = interactions.groupby(\"User-ID\")[\"ISBN\"].count().reset_index().rename(columns={\"ISBN\": \"books_num\"})"
      ]
    },
    {
      "cell_type": "code",
      "execution_count": null,
      "metadata": {
        "id": "88Ezv4jTEWF5"
      },
      "outputs": [],
      "source": [
        "interactions = interactions.merge(books_meets, on=[\"ISBN\"]).merge(user_meets, on=[\"User-ID\"])"
      ]
    },
    {
      "cell_type": "code",
      "execution_count": null,
      "metadata": {
        "id": "fzGmiqRFEWF5"
      },
      "outputs": [],
      "source": [
        "interactions = interactions[(interactions[\"user_num\"] > 5) &\n",
        "                            (interactions[\"books_num\"] > 5) &\n",
        "                            (interactions[\"books_num\"] < 200)]"
      ]
    },
    {
      "cell_type": "code",
      "execution_count": null,
      "metadata": {
        "id": "rwWiZOs4EWF6"
      },
      "outputs": [],
      "source": [
        "users = pd.read_csv('/content/drive/MyDrive/recsys-hw-data/BX-Users.csv', delimiter=';', encoding = 'ISO-8859-1')"
      ]
    },
    {
      "cell_type": "code",
      "source": [
        "users"
      ],
      "metadata": {
        "colab": {
          "base_uri": "https://localhost:8080/",
          "height": 424
        },
        "id": "SO8kWALcOXYk",
        "outputId": "bae3108f-9df2-4ec8-c3ab-2f7d701a0a67"
      },
      "execution_count": null,
      "outputs": [
        {
          "output_type": "execute_result",
          "data": {
            "text/plain": [
              "        User-ID                            Location   Age\n",
              "0             1                  nyc, new york, usa   NaN\n",
              "1             2           stockton, california, usa  18.0\n",
              "2             3     moscow, yukon territory, russia   NaN\n",
              "3             4           porto, v.n.gaia, portugal  17.0\n",
              "4             5  farnborough, hants, united kingdom   NaN\n",
              "...         ...                                 ...   ...\n",
              "278853   278854               portland, oregon, usa   NaN\n",
              "278854   278855  tacoma, washington, united kingdom  50.0\n",
              "278855   278856           brampton, ontario, canada   NaN\n",
              "278856   278857           knoxville, tennessee, usa   NaN\n",
              "278857   278858                dublin, n/a, ireland   NaN\n",
              "\n",
              "[278858 rows x 3 columns]"
            ],
            "text/html": [
              "\n",
              "  <div id=\"df-2b273b7d-b212-48ab-8400-dbddf6e8e021\" class=\"colab-df-container\">\n",
              "    <div>\n",
              "<style scoped>\n",
              "    .dataframe tbody tr th:only-of-type {\n",
              "        vertical-align: middle;\n",
              "    }\n",
              "\n",
              "    .dataframe tbody tr th {\n",
              "        vertical-align: top;\n",
              "    }\n",
              "\n",
              "    .dataframe thead th {\n",
              "        text-align: right;\n",
              "    }\n",
              "</style>\n",
              "<table border=\"1\" class=\"dataframe\">\n",
              "  <thead>\n",
              "    <tr style=\"text-align: right;\">\n",
              "      <th></th>\n",
              "      <th>User-ID</th>\n",
              "      <th>Location</th>\n",
              "      <th>Age</th>\n",
              "    </tr>\n",
              "  </thead>\n",
              "  <tbody>\n",
              "    <tr>\n",
              "      <th>0</th>\n",
              "      <td>1</td>\n",
              "      <td>nyc, new york, usa</td>\n",
              "      <td>NaN</td>\n",
              "    </tr>\n",
              "    <tr>\n",
              "      <th>1</th>\n",
              "      <td>2</td>\n",
              "      <td>stockton, california, usa</td>\n",
              "      <td>18.0</td>\n",
              "    </tr>\n",
              "    <tr>\n",
              "      <th>2</th>\n",
              "      <td>3</td>\n",
              "      <td>moscow, yukon territory, russia</td>\n",
              "      <td>NaN</td>\n",
              "    </tr>\n",
              "    <tr>\n",
              "      <th>3</th>\n",
              "      <td>4</td>\n",
              "      <td>porto, v.n.gaia, portugal</td>\n",
              "      <td>17.0</td>\n",
              "    </tr>\n",
              "    <tr>\n",
              "      <th>4</th>\n",
              "      <td>5</td>\n",
              "      <td>farnborough, hants, united kingdom</td>\n",
              "      <td>NaN</td>\n",
              "    </tr>\n",
              "    <tr>\n",
              "      <th>...</th>\n",
              "      <td>...</td>\n",
              "      <td>...</td>\n",
              "      <td>...</td>\n",
              "    </tr>\n",
              "    <tr>\n",
              "      <th>278853</th>\n",
              "      <td>278854</td>\n",
              "      <td>portland, oregon, usa</td>\n",
              "      <td>NaN</td>\n",
              "    </tr>\n",
              "    <tr>\n",
              "      <th>278854</th>\n",
              "      <td>278855</td>\n",
              "      <td>tacoma, washington, united kingdom</td>\n",
              "      <td>50.0</td>\n",
              "    </tr>\n",
              "    <tr>\n",
              "      <th>278855</th>\n",
              "      <td>278856</td>\n",
              "      <td>brampton, ontario, canada</td>\n",
              "      <td>NaN</td>\n",
              "    </tr>\n",
              "    <tr>\n",
              "      <th>278856</th>\n",
              "      <td>278857</td>\n",
              "      <td>knoxville, tennessee, usa</td>\n",
              "      <td>NaN</td>\n",
              "    </tr>\n",
              "    <tr>\n",
              "      <th>278857</th>\n",
              "      <td>278858</td>\n",
              "      <td>dublin, n/a, ireland</td>\n",
              "      <td>NaN</td>\n",
              "    </tr>\n",
              "  </tbody>\n",
              "</table>\n",
              "<p>278858 rows × 3 columns</p>\n",
              "</div>\n",
              "    <div class=\"colab-df-buttons\">\n",
              "\n",
              "  <div class=\"colab-df-container\">\n",
              "    <button class=\"colab-df-convert\" onclick=\"convertToInteractive('df-2b273b7d-b212-48ab-8400-dbddf6e8e021')\"\n",
              "            title=\"Convert this dataframe to an interactive table.\"\n",
              "            style=\"display:none;\">\n",
              "\n",
              "  <svg xmlns=\"http://www.w3.org/2000/svg\" height=\"24px\" viewBox=\"0 -960 960 960\">\n",
              "    <path d=\"M120-120v-720h720v720H120Zm60-500h600v-160H180v160Zm220 220h160v-160H400v160Zm0 220h160v-160H400v160ZM180-400h160v-160H180v160Zm440 0h160v-160H620v160ZM180-180h160v-160H180v160Zm440 0h160v-160H620v160Z\"/>\n",
              "  </svg>\n",
              "    </button>\n",
              "\n",
              "  <style>\n",
              "    .colab-df-container {\n",
              "      display:flex;\n",
              "      gap: 12px;\n",
              "    }\n",
              "\n",
              "    .colab-df-convert {\n",
              "      background-color: #E8F0FE;\n",
              "      border: none;\n",
              "      border-radius: 50%;\n",
              "      cursor: pointer;\n",
              "      display: none;\n",
              "      fill: #1967D2;\n",
              "      height: 32px;\n",
              "      padding: 0 0 0 0;\n",
              "      width: 32px;\n",
              "    }\n",
              "\n",
              "    .colab-df-convert:hover {\n",
              "      background-color: #E2EBFA;\n",
              "      box-shadow: 0px 1px 2px rgba(60, 64, 67, 0.3), 0px 1px 3px 1px rgba(60, 64, 67, 0.15);\n",
              "      fill: #174EA6;\n",
              "    }\n",
              "\n",
              "    .colab-df-buttons div {\n",
              "      margin-bottom: 4px;\n",
              "    }\n",
              "\n",
              "    [theme=dark] .colab-df-convert {\n",
              "      background-color: #3B4455;\n",
              "      fill: #D2E3FC;\n",
              "    }\n",
              "\n",
              "    [theme=dark] .colab-df-convert:hover {\n",
              "      background-color: #434B5C;\n",
              "      box-shadow: 0px 1px 3px 1px rgba(0, 0, 0, 0.15);\n",
              "      filter: drop-shadow(0px 1px 2px rgba(0, 0, 0, 0.3));\n",
              "      fill: #FFFFFF;\n",
              "    }\n",
              "  </style>\n",
              "\n",
              "    <script>\n",
              "      const buttonEl =\n",
              "        document.querySelector('#df-2b273b7d-b212-48ab-8400-dbddf6e8e021 button.colab-df-convert');\n",
              "      buttonEl.style.display =\n",
              "        google.colab.kernel.accessAllowed ? 'block' : 'none';\n",
              "\n",
              "      async function convertToInteractive(key) {\n",
              "        const element = document.querySelector('#df-2b273b7d-b212-48ab-8400-dbddf6e8e021');\n",
              "        const dataTable =\n",
              "          await google.colab.kernel.invokeFunction('convertToInteractive',\n",
              "                                                    [key], {});\n",
              "        if (!dataTable) return;\n",
              "\n",
              "        const docLinkHtml = 'Like what you see? Visit the ' +\n",
              "          '<a target=\"_blank\" href=https://colab.research.google.com/notebooks/data_table.ipynb>data table notebook</a>'\n",
              "          + ' to learn more about interactive tables.';\n",
              "        element.innerHTML = '';\n",
              "        dataTable['output_type'] = 'display_data';\n",
              "        await google.colab.output.renderOutput(dataTable, element);\n",
              "        const docLink = document.createElement('div');\n",
              "        docLink.innerHTML = docLinkHtml;\n",
              "        element.appendChild(docLink);\n",
              "      }\n",
              "    </script>\n",
              "  </div>\n",
              "\n",
              "\n",
              "<div id=\"df-5be711b4-4e60-4c8e-86b1-d5f3379319c9\">\n",
              "  <button class=\"colab-df-quickchart\" onclick=\"quickchart('df-5be711b4-4e60-4c8e-86b1-d5f3379319c9')\"\n",
              "            title=\"Suggest charts\"\n",
              "            style=\"display:none;\">\n",
              "\n",
              "<svg xmlns=\"http://www.w3.org/2000/svg\" height=\"24px\"viewBox=\"0 0 24 24\"\n",
              "     width=\"24px\">\n",
              "    <g>\n",
              "        <path d=\"M19 3H5c-1.1 0-2 .9-2 2v14c0 1.1.9 2 2 2h14c1.1 0 2-.9 2-2V5c0-1.1-.9-2-2-2zM9 17H7v-7h2v7zm4 0h-2V7h2v10zm4 0h-2v-4h2v4z\"/>\n",
              "    </g>\n",
              "</svg>\n",
              "  </button>\n",
              "\n",
              "<style>\n",
              "  .colab-df-quickchart {\n",
              "      --bg-color: #E8F0FE;\n",
              "      --fill-color: #1967D2;\n",
              "      --hover-bg-color: #E2EBFA;\n",
              "      --hover-fill-color: #174EA6;\n",
              "      --disabled-fill-color: #AAA;\n",
              "      --disabled-bg-color: #DDD;\n",
              "  }\n",
              "\n",
              "  [theme=dark] .colab-df-quickchart {\n",
              "      --bg-color: #3B4455;\n",
              "      --fill-color: #D2E3FC;\n",
              "      --hover-bg-color: #434B5C;\n",
              "      --hover-fill-color: #FFFFFF;\n",
              "      --disabled-bg-color: #3B4455;\n",
              "      --disabled-fill-color: #666;\n",
              "  }\n",
              "\n",
              "  .colab-df-quickchart {\n",
              "    background-color: var(--bg-color);\n",
              "    border: none;\n",
              "    border-radius: 50%;\n",
              "    cursor: pointer;\n",
              "    display: none;\n",
              "    fill: var(--fill-color);\n",
              "    height: 32px;\n",
              "    padding: 0;\n",
              "    width: 32px;\n",
              "  }\n",
              "\n",
              "  .colab-df-quickchart:hover {\n",
              "    background-color: var(--hover-bg-color);\n",
              "    box-shadow: 0 1px 2px rgba(60, 64, 67, 0.3), 0 1px 3px 1px rgba(60, 64, 67, 0.15);\n",
              "    fill: var(--button-hover-fill-color);\n",
              "  }\n",
              "\n",
              "  .colab-df-quickchart-complete:disabled,\n",
              "  .colab-df-quickchart-complete:disabled:hover {\n",
              "    background-color: var(--disabled-bg-color);\n",
              "    fill: var(--disabled-fill-color);\n",
              "    box-shadow: none;\n",
              "  }\n",
              "\n",
              "  .colab-df-spinner {\n",
              "    border: 2px solid var(--fill-color);\n",
              "    border-color: transparent;\n",
              "    border-bottom-color: var(--fill-color);\n",
              "    animation:\n",
              "      spin 1s steps(1) infinite;\n",
              "  }\n",
              "\n",
              "  @keyframes spin {\n",
              "    0% {\n",
              "      border-color: transparent;\n",
              "      border-bottom-color: var(--fill-color);\n",
              "      border-left-color: var(--fill-color);\n",
              "    }\n",
              "    20% {\n",
              "      border-color: transparent;\n",
              "      border-left-color: var(--fill-color);\n",
              "      border-top-color: var(--fill-color);\n",
              "    }\n",
              "    30% {\n",
              "      border-color: transparent;\n",
              "      border-left-color: var(--fill-color);\n",
              "      border-top-color: var(--fill-color);\n",
              "      border-right-color: var(--fill-color);\n",
              "    }\n",
              "    40% {\n",
              "      border-color: transparent;\n",
              "      border-right-color: var(--fill-color);\n",
              "      border-top-color: var(--fill-color);\n",
              "    }\n",
              "    60% {\n",
              "      border-color: transparent;\n",
              "      border-right-color: var(--fill-color);\n",
              "    }\n",
              "    80% {\n",
              "      border-color: transparent;\n",
              "      border-right-color: var(--fill-color);\n",
              "      border-bottom-color: var(--fill-color);\n",
              "    }\n",
              "    90% {\n",
              "      border-color: transparent;\n",
              "      border-bottom-color: var(--fill-color);\n",
              "    }\n",
              "  }\n",
              "</style>\n",
              "\n",
              "  <script>\n",
              "    async function quickchart(key) {\n",
              "      const quickchartButtonEl =\n",
              "        document.querySelector('#' + key + ' button');\n",
              "      quickchartButtonEl.disabled = true;  // To prevent multiple clicks.\n",
              "      quickchartButtonEl.classList.add('colab-df-spinner');\n",
              "      try {\n",
              "        const charts = await google.colab.kernel.invokeFunction(\n",
              "            'suggestCharts', [key], {});\n",
              "      } catch (error) {\n",
              "        console.error('Error during call to suggestCharts:', error);\n",
              "      }\n",
              "      quickchartButtonEl.classList.remove('colab-df-spinner');\n",
              "      quickchartButtonEl.classList.add('colab-df-quickchart-complete');\n",
              "    }\n",
              "    (() => {\n",
              "      let quickchartButtonEl =\n",
              "        document.querySelector('#df-5be711b4-4e60-4c8e-86b1-d5f3379319c9 button');\n",
              "      quickchartButtonEl.style.display =\n",
              "        google.colab.kernel.accessAllowed ? 'block' : 'none';\n",
              "    })();\n",
              "  </script>\n",
              "</div>\n",
              "    </div>\n",
              "  </div>\n"
            ],
            "application/vnd.google.colaboratory.intrinsic+json": {
              "type": "dataframe",
              "variable_name": "users"
            }
          },
          "metadata": {},
          "execution_count": 13
        }
      ]
    },
    {
      "cell_type": "code",
      "execution_count": null,
      "metadata": {
        "id": "gQIvT6R-EWF6"
      },
      "outputs": [],
      "source": [
        "interactions = interactions.merge(books[[\"ISBN\", \"Image-URL-M\", \"Book-Title\"]].rename(\n",
        "    columns={\"Image-URL-M\": \"picture_url\"}), on=[\"ISBN\"])"
      ]
    },
    {
      "cell_type": "code",
      "execution_count": null,
      "metadata": {
        "id": "abwPiGCREWF6"
      },
      "outputs": [],
      "source": [
        "from sklearn.preprocessing import LabelEncoder\n",
        "\n",
        "le = LabelEncoder()"
      ]
    },
    {
      "cell_type": "code",
      "execution_count": null,
      "metadata": {
        "id": "_8f_4kUyEWF6"
      },
      "outputs": [],
      "source": [
        "interactions[\"product_id\"] = le.fit_transform(interactions[\"ISBN\"])\n",
        "interactions[\"vid\"] = le.fit_transform(interactions[\"User-ID\"])"
      ]
    },
    {
      "cell_type": "code",
      "execution_count": null,
      "metadata": {
        "id": "KYtBwWqlEWF6",
        "colab": {
          "base_uri": "https://localhost:8080/",
          "height": 310
        },
        "outputId": "cda93bca-ab15-412e-f29b-af0a361725e1"
      },
      "outputs": [
        {
          "output_type": "execute_result",
          "data": {
            "text/plain": [
              "   User-ID        ISBN  Book-Rating  user_num  books_num  \\\n",
              "0    86583  3404139178            9         8         18   \n",
              "1   132500  3404139178           10         8         43   \n",
              "2    66483  3404139178           10         8         83   \n",
              "3   276866  3404139178            9         8         11   \n",
              "4   106534  3404139178            6         8          6   \n",
              "\n",
              "                                         picture_url  \\\n",
              "0  http://images.amazon.com/images/P/3404139178.0...   \n",
              "1  http://images.amazon.com/images/P/3404139178.0...   \n",
              "2  http://images.amazon.com/images/P/3404139178.0...   \n",
              "3  http://images.amazon.com/images/P/3404139178.0...   \n",
              "4  http://images.amazon.com/images/P/3404139178.0...   \n",
              "\n",
              "                                    Book-Title  product_id    vid  \n",
              "0  Das Lacheln der Fortuna: Historischer Roman       10397   3445  \n",
              "1  Das Lacheln der Fortuna: Historischer Roman       10397   5248  \n",
              "2  Das Lacheln der Fortuna: Historischer Roman       10397   2622  \n",
              "3  Das Lacheln der Fortuna: Historischer Roman       10397  10887  \n",
              "4  Das Lacheln der Fortuna: Historischer Roman       10397   4228  "
            ],
            "text/html": [
              "\n",
              "  <div id=\"df-08580511-bed1-4ae9-8531-ba8cc87e7d96\" class=\"colab-df-container\">\n",
              "    <div>\n",
              "<style scoped>\n",
              "    .dataframe tbody tr th:only-of-type {\n",
              "        vertical-align: middle;\n",
              "    }\n",
              "\n",
              "    .dataframe tbody tr th {\n",
              "        vertical-align: top;\n",
              "    }\n",
              "\n",
              "    .dataframe thead th {\n",
              "        text-align: right;\n",
              "    }\n",
              "</style>\n",
              "<table border=\"1\" class=\"dataframe\">\n",
              "  <thead>\n",
              "    <tr style=\"text-align: right;\">\n",
              "      <th></th>\n",
              "      <th>User-ID</th>\n",
              "      <th>ISBN</th>\n",
              "      <th>Book-Rating</th>\n",
              "      <th>user_num</th>\n",
              "      <th>books_num</th>\n",
              "      <th>picture_url</th>\n",
              "      <th>Book-Title</th>\n",
              "      <th>product_id</th>\n",
              "      <th>vid</th>\n",
              "    </tr>\n",
              "  </thead>\n",
              "  <tbody>\n",
              "    <tr>\n",
              "      <th>0</th>\n",
              "      <td>86583</td>\n",
              "      <td>3404139178</td>\n",
              "      <td>9</td>\n",
              "      <td>8</td>\n",
              "      <td>18</td>\n",
              "      <td>http://images.amazon.com/images/P/3404139178.0...</td>\n",
              "      <td>Das Lacheln der Fortuna: Historischer Roman</td>\n",
              "      <td>10397</td>\n",
              "      <td>3445</td>\n",
              "    </tr>\n",
              "    <tr>\n",
              "      <th>1</th>\n",
              "      <td>132500</td>\n",
              "      <td>3404139178</td>\n",
              "      <td>10</td>\n",
              "      <td>8</td>\n",
              "      <td>43</td>\n",
              "      <td>http://images.amazon.com/images/P/3404139178.0...</td>\n",
              "      <td>Das Lacheln der Fortuna: Historischer Roman</td>\n",
              "      <td>10397</td>\n",
              "      <td>5248</td>\n",
              "    </tr>\n",
              "    <tr>\n",
              "      <th>2</th>\n",
              "      <td>66483</td>\n",
              "      <td>3404139178</td>\n",
              "      <td>10</td>\n",
              "      <td>8</td>\n",
              "      <td>83</td>\n",
              "      <td>http://images.amazon.com/images/P/3404139178.0...</td>\n",
              "      <td>Das Lacheln der Fortuna: Historischer Roman</td>\n",
              "      <td>10397</td>\n",
              "      <td>2622</td>\n",
              "    </tr>\n",
              "    <tr>\n",
              "      <th>3</th>\n",
              "      <td>276866</td>\n",
              "      <td>3404139178</td>\n",
              "      <td>9</td>\n",
              "      <td>8</td>\n",
              "      <td>11</td>\n",
              "      <td>http://images.amazon.com/images/P/3404139178.0...</td>\n",
              "      <td>Das Lacheln der Fortuna: Historischer Roman</td>\n",
              "      <td>10397</td>\n",
              "      <td>10887</td>\n",
              "    </tr>\n",
              "    <tr>\n",
              "      <th>4</th>\n",
              "      <td>106534</td>\n",
              "      <td>3404139178</td>\n",
              "      <td>6</td>\n",
              "      <td>8</td>\n",
              "      <td>6</td>\n",
              "      <td>http://images.amazon.com/images/P/3404139178.0...</td>\n",
              "      <td>Das Lacheln der Fortuna: Historischer Roman</td>\n",
              "      <td>10397</td>\n",
              "      <td>4228</td>\n",
              "    </tr>\n",
              "  </tbody>\n",
              "</table>\n",
              "</div>\n",
              "    <div class=\"colab-df-buttons\">\n",
              "\n",
              "  <div class=\"colab-df-container\">\n",
              "    <button class=\"colab-df-convert\" onclick=\"convertToInteractive('df-08580511-bed1-4ae9-8531-ba8cc87e7d96')\"\n",
              "            title=\"Convert this dataframe to an interactive table.\"\n",
              "            style=\"display:none;\">\n",
              "\n",
              "  <svg xmlns=\"http://www.w3.org/2000/svg\" height=\"24px\" viewBox=\"0 -960 960 960\">\n",
              "    <path d=\"M120-120v-720h720v720H120Zm60-500h600v-160H180v160Zm220 220h160v-160H400v160Zm0 220h160v-160H400v160ZM180-400h160v-160H180v160Zm440 0h160v-160H620v160ZM180-180h160v-160H180v160Zm440 0h160v-160H620v160Z\"/>\n",
              "  </svg>\n",
              "    </button>\n",
              "\n",
              "  <style>\n",
              "    .colab-df-container {\n",
              "      display:flex;\n",
              "      gap: 12px;\n",
              "    }\n",
              "\n",
              "    .colab-df-convert {\n",
              "      background-color: #E8F0FE;\n",
              "      border: none;\n",
              "      border-radius: 50%;\n",
              "      cursor: pointer;\n",
              "      display: none;\n",
              "      fill: #1967D2;\n",
              "      height: 32px;\n",
              "      padding: 0 0 0 0;\n",
              "      width: 32px;\n",
              "    }\n",
              "\n",
              "    .colab-df-convert:hover {\n",
              "      background-color: #E2EBFA;\n",
              "      box-shadow: 0px 1px 2px rgba(60, 64, 67, 0.3), 0px 1px 3px 1px rgba(60, 64, 67, 0.15);\n",
              "      fill: #174EA6;\n",
              "    }\n",
              "\n",
              "    .colab-df-buttons div {\n",
              "      margin-bottom: 4px;\n",
              "    }\n",
              "\n",
              "    [theme=dark] .colab-df-convert {\n",
              "      background-color: #3B4455;\n",
              "      fill: #D2E3FC;\n",
              "    }\n",
              "\n",
              "    [theme=dark] .colab-df-convert:hover {\n",
              "      background-color: #434B5C;\n",
              "      box-shadow: 0px 1px 3px 1px rgba(0, 0, 0, 0.15);\n",
              "      filter: drop-shadow(0px 1px 2px rgba(0, 0, 0, 0.3));\n",
              "      fill: #FFFFFF;\n",
              "    }\n",
              "  </style>\n",
              "\n",
              "    <script>\n",
              "      const buttonEl =\n",
              "        document.querySelector('#df-08580511-bed1-4ae9-8531-ba8cc87e7d96 button.colab-df-convert');\n",
              "      buttonEl.style.display =\n",
              "        google.colab.kernel.accessAllowed ? 'block' : 'none';\n",
              "\n",
              "      async function convertToInteractive(key) {\n",
              "        const element = document.querySelector('#df-08580511-bed1-4ae9-8531-ba8cc87e7d96');\n",
              "        const dataTable =\n",
              "          await google.colab.kernel.invokeFunction('convertToInteractive',\n",
              "                                                    [key], {});\n",
              "        if (!dataTable) return;\n",
              "\n",
              "        const docLinkHtml = 'Like what you see? Visit the ' +\n",
              "          '<a target=\"_blank\" href=https://colab.research.google.com/notebooks/data_table.ipynb>data table notebook</a>'\n",
              "          + ' to learn more about interactive tables.';\n",
              "        element.innerHTML = '';\n",
              "        dataTable['output_type'] = 'display_data';\n",
              "        await google.colab.output.renderOutput(dataTable, element);\n",
              "        const docLink = document.createElement('div');\n",
              "        docLink.innerHTML = docLinkHtml;\n",
              "        element.appendChild(docLink);\n",
              "      }\n",
              "    </script>\n",
              "  </div>\n",
              "\n",
              "\n",
              "<div id=\"df-b012d6c0-d201-48a7-ab23-8473ceed2c81\">\n",
              "  <button class=\"colab-df-quickchart\" onclick=\"quickchart('df-b012d6c0-d201-48a7-ab23-8473ceed2c81')\"\n",
              "            title=\"Suggest charts\"\n",
              "            style=\"display:none;\">\n",
              "\n",
              "<svg xmlns=\"http://www.w3.org/2000/svg\" height=\"24px\"viewBox=\"0 0 24 24\"\n",
              "     width=\"24px\">\n",
              "    <g>\n",
              "        <path d=\"M19 3H5c-1.1 0-2 .9-2 2v14c0 1.1.9 2 2 2h14c1.1 0 2-.9 2-2V5c0-1.1-.9-2-2-2zM9 17H7v-7h2v7zm4 0h-2V7h2v10zm4 0h-2v-4h2v4z\"/>\n",
              "    </g>\n",
              "</svg>\n",
              "  </button>\n",
              "\n",
              "<style>\n",
              "  .colab-df-quickchart {\n",
              "      --bg-color: #E8F0FE;\n",
              "      --fill-color: #1967D2;\n",
              "      --hover-bg-color: #E2EBFA;\n",
              "      --hover-fill-color: #174EA6;\n",
              "      --disabled-fill-color: #AAA;\n",
              "      --disabled-bg-color: #DDD;\n",
              "  }\n",
              "\n",
              "  [theme=dark] .colab-df-quickchart {\n",
              "      --bg-color: #3B4455;\n",
              "      --fill-color: #D2E3FC;\n",
              "      --hover-bg-color: #434B5C;\n",
              "      --hover-fill-color: #FFFFFF;\n",
              "      --disabled-bg-color: #3B4455;\n",
              "      --disabled-fill-color: #666;\n",
              "  }\n",
              "\n",
              "  .colab-df-quickchart {\n",
              "    background-color: var(--bg-color);\n",
              "    border: none;\n",
              "    border-radius: 50%;\n",
              "    cursor: pointer;\n",
              "    display: none;\n",
              "    fill: var(--fill-color);\n",
              "    height: 32px;\n",
              "    padding: 0;\n",
              "    width: 32px;\n",
              "  }\n",
              "\n",
              "  .colab-df-quickchart:hover {\n",
              "    background-color: var(--hover-bg-color);\n",
              "    box-shadow: 0 1px 2px rgba(60, 64, 67, 0.3), 0 1px 3px 1px rgba(60, 64, 67, 0.15);\n",
              "    fill: var(--button-hover-fill-color);\n",
              "  }\n",
              "\n",
              "  .colab-df-quickchart-complete:disabled,\n",
              "  .colab-df-quickchart-complete:disabled:hover {\n",
              "    background-color: var(--disabled-bg-color);\n",
              "    fill: var(--disabled-fill-color);\n",
              "    box-shadow: none;\n",
              "  }\n",
              "\n",
              "  .colab-df-spinner {\n",
              "    border: 2px solid var(--fill-color);\n",
              "    border-color: transparent;\n",
              "    border-bottom-color: var(--fill-color);\n",
              "    animation:\n",
              "      spin 1s steps(1) infinite;\n",
              "  }\n",
              "\n",
              "  @keyframes spin {\n",
              "    0% {\n",
              "      border-color: transparent;\n",
              "      border-bottom-color: var(--fill-color);\n",
              "      border-left-color: var(--fill-color);\n",
              "    }\n",
              "    20% {\n",
              "      border-color: transparent;\n",
              "      border-left-color: var(--fill-color);\n",
              "      border-top-color: var(--fill-color);\n",
              "    }\n",
              "    30% {\n",
              "      border-color: transparent;\n",
              "      border-left-color: var(--fill-color);\n",
              "      border-top-color: var(--fill-color);\n",
              "      border-right-color: var(--fill-color);\n",
              "    }\n",
              "    40% {\n",
              "      border-color: transparent;\n",
              "      border-right-color: var(--fill-color);\n",
              "      border-top-color: var(--fill-color);\n",
              "    }\n",
              "    60% {\n",
              "      border-color: transparent;\n",
              "      border-right-color: var(--fill-color);\n",
              "    }\n",
              "    80% {\n",
              "      border-color: transparent;\n",
              "      border-right-color: var(--fill-color);\n",
              "      border-bottom-color: var(--fill-color);\n",
              "    }\n",
              "    90% {\n",
              "      border-color: transparent;\n",
              "      border-bottom-color: var(--fill-color);\n",
              "    }\n",
              "  }\n",
              "</style>\n",
              "\n",
              "  <script>\n",
              "    async function quickchart(key) {\n",
              "      const quickchartButtonEl =\n",
              "        document.querySelector('#' + key + ' button');\n",
              "      quickchartButtonEl.disabled = true;  // To prevent multiple clicks.\n",
              "      quickchartButtonEl.classList.add('colab-df-spinner');\n",
              "      try {\n",
              "        const charts = await google.colab.kernel.invokeFunction(\n",
              "            'suggestCharts', [key], {});\n",
              "      } catch (error) {\n",
              "        console.error('Error during call to suggestCharts:', error);\n",
              "      }\n",
              "      quickchartButtonEl.classList.remove('colab-df-spinner');\n",
              "      quickchartButtonEl.classList.add('colab-df-quickchart-complete');\n",
              "    }\n",
              "    (() => {\n",
              "      let quickchartButtonEl =\n",
              "        document.querySelector('#df-b012d6c0-d201-48a7-ab23-8473ceed2c81 button');\n",
              "      quickchartButtonEl.style.display =\n",
              "        google.colab.kernel.accessAllowed ? 'block' : 'none';\n",
              "    })();\n",
              "  </script>\n",
              "</div>\n",
              "    </div>\n",
              "  </div>\n"
            ],
            "application/vnd.google.colaboratory.intrinsic+json": {
              "type": "dataframe",
              "variable_name": "interactions"
            }
          },
          "metadata": {},
          "execution_count": 17
        }
      ],
      "source": [
        "interactions.head()"
      ]
    },
    {
      "cell_type": "code",
      "source": [
        "from scipy.sparse import coo_matrix, csr_matrix"
      ],
      "metadata": {
        "id": "F6p0JcSOMkyu"
      },
      "execution_count": null,
      "outputs": []
    },
    {
      "cell_type": "code",
      "execution_count": null,
      "metadata": {
        "scrolled": true,
        "id": "ERRlchM9EWF7"
      },
      "outputs": [],
      "source": [
        "csr_rates = coo_matrix((interactions[\"Book-Rating\"], (interactions[\"vid\"], interactions[\"product_id\"])),\n",
        "                            shape=(len(set(interactions[\"vid\"])), len(set(interactions[\"product_id\"]))))"
      ]
    },
    {
      "cell_type": "markdown",
      "metadata": {
        "id": "ObpD-cFtEWF7"
      },
      "source": [
        "### Ищем id нужных книг"
      ]
    },
    {
      "cell_type": "code",
      "source": [
        "ids = [4233, 1921, 1264, 7216] # выбрала известны книги - Гарри Поттер, Властелин Колец, Маленький Принц, Оно"
      ],
      "metadata": {
        "id": "s1F5TOJLb74I"
      },
      "execution_count": null,
      "outputs": []
    },
    {
      "cell_type": "code",
      "execution_count": null,
      "metadata": {
        "id": "MFDGfa4vEWF7",
        "colab": {
          "base_uri": "https://localhost:8080/"
        },
        "outputId": "1aa2135a-cdec-4f01-82f5-f5c21fcaf01c"
      },
      "outputs": [
        {
          "output_type": "stream",
          "name": "stdout",
          "text": [
            "idx: 4233 \tBook Title: Harry Potter and the Order of the Phoenix (Book 5)\n",
            "idx: 7036 \tBook Title: Harry Potter and the Sorcerer's Stone (Harry Potter (Paperback))\n",
            "idx: 4216 \tBook Title: Harry Potter and the Chamber of Secrets (Book 2)\n",
            "idx: 4226 \tBook Title: Harry Potter and the Goblet of Fire (Book 4)\n",
            "idx: 7035 \tBook Title: Harry Potter and the Sorcerer's Stone (Book 1)\n",
            "idx: 4238 \tBook Title: Harry Potter and the Chamber of Secrets Postcard Book\n",
            "idx: 4224 \tBook Title: Harry Potter and the Prisoner of Azkaban (Book 3)\n",
            "idx: 4227 \tBook Title: Harry Potter and the Goblet of Fire (Book 4)\n",
            "idx: 4217 \tBook Title: Harry Potter and the Chamber of Secrets (Book 2)\n",
            "idx: 4225 \tBook Title: Harry Potter and the Prisoner of Azkaban (Book 3)\n",
            "idx: 8836 \tBook Title: The Sorcerer's Companion: A Guide to the Magical World of Harry Potter\n",
            "idx: 9732 \tBook Title: Ultimate Unofficial Guide to the Mysteries of Harry Potter\n",
            "idx: 4234 \tBook Title: Harry Potter and the Sorcerer's Stone (Book 1)\n",
            "idx: 10280 \tBook Title: Harry Potter et la chambre des secrets\n",
            "idx: 10664 \tBook Title: Harry Potter y el prisionero de Azkaban\n",
            "idx: 10665 \tBook Title: Harry Potter y el cÃ¡liz de fuego\n",
            "idx: 10574 \tBook Title: Harry Potter und die Kammer des Schreckens\n",
            "idx: 10573 \tBook Title: Harry Potter und der Stein der Weisen\n",
            "idx: 10575 \tBook Title: Harry Potter und der Gefangene von Azkaban\n",
            "idx: 10576 \tBook Title: Harry Potter Und Der Feuerkelch\n",
            "idx: 10663 \tBook Title: Harry Potter y la cÃ¡mara secreta\n",
            "idx: 10662 \tBook Title: Harry Potter y la piedra filosofal\n",
            "idx: 4236 \tBook Title: Harry Potter and the Chamber of Secrets (Book 2)\n",
            "idx: 4241 \tBook Title: Harry Potter and the Prisoner of Azkaban (Harry Potter)\n",
            "idx: 1407 \tBook Title: J. K. Rowling: The Wizard Behind Harry Potter\n"
          ]
        }
      ],
      "source": [
        "for i, j in interactions[[\"product_id\", \"Book-Title\"]].drop_duplicates().values:\n",
        "    if \"Harry Potter\" in j:\n",
        "        print(\"idx:\", i, \"\\tBook Title:\", j)"
      ]
    },
    {
      "cell_type": "markdown",
      "source": [
        "### Предобработка данных"
      ],
      "metadata": {
        "id": "ErbbgBD_Qgfn"
      }
    },
    {
      "cell_type": "code",
      "source": [
        "import matplotlib.pyplot as plt\n",
        "import seaborn as sns\n",
        "\n",
        "sns.set(style=\"darkgrid\", palette='magma')"
      ],
      "metadata": {
        "id": "EjoyGidIQf-8"
      },
      "execution_count": null,
      "outputs": []
    },
    {
      "cell_type": "markdown",
      "source": [
        "Пропуски в геопозиции:"
      ],
      "metadata": {
        "id": "LW080Xe3HEaz"
      }
    },
    {
      "cell_type": "code",
      "source": [
        "users.Location.isna().any()"
      ],
      "metadata": {
        "colab": {
          "base_uri": "https://localhost:8080/"
        },
        "id": "IgTpI8IoFeJu",
        "outputId": "bfd318ea-2387-463c-a282-a06fa39cf53b"
      },
      "execution_count": null,
      "outputs": [
        {
          "output_type": "execute_result",
          "data": {
            "text/plain": [
              "False"
            ]
          },
          "metadata": {},
          "execution_count": 23
        }
      ]
    },
    {
      "cell_type": "code",
      "source": [
        "users.Location.unique()"
      ],
      "metadata": {
        "colab": {
          "base_uri": "https://localhost:8080/"
        },
        "id": "UGv-wuQIHJ6p",
        "outputId": "6a69027f-037c-4f35-b180-12308449bea1"
      },
      "execution_count": null,
      "outputs": [
        {
          "output_type": "execute_result",
          "data": {
            "text/plain": [
              "array(['nyc, new york, usa', 'stockton, california, usa',\n",
              "       'moscow, yukon territory, russia', ...,\n",
              "       'sergnano, lombardia, italy', 'stranraer, n/a, united kingdom',\n",
              "       'tacoma, washington, united kingdom'], dtype=object)"
            ]
          },
          "metadata": {},
          "execution_count": 24
        }
      ]
    },
    {
      "cell_type": "markdown",
      "source": [
        "Закодируем локации"
      ],
      "metadata": {
        "id": "AWU-QDwKC-XP"
      }
    },
    {
      "cell_type": "code",
      "source": [
        "le = LabelEncoder()\n",
        "users.Location = le.fit_transform(users.Location)"
      ],
      "metadata": {
        "id": "xFHR-MlQDCq-"
      },
      "execution_count": null,
      "outputs": []
    },
    {
      "cell_type": "markdown",
      "source": [
        "Почти у половины юзеров нет информации о возрасте:"
      ],
      "metadata": {
        "id": "bpqGO2d4HI51"
      }
    },
    {
      "cell_type": "code",
      "source": [
        "users.Age.isna().sum()"
      ],
      "metadata": {
        "id": "fq23ozO8T8d3",
        "outputId": "a5132c38-d2c0-4001-bd29-7dd6980c9f47",
        "colab": {
          "base_uri": "https://localhost:8080/"
        }
      },
      "execution_count": null,
      "outputs": [
        {
          "output_type": "execute_result",
          "data": {
            "text/plain": [
              "110762"
            ]
          },
          "metadata": {},
          "execution_count": 26
        }
      ]
    },
    {
      "cell_type": "code",
      "source": [
        "users.shape"
      ],
      "metadata": {
        "colab": {
          "base_uri": "https://localhost:8080/"
        },
        "id": "fViivH_iMdYo",
        "outputId": "37b9bdae-5446-4db4-a22d-ae021c54ca09"
      },
      "execution_count": null,
      "outputs": [
        {
          "output_type": "execute_result",
          "data": {
            "text/plain": [
              "(278858, 3)"
            ]
          },
          "metadata": {},
          "execution_count": 27
        }
      ]
    },
    {
      "cell_type": "code",
      "source": [
        "users.Age.drop_duplicates().values"
      ],
      "metadata": {
        "colab": {
          "base_uri": "https://localhost:8080/"
        },
        "id": "k0v2izcDT2i1",
        "outputId": "6b443613-a883-460c-9cec-27375ecb5234"
      },
      "execution_count": null,
      "outputs": [
        {
          "output_type": "execute_result",
          "data": {
            "text/plain": [
              "array([ nan,  18.,  17.,  61.,  26.,  14.,  25.,  19.,  46.,  55.,  32.,\n",
              "        24.,  20.,  34.,  23.,  51.,  31.,  21.,  44.,  30.,  57.,  43.,\n",
              "        37.,  41.,  54.,  42.,  50.,  39.,  53.,  47.,  36.,  28.,  35.,\n",
              "        13.,  58.,  49.,  38.,  45.,  62.,  63.,  27.,  33.,  29.,  66.,\n",
              "        40.,  15.,  60.,   0.,  79.,  22.,  16.,  65.,  59.,  48.,  72.,\n",
              "        56.,  67.,   1.,  80.,  52.,  69.,  71.,  73.,  78.,   9.,  64.,\n",
              "       103., 104.,  12.,  74.,  75., 231.,   3.,  76.,  83.,  68., 119.,\n",
              "        11.,  77.,   2.,  70.,  93.,   8.,   7.,   4.,  81., 114., 230.,\n",
              "       239.,  10.,   5., 148., 151.,   6., 101., 201.,  96.,  84.,  82.,\n",
              "        90., 123., 244., 133.,  91., 128.,  94.,  85., 141., 110.,  97.,\n",
              "       219.,  86., 124.,  92., 175., 172., 209., 212., 237.,  87., 162.,\n",
              "       100., 156., 136.,  95.,  89., 106.,  99., 108., 210.,  88., 199.,\n",
              "       147., 168., 132., 159., 186., 152., 102., 116., 200., 115., 226.,\n",
              "       137., 207., 229., 138., 109., 105., 228., 183., 204.,  98., 223.,\n",
              "       113., 208., 107., 157., 111., 146., 118., 220., 143., 140., 189.,\n",
              "       127.])"
            ]
          },
          "metadata": {},
          "execution_count": 28
        }
      ]
    },
    {
      "cell_type": "code",
      "source": [
        "plt.hist(users.Age.values, bins=50)\n",
        "\n",
        "plt.show()"
      ],
      "metadata": {
        "colab": {
          "base_uri": "https://localhost:8080/",
          "height": 434
        },
        "id": "_UsLAVL-Qwpm",
        "outputId": "71257d89-f941-4c95-9e84-6d158bfbcea2"
      },
      "execution_count": null,
      "outputs": [
        {
          "output_type": "display_data",
          "data": {
            "text/plain": [
              "<Figure size 640x480 with 1 Axes>"
            ],
            "image/png": "[encoded data removed]"
          },
          "metadata": {}
        }
      ]
    },
    {
      "cell_type": "markdown",
      "source": [
        "Мне не очень нравятся юзеры с слишком маленьким или большим возрастом, уберем все, что больше 99-го и меньше 1-го перцентиля"
      ],
      "metadata": {
        "id": "4du8JyOzOl6v"
      }
    },
    {
      "cell_type": "code",
      "source": [
        "percentile_99 = users.Age.quantile(0.99)\n",
        "percentile_99"
      ],
      "metadata": {
        "colab": {
          "base_uri": "https://localhost:8080/"
        },
        "id": "vUIZyh70M7PG",
        "outputId": "202dec34-05e9-4f3a-ac78-6b6542f1a5f9"
      },
      "execution_count": null,
      "outputs": [
        {
          "output_type": "execute_result",
          "data": {
            "text/plain": [
              "71.0"
            ]
          },
          "metadata": {},
          "execution_count": 30
        }
      ]
    },
    {
      "cell_type": "code",
      "source": [
        "percentile_1 = users.Age.quantile(0.01)\n",
        "percentile_1"
      ],
      "metadata": {
        "colab": {
          "base_uri": "https://localhost:8080/"
        },
        "id": "lO3zE1cPOW3j",
        "outputId": "42544e91-52e4-49cf-ce2e-9606181aa40b"
      },
      "execution_count": null,
      "outputs": [
        {
          "output_type": "execute_result",
          "data": {
            "text/plain": [
              "13.0"
            ]
          },
          "metadata": {},
          "execution_count": 31
        }
      ]
    },
    {
      "cell_type": "code",
      "source": [
        "users.drop(users.index[ users['Age'] > percentile_99], inplace=True)"
      ],
      "metadata": {
        "id": "EfDyQXk4OL24"
      },
      "execution_count": null,
      "outputs": []
    },
    {
      "cell_type": "code",
      "source": [
        "users.drop(users.index[ users['Age'] < percentile_1], inplace=True)"
      ],
      "metadata": {
        "id": "Su1yLp9FOgQl"
      },
      "execution_count": null,
      "outputs": []
    },
    {
      "cell_type": "markdown",
      "source": [
        "NaN'ы заполню средним по геопозиции или средним по всем юзерам, если у пользователя уникальная локация"
      ],
      "metadata": {
        "id": "k7M09edmGEH5"
      }
    },
    {
      "cell_type": "code",
      "source": [
        "location_mean = users.groupby('Location')['Age'].transform('mean')\n",
        "overall_mean = users['Age'].mean()\n",
        "location_mean.fillna(overall_mean, inplace=True)\n",
        "\n",
        "users['Age'] = users.apply(lambda row: int(location_mean[row.name]) if pd.isna(row['Age']) else int(row['Age']), axis=1)"
      ],
      "metadata": {
        "id": "seD22oh0FrnU"
      },
      "execution_count": null,
      "outputs": []
    },
    {
      "cell_type": "code",
      "source": [
        "plt.hist(users.Age.values, bins=30)\n",
        "\n",
        "plt.show()"
      ],
      "metadata": {
        "colab": {
          "base_uri": "https://localhost:8080/",
          "height": 434
        },
        "id": "Lu5nANNtPd1T",
        "outputId": "b1bf0792-00ad-4370-d99b-1364e9d2928c"
      },
      "execution_count": null,
      "outputs": [
        {
          "output_type": "display_data",
          "data": {
            "text/plain": [
              "<Figure size 640x480 with 1 Axes>"
            ],
            "image/png": "[encoded data removed]"
          },
          "metadata": {}
        }
      ]
    },
    {
      "cell_type": "markdown",
      "source": [
        "Получилось много пользователей с возрастом = среднее по всем юзерам, но что поделать"
      ],
      "metadata": {
        "id": "cGq5MYT7GwNB"
      }
    },
    {
      "cell_type": "markdown",
      "source": [
        "### 1. Реализовать персональный топ  - принимает на вход возраст и локацию, на выходе персональный топ   - 1 балл\n",
        "\n",
        "Персональный топ - это топ товаров по похожим возрасту/интересам/локации. Как сделать? Разбить на сегменты по выбраным признакам. Топ делать по книгам с хорошим средним рейтингом."
      ],
      "metadata": {
        "id": "C6aZd_ZBN5W5"
      }
    },
    {
      "cell_type": "code",
      "source": [
        "class PersonalTop():\n",
        "    def __init__(self, users, interactions):\n",
        "        self.users = users\n",
        "        self.interactions = interactions\n",
        "        self.picture_urls = dict()\n",
        "        for book, url in interactions[['Book-Title', 'picture_url']].drop_duplicates().values:\n",
        "            self.picture_urls[book] = url\n",
        "        # у меня были какие-то беды с отображением картинок,\n",
        "        # поэтому словарь с ссылками не пригодился и картинки я не отрисовываю :(\n",
        "\n",
        "    def top_items(self, age, location, n=10):\n",
        "        # вытаскиваем id-шники похожих пользователей\n",
        "        other_users = self.users[self.users.Location == location]['User-ID'].tolist()\n",
        "        other_users = np.union1d(other_users,\n",
        "                                 self.users[np.abs(self.users.Age - age) <= 3]['User-ID'])\n",
        "        # смотрим взаимодействие похожих пользователей с книгами\n",
        "        chosen = self.interactions[self.interactions['User-ID'].isin(other_users)]\n",
        "        # выделяем топ-n книг с рейтингом > 6\n",
        "        average_ratings = None\n",
        "        if chosen.shape[0] > 0: # если все ок и мы нашли похожих пользователей\n",
        "            average_ratings = chosen.groupby('Book-Title')['Book-Rating'].mean()\n",
        "        else: # если не нашли похожих пользователей\n",
        "            average_ratings = self.interactions.groupby('Book-Title')['Book-Rating'].mean()\n",
        "        n = min(n, average_ratings.size)\n",
        "        top = average_ratings.sort_values(ascending=False).index.tolist()[:n]\n",
        "        return top"
      ],
      "metadata": {
        "id": "VAt5iXbvMoW1"
      },
      "execution_count": null,
      "outputs": []
    },
    {
      "cell_type": "code",
      "source": [
        "rec = PersonalTop(users, interactions)"
      ],
      "metadata": {
        "id": "ojEE-l9OzI66"
      },
      "execution_count": null,
      "outputs": []
    },
    {
      "cell_type": "code",
      "source": [
        "for id, location, age in users.values[:10]:\n",
        "    top_rec = rec.top_items(age=age, location=location, n=5)\n",
        "    print(f'user info:\\nage: {age}, location: {location}\\npersonal top:\\n{\", \".join(top_rec)}\\n')"
      ],
      "metadata": {
        "colab": {
          "base_uri": "https://localhost:8080/"
        },
        "id": "tHjF7nGq4qcY",
        "outputId": "777f6797-3631-4047-d2ed-5ab9de80773a"
      },
      "execution_count": null,
      "outputs": [
        {
          "output_type": "stream",
          "name": "stdout",
          "text": [
            "user info:\n",
            "age: 31, location: 36772\n",
            "personal top:\n",
            "I Just Forgot (A Little Critter Book), Fischer TaschenbÃ?Â¼cher, Bd.26, SchÃ?Â¶ne neue Welt, Enders Game, Endlich Nichtleser: Die beste Methode, mit dem Lesen fÃ¼r immer aufzuhÃ¶ren (Suhrkamp Taschenbuch), Enemy Mind\n",
            "\n",
            "user info:\n",
            "age: 18, location: 48830\n",
            "personal top:\n",
            "stardust, If Only It Were True, Impulse, In Her Shoes : A Novel, In Sachen Signora Brunetti. Der achte Fall.\n",
            "\n",
            "user info:\n",
            "age: 55, location: 33483\n",
            "personal top:\n",
            "Summer Island, Second Nature, Death in Paradise, Rebecca's Tale, Reading Lolita in Tehran : A Memoir in Books\n",
            "\n",
            "user info:\n",
            "age: 17, location: 40562\n",
            "personal top:\n",
            "stardust, Wolf Shadow (Signet Historical Romance), Welcome to Dead House (Goosebumps, No 1), Nefer the Silent, The All-True Travels and Adventures of Lidie Newton\n",
            "\n",
            "user info:\n",
            "age: 34, location: 16902\n",
            "personal top:\n",
            "Dead Witch Walking, Pride and Prejudice (Penguin Popular Classics), The Forgetting Room: A Fiction (Byzantium Book), Traumreisende., Power (L.a. Connections)\n",
            "\n",
            "user info:\n",
            "age: 61, location: 44939\n",
            "personal top:\n",
            "Cyanide Wells, NEON RAIN : A Dave Robicheaux Novel, Chicken Soup for the Gardener's Soul, 101 Stories to Sow Seeds of Love, Hope and Laughter (Chicken Soup for the Soul), Chicken Soup for the Couple's Soul (Chicken Soup for the Soul), The Devil in the White City: Murder, Magic, and Madness at the Fair that Changed America\n",
            "\n",
            "user info:\n",
            "age: 31, location: 54371\n",
            "personal top:\n",
            "Complete Chronicles of Narnia, Going After Cacciato, The Trumpet of the Swan, Sideways Stories from Wayside School (Wayside School), Goodnight Moon Board Book\n",
            "\n",
            "user info:\n",
            "age: 30, location: 50809\n",
            "personal top:\n",
            "Echoes in the Darkness, The Nine Emotional Lives of Cats : A Journey Into the Feline Heart, Dead Ringer (Scottoline, Lisa), Dead Poets Society, Nostalgic Barbie: A Postcard Book\n",
            "\n",
            "user info:\n",
            "age: 40, location: 18866\n",
            "personal top:\n",
            "Der Partner., Homicidal Psycho Jungle Cat: A Calvin and Hobbes Collection, The Abominable Snowman of Pasadena (Goosebumps, No 38), The A.B.C. Murders, Heart of Darkness (Dover Thrift Editions)\n",
            "\n",
            "user info:\n",
            "age: 26, location: 1212\n",
            "personal top:\n",
            "Attack Of The Deranged Mutant Killer Snow Goons, Naughty Marietta, Baby Catcher : Chronicles of a Modern Midwife, Baby Farm, Six Great Sherlock Holmes Stories (Dover Thrift Editions)\n",
            "\n"
          ]
        }
      ]
    },
    {
      "cell_type": "markdown",
      "source": [
        "### 2. На основе метода кластеризации похожих пользователей построить рекомендации (Слайд 27) - 3 балла\n",
        "\n",
        "Нужно топ-10 рекомендаций с самой высокой оценкой. Считаем среднюю оценку для каждой книги по кластеру и выводим топ-10 книг."
      ],
      "metadata": {
        "id": "d8DI0CmB8ewm"
      }
    },
    {
      "cell_type": "code",
      "source": [
        "from sklearn.cluster import KMeans"
      ],
      "metadata": {
        "id": "WVV3APs26k77"
      },
      "execution_count": null,
      "outputs": []
    },
    {
      "cell_type": "code",
      "source": [
        "class ClusterTop():\n",
        "    def __init__(self, users, interactions, n_clusters=5):\n",
        "        self.kmeans = KMeans(n_clusters=n_clusters,\n",
        "                        random_state=42).fit(users[['Age', 'Location']].values)\n",
        "        self.users = users.copy()\n",
        "        self.users['cluster'] = self.kmeans.labels_\n",
        "        self.interactions = pd.merge(interactions, self.users, on='User-ID')\n",
        "        self.top10 = dict()\n",
        "        for i in range(n_clusters):\n",
        "            cluster = self.interactions[self.interactions.cluster == i]\n",
        "            self.top10[i] = cluster.groupby('Book-Title')['Book-Rating'].mean().sort_values(ascending=False).index.tolist()[:10]\n",
        "\n",
        "    def get_top10(self, user_age, user_loc):\n",
        "        user_cluster = self.kmeans.predict([[user_age, user_loc]])[0]\n",
        "        return self.top10[user_cluster]\n"
      ],
      "metadata": {
        "id": "R0SxnZkE13fH"
      },
      "execution_count": null,
      "outputs": []
    },
    {
      "cell_type": "code",
      "source": [
        "cl_top = ClusterTop(users, interactions, 10)"
      ],
      "metadata": {
        "colab": {
          "base_uri": "https://localhost:8080/"
        },
        "id": "iNj39mnOS6mR",
        "outputId": "b270032e-26dd-408e-8927-24e8134782f2"
      },
      "execution_count": null,
      "outputs": [
        {
          "output_type": "stream",
          "name": "stderr",
          "text": [
            "/usr/local/lib/python3.10/dist-packages/sklearn/cluster/_kmeans.py:870: FutureWarning: The default value of `n_init` will change from 10 to 'auto' in 1.4. Set the value of `n_init` explicitly to suppress the warning\n",
            "  warnings.warn(\n"
          ]
        }
      ]
    },
    {
      "cell_type": "code",
      "source": [
        "for id, location, age in users.values[:10]:\n",
        "    cluster_rec = cl_top.get_top10(age, location)\n",
        "    print(f'user info:\\nage: {age}, location: {le.inverse_transform([location])[0]}\\ncluster top:\\n{\", \".join(cluster_rec)}\\n')"
      ],
      "metadata": {
        "colab": {
          "base_uri": "https://localhost:8080/"
        },
        "id": "91p7HB8RKmC3",
        "outputId": "78598f5c-3fdf-40dc-d8f6-f620b719af5d"
      },
      "execution_count": null,
      "outputs": [
        {
          "output_type": "stream",
          "name": "stdout",
          "text": [
            "user info:\n",
            "age: 31, location: nyc, new york, usa\n",
            "cluster top:\n",
            "Swan Song, Dalva (Contemporary Classics (Washington Square Press)), Stuart Little, Strip City: A Stripper's Farewell Journey Across America, Crown Duel (Smith, Sherwood. Crown and Court Duet, Bk. 1-2.), Strata, Strapless (Red Dress Ink (Paperback)), Storming Heaven, Stones for Ibarra (Penguin Contemporary American Fiction Series), Stonebrook Cottage\n",
            "\n",
            "user info:\n",
            "age: 18, location: stockton, california, usa\n",
            "cluster top:\n",
            "The Adventures of Captain Underpants: An Epic Novel (Captain Underpants), He Did This Just For You, Heretics of Dune (Dune Chronicles, Book 5), Atlantis Found (Dirk Pitt Adventures (Hardcover)), Henry Huggins (50th Anniversary Edition), Heaven, Texas, Heat and Dust, The Red Tent : A Novel, Harry Potter und die Kammer des Schreckens, Herr Lehmann.\n",
            "\n",
            "user info:\n",
            "age: 55, location: moscow, yukon territory, russia\n",
            "cluster top:\n",
            "'Salem's Lot, Bet Me, Sacred, Salem's Lot, Dinner at the Homesick Restaurant : A Novel, The Mouse and the Motorcycle, Different Seasons (Signet), The Mote in God's Eye, Sarah's Window, Die Welle.\n",
            "\n",
            "user info:\n",
            "age: 17, location: porto, v.n.gaia, portugal\n",
            "cluster top:\n",
            "Swan Song, Dalva (Contemporary Classics (Washington Square Press)), Stuart Little, Strip City: A Stripper's Farewell Journey Across America, Crown Duel (Smith, Sherwood. Crown and Court Duet, Bk. 1-2.), Strata, Strapless (Red Dress Ink (Paperback)), Storming Heaven, Stones for Ibarra (Penguin Contemporary American Fiction Series), Stonebrook Cottage\n",
            "\n",
            "user info:\n",
            "age: 34, location: farnborough, hants, united kingdom\n",
            "cluster top:\n",
            "The French Lieutenant's Woman (French Lieutenant's Woman), Drinking, Smoking, and Screwing: Great Writers on Good Times, Good Night, Gorilla, Fantastic Beasts and Where to Find Them, The Plot Thickens, Fantasy Lover, The Westing Game: A Puzzle Mystery (An Avon Flare Book), The Black Cauldron (Chronicles of Prydain (Paperback)), Gone But Not Forgotten, Dandelion Wine (Grand Master Editions)\n",
            "\n",
            "user info:\n",
            "age: 61, location: santa monica, california, usa\n",
            "cluster top:\n",
            "Clan of the Cave Bear, BLACK MOON, Three Weeks with My Brother, Three Weeks in Paris, Three Plums In One : One for the Money, Two for the Dough, Three to Get Deadly, Kane &amp; Abel, Possession : A Romance, Sophocles, The Oedipus Cycle: Oedipus Rex, Oedipus at Colonus, Antigone, Dark Prince, The Metamorphosis and Other Stories (Dover Thrift Editions)\n",
            "\n",
            "user info:\n",
            "age: 31, location: washington, dc, usa\n",
            "cluster top:\n",
            "Et Si Cetait Vrai, News of a Kidnapping, The Dog Is Not a Toy: House Rule #4, Night of the Mary Kay Commandos Featuring Smell O-Toons, Night Watch, The Edge, Night Pleasures (Dark-Hunters), The Eight, The Elements of Style, Fourth Edition, The Enchanted Land\n",
            "\n",
            "user info:\n",
            "age: 30, location: timmins, ontario, canada\n",
            "cluster top:\n",
            "The Adventures of Captain Underpants: An Epic Novel (Captain Underpants), He Did This Just For You, Heretics of Dune (Dune Chronicles, Book 5), Atlantis Found (Dirk Pitt Adventures (Hardcover)), Henry Huggins (50th Anniversary Edition), Heaven, Texas, Heat and Dust, The Red Tent : A Novel, Harry Potter und die Kammer des Schreckens, Herr Lehmann.\n",
            "\n",
            "user info:\n",
            "age: 40, location: germantown, tennessee, usa\n",
            "cluster top:\n",
            "The French Lieutenant's Woman (French Lieutenant's Woman), Drinking, Smoking, and Screwing: Great Writers on Good Times, Good Night, Gorilla, Fantastic Beasts and Where to Find Them, The Plot Thickens, Fantasy Lover, The Westing Game: A Puzzle Mystery (An Avon Flare Book), The Black Cauldron (Chronicles of Prydain (Paperback)), Gone But Not Forgotten, Dandelion Wine (Grand Master Editions)\n",
            "\n",
            "user info:\n",
            "age: 26, location: albacete, wisconsin, spain\n",
            "cluster top:\n",
            "Ceremony (Contemporary American Fiction Series), The Descent, Mrs. Pollifax and the Second Thief, Blood Pact (Daw Book Collectors), Blood Price (Daw Book Collectors), Santa Steps Out, Io Non Ho Paura, Blood Trail, Hawaii, The Demon-Haunted World: Science As a Candle in the Dark\n",
            "\n"
          ]
        }
      ]
    },
    {
      "cell_type": "markdown",
      "source": [
        "### 3. Совстречаемость - 3 балла\n",
        "\n",
        "В совстречаемости также учитывать оценки. Вес пары книг встретившихся у пользователя - полусумма их оценок."
      ],
      "metadata": {
        "id": "DERUvJN9pm5X"
      }
    },
    {
      "cell_type": "code",
      "source": [
        "import tqdm"
      ],
      "metadata": {
        "id": "oz3ec2qFxuod"
      },
      "execution_count": null,
      "outputs": []
    },
    {
      "cell_type": "code",
      "source": [
        "class CoocurenceRecomendations():\n",
        "    def __init__(self, Int):\n",
        "        self.id_to_title = {}\n",
        "        for id, name in Int[[\"product_id\", \"Book-Title\"]].drop_duplicates().values:\n",
        "            self.id_to_title[str(id)] = name\n",
        "        self.interactions = Int\n",
        "\n",
        "    def coocurrency_count(self):\n",
        "        Int = self.interactions[[\"vid\", \"product_id\", \"Book-Rating\"]].drop_duplicates()\n",
        "        user_products = Int.groupby([\"vid\"])[\"product_id\"].apply(list).reset_index()\n",
        "        ratings = Int.groupby([\"vid\"])[\"Book-Rating\"].apply(list)\n",
        "        user_products['scores'] = ratings\n",
        "        product_num = [len(i) for i in user_products[\"product_id\"]]\n",
        "        user_products[\"prod_num\"] = product_num\n",
        "        user_products = user_products[user_products[\"prod_num\"] > 1]\n",
        "        cooc = {}\n",
        "        for i in tqdm.tqdm_notebook(user_products.values):\n",
        "            for j in range(len(i[1])):\n",
        "                for k in range(len(i[1])):\n",
        "                    if j != k:\n",
        "                        try:\n",
        "                            cooc[str(i[1][j]) + \"_\" + str(i[1][k])] += (i[2][j] + i[2][k]) / 2\n",
        "                        except:\n",
        "                            cooc[str(i[1][j]) + \"_\" + str(i[1][k])] = (i[2][j] + i[2][k]) / 2\n",
        "        cooc_list = []\n",
        "        for i, j in cooc.items():\n",
        "            cooc_list.append(i.split(\"_\") + [j])\n",
        "        self.cooc_rec = pd.DataFrame(cooc_list, columns=[\"item1\", \"item2\", \"measure\"])\n",
        "\n",
        "    def get_rec(self, i, show=False):\n",
        "        recs = self.cooc_rec[self.cooc_rec[\"item1\"] == str(i)]\\\n",
        "                            .sort_values(\"measure\", ascending=False)\\\n",
        "                            .head(10)\n",
        "        print(f\"Для книги {self.id_to_title[str(i)]} рекомендуем:\")\n",
        "        for item1, item2, measure in recs.values:\n",
        "            print(f'{self.id_to_title[item2]}, measure: {measure}')"
      ],
      "metadata": {
        "id": "p8FBjyMSUgAG"
      },
      "execution_count": null,
      "outputs": []
    },
    {
      "cell_type": "code",
      "source": [
        "cooc_rec = CoocurenceRecomendations(interactions)\n",
        "cooc_rec.coocurrency_count()"
      ],
      "metadata": {
        "colab": {
          "base_uri": "https://localhost:8080/",
          "height": 101,
          "referenced_widgets": [
            "aafa6abd51d341b0bff91a186b9c13c8",
            "deeaaf7417f549e3bc6ca186c69e8797",
            "6887975e2fab468bbcfcdc1db37071a6",
            "f25cbba2e17c488685170e5093c91d57",
            "381d085453e84b19a7265ab113bd4003",
            "5a159325e7bc4a77a9949398b8b9ccd2",
            "bb28849afa794590a9d7dfde7f05da81",
            "55ca8ab491144738a6406625c1dd7129",
            "a91f49573f3b48048d756d01222510fb",
            "f21b6a800f1241a4866532b6b0d2c94c",
            "34caceb869d74b24962731283a55a15c"
          ]
        },
        "id": "n60x-wB60qeD",
        "outputId": "2d971629-7351-4085-b24e-b964ed49f92a"
      },
      "execution_count": null,
      "outputs": [
        {
          "output_type": "stream",
          "name": "stderr",
          "text": [
            "<ipython-input-44-de66bae609b0>:17: TqdmDeprecationWarning: This function will be removed in tqdm==5.0.0\n",
            "Please use `tqdm.notebook.tqdm` instead of `tqdm.tqdm_notebook`\n",
            "  for i in tqdm.tqdm_notebook(user_products.values):\n"
          ]
        },
        {
          "output_type": "display_data",
          "data": {
            "text/plain": [
              "  0%|          | 0/10012 [00:00<?, ?it/s]"
            ],
            "application/vnd.jupyter.widget-view+json": {
              "version_major": 2,
              "version_minor": 0,
              "model_id": "aafa6abd51d341b0bff91a186b9c13c8"
            }
          },
          "metadata": {}
        }
      ]
    },
    {
      "cell_type": "code",
      "source": [
        "for id in ids:\n",
        "    cooc_rec.get_rec(id)\n",
        "    print('\\n')"
      ],
      "metadata": {
        "colab": {
          "base_uri": "https://localhost:8080/"
        },
        "id": "9IWYgebKanjR",
        "outputId": "2e3e19d8-1247-4517-cec7-0c08ee848eec"
      },
      "execution_count": null,
      "outputs": [
        {
          "output_type": "stream",
          "name": "stdout",
          "text": [
            "Для книги Harry Potter and the Order of the Phoenix (Book 5) рекомендуем:\n",
            "Harry Potter and the Chamber of Secrets (Book 2), measure: 434.0\n",
            "Harry Potter and the Prisoner of Azkaban (Book 3), measure: 418.5\n",
            "Harry Potter and the Goblet of Fire (Book 4), measure: 405.0\n",
            "Harry Potter and the Sorcerer's Stone (Book 1), measure: 321.0\n",
            "Harry Potter and the Sorcerer's Stone (Harry Potter (Paperback)), measure: 294.5\n",
            "Harry Potter and the Goblet of Fire (Book 4), measure: 285.0\n",
            "Harry Potter and the Prisoner of Azkaban (Book 3), measure: 210.0\n",
            "Harry Potter and the Chamber of Secrets (Book 2), measure: 193.5\n",
            "The Da Vinci Code, measure: 158.0\n",
            "The Lovely Bones: A Novel, measure: 132.0\n",
            "\n",
            "\n",
            "Для книги The Hobbit : The Enchanting Prelude to The Lord of the Rings рекомендуем:\n",
            "The Fellowship of the Ring (The Lord of the Rings, Part 1), measure: 246.0\n",
            "The Two Towers (The Lord of the Rings, Part 2), measure: 207.5\n",
            "The Return of the King (The Lord of the Rings, Part 3), measure: 198.5\n",
            "Harry Potter and the Sorcerer's Stone (Harry Potter (Paperback)), measure: 100.0\n",
            "The Lovely Bones: A Novel, measure: 89.5\n",
            "Harry Potter and the Order of the Phoenix (Book 5), measure: 77.0\n",
            "The Da Vinci Code, measure: 73.5\n",
            "Left Behind: A Novel of the Earth's Last Days (Left Behind No. 1), measure: 71.5\n",
            "Angels &amp; Demons, measure: 68.5\n",
            "Harry Potter and the Prisoner of Azkaban (Book 3), measure: 64.5\n",
            "\n",
            "\n",
            "Для книги The Little Prince рекомендуем:\n",
            "The Stranger, measure: 17.5\n",
            "Along Came a Spider (Alex Cross Novels), measure: 17.0\n",
            "Stupid White Men ...and Other Sorry Excuses for the State of the Nation!, measure: 16.5\n",
            "All I Need to Know I Learned from My Cat, measure: 10.0\n",
            "Chicken Soup for the Soul (Chicken Soup for the Soul), measure: 10.0\n",
            "The Calvin &amp; Hobbes Lazy Sunday Book, measure: 10.0\n",
            "Absolute Rage, measure: 10.0\n",
            "Leadership, measure: 10.0\n",
            "The Goal: A Process of Ongoing Improvement, measure: 10.0\n",
            "The Four Agreements: A Practical Guide to Personal Freedom, measure: 10.0\n",
            "\n",
            "\n",
            "Для книги It рекомендуем:\n",
            "Misery, measure: 30.5\n",
            "The Tao of Pooh, measure: 29.0\n",
            "The Te of Piglet, measure: 29.0\n",
            "Needful Things: The Last Castle Rock Story, measure: 26.0\n",
            "Nightmares &amp; Dreamscapes, measure: 24.5\n",
            "The Vampire Lestat (Vampire Chronicles, Book II), measure: 19.0\n",
            "Harry Potter and the Prisoner of Azkaban (Book 3), measure: 19.0\n",
            "The Green Mile, measure: 19.0\n",
            "Lord of the Flies, measure: 19.0\n",
            "Desperation, measure: 18.5\n",
            "\n",
            "\n"
          ]
        }
      ]
    },
    {
      "cell_type": "markdown",
      "source": [
        "### 4. Коллаборативная фильтрация - 3 балла\n",
        "\n",
        "Коллаборативную фильтрацию реализовывать как на слайде 51 презентации, посоветовав каждому пользователю топ-10 книг с самой высокой оценкой. Сделать рекомендации User-based и Item-based и сравнить.\n",
        "\n",
        "Если совсем сложно - можно сделать как в семинарской части, поставив оценку \"0\", если рейтинг < 5 и \"1\" - в противном случае. Тогда максимум за это - 1 балл. Реализовать U2I и I2I рекомендации."
      ],
      "metadata": {
        "id": "2_4vK3MDdiCs"
      }
    },
    {
      "cell_type": "code",
      "source": [
        "from sklearn.metrics.pairwise import cosine_similarity"
      ],
      "metadata": {
        "id": "V8pGDNX4hHrv"
      },
      "execution_count": null,
      "outputs": []
    },
    {
      "cell_type": "code",
      "source": [
        "class Colloborative():\n",
        "    def __init__(self, Int):\n",
        "        self.id_to_title = {}\n",
        "        for id, name in Int[[\"product_id\", \"Book-Title\"]].drop_duplicates().values:\n",
        "            self.id_to_title[id] = name\n",
        "        self.csr_rates = coo_matrix((interactions[\"Book-Rating\"], (interactions[\"vid\"], interactions[\"product_id\"])),\n",
        "                            shape=(len(set(interactions[\"vid\"])), len(set(interactions[\"product_id\"]))))\n",
        "\n",
        "    def user_based(self, idx):\n",
        "        user = self.csr_rates.getrow(idx).toarray()[0]\n",
        "        cos_sim = cosine_similarity([user], self.csr_rates).reshape(-1, 1)\n",
        "        dif = self.csr_rates - self.csr_rates.mean(axis=1)\n",
        "        ratings = np.array(user.mean() + np.sum(np.multiply(dif, cos_sim), axis=0) / np.sum(cos_sim)).flatten()\n",
        "        total_rate = (1 - user.astype(bool)) * ratings\n",
        "\n",
        "        total_rec = np.argsort(total_rate)[::-1][:10]\n",
        "\n",
        "        print('Для пользователя с оценками')\n",
        "        for book_id in np.where(user !=0)[0]:\n",
        "            print(f'Книга: {self.id_to_title[book_id]}, оценка: {user[book_id]}')\n",
        "        print('рекомендуем книги')\n",
        "        for i in range(len(total_rec)):\n",
        "            print(f'{self.id_to_title[total_rec[i]]}, measure: {total_rate[total_rec[i]]}')\n",
        "\n",
        "    def item_based(self, idx):\n",
        "        item = self.csr_rates.getcol(idx).toarray().reshape(1, -1)\n",
        "        cos_sim = cosine_similarity(item, self.csr_rates.T).reshape(-1, 1)\n",
        "        dif = self.csr_rates - self.csr_rates.mean(axis=0)\n",
        "        ratings = np.array(item.mean() + np.sum(np.multiply(dif.T, cos_sim), axis=1) / np.sum(cos_sim)).flatten()\n",
        "\n",
        "        total_rate = np.argsort(ratings)[::-1][:10]\n",
        "\n",
        "        print(f'Для книги: {self.id_to_title[idx]} рекомендуем похожие:')\n",
        "        for id in total_rate:\n",
        "            print(f'{self.id_to_title[id]}, measure: {ratings[id]}')"
      ],
      "metadata": {
        "id": "I054sdYbXy1h"
      },
      "execution_count": null,
      "outputs": []
    },
    {
      "cell_type": "code",
      "source": [
        "col = Colloborative(interactions)"
      ],
      "metadata": {
        "id": "GbCA4zKbZl9L"
      },
      "execution_count": null,
      "outputs": []
    },
    {
      "cell_type": "code",
      "source": [
        "col.user_based(100)"
      ],
      "metadata": {
        "colab": {
          "base_uri": "https://localhost:8080/"
        },
        "id": "FudeE4_xb9xF",
        "outputId": "2c434268-54b9-434d-a647-afbaa2ee67f4"
      },
      "execution_count": null,
      "outputs": [
        {
          "output_type": "stream",
          "name": "stdout",
          "text": [
            "Для пользователя с оценками\n",
            "Книга: Wolfwalker, оценка: 10\n",
            "Книга: Damia (Ace Science Fiction), оценка: 10\n",
            "Книга: She Who Remembers, оценка: 9\n",
            "Книга: Voice of the Eagle, оценка: 9\n",
            "Книга: The Door to December, оценка: 8\n",
            "Книга: The Clan of the Cave Bear : a novel, оценка: 9\n",
            "рекомендуем книги\n",
            "The Lovely Bones: A Novel, measure: 0.8583467181615999\n",
            "From the Corner of His Eye, measure: 0.5121456596914568\n",
            "Valley of the Horses (Auel, Jean M. , Earth's Children.), measure: 0.49774665532679346\n",
            "Where the Heart Is (Oprah's Book Club (Paperback)), measure: 0.46270369085517987\n",
            "Divine Secrets of the Ya-Ya Sisterhood: A Novel, measure: 0.42361886414330296\n",
            "When the Wind Blows, measure: 0.41659835059528344\n",
            "Seize the Night, measure: 0.3988141157286055\n",
            "Interview with the Vampire, measure: 0.39854743516923\n",
            "The Partner, measure: 0.38217514872270036\n",
            "The Da Vinci Code, measure: 0.37889391564929403\n"
          ]
        }
      ]
    },
    {
      "cell_type": "code",
      "source": [
        "for i in range(10):\n",
        "    col.user_based(i)\n",
        "    print('\\n')"
      ],
      "metadata": {
        "colab": {
          "base_uri": "https://localhost:8080/"
        },
        "id": "8G8Ib3U9ZqqV",
        "outputId": "09c26dcf-17e2-4e65-9bac-afb127e7e206"
      },
      "execution_count": null,
      "outputs": [
        {
          "output_type": "stream",
          "name": "stdout",
          "text": [
            "Для пользователя с оценками\n",
            "Книга: Clara Callan, оценка: 5\n",
            "рекомендуем книги\n",
            "Outlander, measure: 1.9321981686844336\n",
            "Big Stone Gap, measure: 1.7385963631322123\n",
            "Daughter of Fortune: A Novel, measure: 1.235793293181684\n",
            "The Pilot's Wife : A Novel, measure: 1.235793293181684\n",
            "Prayer for Owen Meany, measure: 1.235793293181684\n",
            "Chaos: Making a New Science, measure: 1.167582213616064\n",
            "The No. 1 Ladies' Detective Agency (Today Show Book Club #8), measure: 1.167582213616064\n",
            "Attack Of The Deranged Mutant Killer Snow Goons, measure: 1.167582213616064\n",
            "The Flanders Panel, measure: 1.167582213616064\n",
            "SHIPPING NEWS, measure: 1.167582213616064\n",
            "\n",
            "\n",
            "Для пользователя с оценками\n",
            "Книга: Fast Women, оценка: 8\n",
            "Книга: Female Intelligence, оценка: 8\n",
            "Книга: Pasquale's Nose: Idle Days in an Italian Town, оценка: 7\n",
            "Книга: Rich Dad, Poor Dad: What the Rich Teach Their Kids About Money--That the Poor and Middle Class Do Not!, оценка: 10\n",
            "Книга: The Pillars of the Earth, оценка: 3\n",
            "рекомендуем книги\n",
            "The Da Vinci Code, measure: 0.8098061375007088\n",
            "Who Moved My Cheese? An Amazing Way to Deal with Change in Your Work and in Your Life, measure: 0.5954021177007333\n",
            "The Lovely Bones: A Novel, measure: 0.5897027454796105\n",
            "The Richest Man in Babylon, measure: 0.5880911395562666\n",
            "Cashflow Quadrant: Rich Dad's Guide to Financial Freedom, measure: 0.5476398546739528\n",
            "Angels &amp; Demons, measure: 0.4001210369138311\n",
            "Good in Bed, measure: 0.37586626800316103\n",
            "A Painted House, measure: 0.3678051794142966\n",
            "Bearing an Hourglass (Incarnations of Immortality (Paperback)), measure: 0.3376828847412235\n",
            "Jurassic Park, measure: 0.32508856668017955\n",
            "\n",
            "\n",
            "Для пользователя с оценками\n",
            "Книга: The Alibi, оценка: 9\n",
            "Книга: The Beach House, оценка: 9\n",
            "Книга: A Kiss Remembered, оценка: 8\n",
            "Книга: The Short Forever, оценка: 8\n",
            "Книга: Dead Aim, оценка: 9\n",
            "Книга: Angels &amp; Demons, оценка: 10\n",
            "рекомендуем книги\n",
            "The Da Vinci Code, measure: 1.3430875361353036\n",
            "Deception Point, measure: 0.5700843961211279\n",
            "Digital Fortress : A Thriller, measure: 0.5359578959412431\n",
            "The Red Tent (Bestselling Backlist), measure: 0.35265105222435966\n",
            "The Lovely Bones: A Novel, measure: 0.3520119617936859\n",
            "Where the Heart Is (Oprah's Book Club (Paperback)), measure: 0.3319898620998276\n",
            "The Summons, measure: 0.299437841376755\n",
            "Harry Potter and the Order of the Phoenix (Book 5), measure: 0.28309425214843464\n",
            "The No. 1 Ladies' Detective Agency (Today Show Book Club #8), measure: 0.2500575384904551\n",
            "The Five People You Meet in Heaven, measure: 0.24414625687857985\n",
            "\n",
            "\n",
            "Для пользователя с оценками\n",
            "Книга: The Martian Chronicles, оценка: 10\n",
            "Книга: Fahrenheit 451, оценка: 8\n",
            "Книга: Veronika Deschliesst Zu Sterben / Vernika Decides to Die, оценка: 9\n",
            "Книга: QuerschÃ?Â¼sse - Downsize This!, оценка: 8\n",
            "рекомендуем книги\n",
            "Fahrenheit 451, measure: 1.1518961534302932\n",
            "Wassermusik. Roman., measure: 0.7025182982954459\n",
            "The Illustrated Man (Grand Master Editions), measure: 0.6169761114890271\n",
            "Wassermelone., measure: 0.5980605890082565\n",
            "The Hobbit : The Enchanting Prelude to The Lord of the Rings, measure: 0.5883252917241337\n",
            "Warum MÃ?Â¤nner nicht zuhÃ?Â¶ren und Frauen schlecht einparken., measure: 0.5003908104106907\n",
            "Das Parfum: Die Geschichte Eines Morders, measure: 0.4659373986486387\n",
            "Illuminati., measure: 0.4620363351315457\n",
            "Todesmarsch. Roman., measure: 0.4513828714683337\n",
            "Brave New World, measure: 0.44667393857570514\n",
            "\n",
            "\n",
            "Для пользователя с оценками\n",
            "Книга: The Bean Trees, оценка: 10\n",
            "Книга: The God of Small Things, оценка: 7\n",
            "Книга: The Pilot's Wife : A Novel, оценка: 9\n",
            "Книга: Me Talk Pretty One Day, оценка: 9\n",
            "Книга: River, Cross My Heart, оценка: 7\n",
            "Книга: Memoirs of a Geisha, оценка: 10\n",
            "Книга: Legacy of Silence, оценка: 6\n",
            "Книга: A Map of the World, оценка: 7\n",
            "Книга: Unnatural Exposure, оценка: 9\n",
            "Книга: A Painted House, оценка: 7\n",
            "Книга: The General's Daughter, оценка: 9\n",
            "Книга: The Midnight Club, оценка: 6\n",
            "Книга: Manhattan Hunt Club, оценка: 6\n",
            "Книга: The Patient, оценка: 8\n",
            "Книга: A Monk Swimming, оценка: 5\n",
            "Книга: Chicken Soup for the Soul (Chicken Soup for the Soul), оценка: 5\n",
            "рекомендуем книги\n",
            "The Lovely Bones: A Novel, measure: 0.6597389667658148\n",
            "The Red Tent (Bestselling Backlist), measure: 0.44565237651321765\n",
            "The Secret Life of Bees, measure: 0.43663871337280813\n",
            "Divine Secrets of the Ya-Ya Sisterhood: A Novel, measure: 0.41718993804234694\n",
            "Where the Heart Is (Oprah's Book Club (Paperback)), measure: 0.38625888593166174\n",
            "The Da Vinci Code, measure: 0.36558267981933545\n",
            "The Firm, measure: 0.33715190823084096\n",
            "The Poisonwood Bible: A Novel, measure: 0.331766158804337\n",
            "Good in Bed, measure: 0.31340246039251723\n",
            "Snow Falling on Cedars, measure: 0.30861833660333843\n",
            "\n",
            "\n",
            "Для пользователя с оценками\n",
            "Книга: The God of Small Things, оценка: 7\n",
            "Книга: Wicked: The Life and Times of the Wicked Witch of the West, оценка: 8\n",
            "Книга: Life of Pi, оценка: 9\n",
            "Книга: A Judgement in Stone, оценка: 8\n",
            "Книга: Lies and the Lying Liars Who Tell Them: A Fair and Balanced Look at the Right, оценка: 9\n",
            "Книга: Secret History, оценка: 8\n",
            "Книга: Chicken Soup for the Soul (Chicken Soup for the Soul), оценка: 6\n",
            "Книга: Chicken Soup for the Woman's Soul (Chicken Soup for the Soul Series (Paper)), оценка: 6\n",
            "рекомендуем книги\n",
            "The Lovely Bones: A Novel, measure: 0.5502897048955379\n",
            "The Secret Life of Bees, measure: 0.4031755433002058\n",
            "Harry Potter and the Sorcerer's Stone (Harry Potter (Paperback)), measure: 0.40045664765983663\n",
            "The Catcher in the Rye, measure: 0.3911346614672988\n",
            "The Red Tent (Bestselling Backlist), measure: 0.36357805334181154\n",
            "The Da Vinci Code, measure: 0.35573671728468276\n",
            "Life of Pi, measure: 0.3385623031656096\n",
            "Midwives: A Novel, measure: 0.3070420039737332\n",
            "Confessions of an Ugly Stepsister : A Novel, measure: 0.2817682130347664\n",
            "Good in Bed, measure: 0.27014916509403303\n",
            "\n",
            "\n",
            "Для пользователя с оценками\n",
            "Книга: Smoke and Mirrors: Short Fictions and Illusions, оценка: 9\n",
            "Книга: Amazing Grace : Lives of Children and the Conscience of a Nation, The, оценка: 7\n",
            "Книга: The Lion, the Witch, and the Wardrobe (The Chronicles of Narnia, Book 2), оценка: 7\n",
            "Книга: Complete Chronicles of Narnia, оценка: 5\n",
            "Книга: The Secret Life of Bees, оценка: 9\n",
            "Книга: Familiar Lullaby (Fear Familiar) (Harlequin Intrigue, No 614), оценка: 5\n",
            "Книга: The Golden Compass (His Dark Materials, Book 1), оценка: 9\n",
            "Книга: The Adrian Mole Diaries : The Secret Diary of Adrian Mole, Aged 13 3/4 : The Growing Pains of Adrian Mole, оценка: 8\n",
            "Книга: American Gods, оценка: 10\n",
            "Книга: Neverwhere, оценка: 10\n",
            "Книга: American Gods: A Novel, оценка: 9\n",
            "Книга: Stardust, оценка: 8\n",
            "Книга: The Bonesetter's Daughter, оценка: 9\n",
            "Книга: Harry Potter and the Chamber of Secrets (Book 2), оценка: 9\n",
            "Книга: Harry Potter and the Chamber of Secrets (Book 2), оценка: 9\n",
            "Книга: Harry Potter and the Prisoner of Azkaban (Book 3), оценка: 9\n",
            "Книга: Harry Potter and the Prisoner of Azkaban (Book 3), оценка: 9\n",
            "Книга: Harry Potter and the Goblet of Fire (Book 4), оценка: 9\n",
            "Книга: The Dark Half, оценка: 8\n",
            "Книга: The Duke, оценка: 6\n",
            "Книга: Making Minty Malone, оценка: 7\n",
            "Книга: 1984, оценка: 9\n",
            "Книга: Animal Farm, оценка: 8\n",
            "Книга: Something Wicked This Way Comes, оценка: 8\n",
            "Книга: Harry Potter and the Sorcerer's Stone (Book 1), оценка: 9\n",
            "Книга: The Hobbit: or There and Back Again, оценка: 9\n",
            "Книга: The Fellowship of the Ring (The Lord of the Rings, Part 1), оценка: 8\n",
            "Книга: She's Come Undone (Oprah's Book Club), оценка: 7\n",
            "Книга: The Golden Compass (His Dark Materials, Book 1), оценка: 8\n",
            "Книга: Sandman: The Dream Hunters, оценка: 9\n",
            "рекомендуем книги\n",
            "Harry Potter and the Order of the Phoenix (Book 5), measure: 1.2847350812984173\n",
            "Harry Potter and the Sorcerer's Stone (Harry Potter (Paperback)), measure: 1.1398889171863413\n",
            "Harry Potter and the Goblet of Fire (Book 4), measure: 0.7939752751132173\n",
            "The Lovely Bones: A Novel, measure: 0.4948135073680193\n",
            "The Da Vinci Code, measure: 0.43425640235896407\n",
            "The Catcher in the Rye, measure: 0.379658863424425\n",
            "To Kill a Mockingbird, measure: 0.3495844504572962\n",
            "The Red Tent (Bestselling Backlist), measure: 0.29090840256735684\n",
            "Where the Heart Is (Oprah's Book Club (Paperback)), measure: 0.290174069554864\n",
            "The Hobbit : The Enchanting Prelude to The Lord of the Rings, measure: 0.28515696343660246\n",
            "\n",
            "\n",
            "Для пользователя с оценками\n",
            "Книга: Neanderthal: A Novel, оценка: 5\n",
            "Книга: Babyhood, оценка: 5\n",
            "Книга: Dave Barry in Cyberspace, оценка: 9\n",
            "Книга: Waiting, оценка: 5\n",
            "рекомендуем книги\n",
            "Fahrenheit 451, measure: 0.8056668579758711\n",
            "Harry Potter and the Sorcerer's Stone (Harry Potter (Paperback)), measure: 0.8012286796351317\n",
            "Four Past Midnight, measure: 0.6557086020141276\n",
            "Misery, measure: 0.5038213032572543\n",
            "Retribution, measure: 0.4509074456984942\n",
            "Eyes of Prey, measure: 0.436787419944981\n",
            "Bridget Jones's Diary, measure: 0.4221351236211321\n",
            "The Joy of Work : Dilbert's Guide to Finding Happiness at the Expense of Your Co-Workers, measure: 0.3951553844765296\n",
            "The World Below, measure: 0.3951553844765296\n",
            "The Beach House, measure: 0.3902559633682576\n",
            "\n",
            "\n",
            "Для пользователя с оценками\n",
            "Книга: Blackberry Wine : A Novel, оценка: 10\n",
            "Книга: The Firm, оценка: 10\n",
            "Книга: Mostly Harmless, оценка: 10\n",
            "Книга: An Accidental Woman, оценка: 5\n",
            "рекомендуем книги\n",
            "Five Quarters of the Orange, measure: 0.6858397688075624\n",
            "Five Quarters of the Orange, measure: 0.645636232343652\n",
            "The Da Vinci Code, measure: 0.6338856054289778\n",
            "From the Corner of His Eye, measure: 0.6325213337514349\n",
            "Belgarath the Sorcerer, measure: 0.5045338094531571\n",
            "Daughter of Fortune: A Novel, measure: 0.500482211534176\n",
            "Girl with a Pearl Earring, measure: 0.49926070484388985\n",
            "Charles Kuralt's America: Charles Kuralt, measure: 0.4874452695224227\n",
            "Harry Potter and the Prisoner of Azkaban (Book 3), measure: 0.42069186280375676\n",
            "To Kill a Mockingbird, measure: 0.41258003860944775\n",
            "\n",
            "\n",
            "Для пользователя с оценками\n",
            "Книга: Lakota Woman, оценка: 8\n",
            "Книга: Little Altars Everywhere: A Novel, оценка: 3\n",
            "Книга: The Perfect Storm : A True Story of Men Against the Sea, оценка: 6\n",
            "Книга: London : The Novel, оценка: 7\n",
            "Книга: Life Before Man, оценка: 10\n",
            "Книга: Cavedweller, оценка: 10\n",
            "Книга: The Robber Bride, оценка: 10\n",
            "Книга: Prozac Nation: Young and Depressed in America : A Memoir, оценка: 5\n",
            "Книга: The Four Agreements: A Practical Guide to Personal Freedom, оценка: 7\n",
            "рекомендуем книги\n",
            "The Lovely Bones: A Novel, measure: 0.7515304444266563\n",
            "Divine Secrets of the Ya-Ya Sisterhood: A Novel, measure: 0.5301263261901027\n",
            "The Red Tent (Bestselling Backlist), measure: 0.4302548943279464\n",
            "She's Come Undone (Oprah's Book Club (Paperback)), measure: 0.41815761438778415\n",
            "The Da Vinci Code, measure: 0.38910843956872704\n",
            "She's Come Undone (Oprah's Book Club), measure: 0.35741307175886283\n",
            "The Poisonwood Bible: A Novel, measure: 0.32416727448324467\n",
            "Where the Heart Is (Oprah's Book Club (Paperback)), measure: 0.31462183980733627\n",
            "Tuesdays with Morrie: An Old Man, a Young Man, and Life's Greatest Lesson, measure: 0.3074353269311395\n",
            "The Notebook, measure: 0.30314136601541086\n",
            "\n",
            "\n"
          ]
        }
      ]
    },
    {
      "cell_type": "markdown",
      "source": [
        "сложно оценивать на глаз, но пользователю, который хорошо оценил книги по Гарри Поттеру, мы рекомендуем другие части Гарри Поттера, а это неплохо"
      ],
      "metadata": {
        "id": "5NYEWbdUcmH8"
      }
    },
    {
      "cell_type": "code",
      "source": [
        "for id in ids:\n",
        "    col.item_based(id)\n",
        "    print('\\n')"
      ],
      "metadata": {
        "colab": {
          "base_uri": "https://localhost:8080/"
        },
        "id": "xZNfL9P3gHWk",
        "outputId": "0bc1e1a0-3468-4ae9-ba32-d2cf9ad44e8f"
      },
      "execution_count": null,
      "outputs": [
        {
          "output_type": "stream",
          "name": "stdout",
          "text": [
            "Для книги: Harry Potter and the Order of the Phoenix (Book 5) рекомендуем похожие:\n",
            "Harry Potter and the Chamber of Secrets (Book 2), measure: 0.12235401459856102\n",
            "Harry Potter and the Sorcerer's Stone (Harry Potter (Paperback)), measure: 0.1223540145985608\n",
            "Bridget Jones's Diary, measure: 0.12235401459855308\n",
            "Harry Potter and the Chamber of Secrets (Book 2), measure: 0.12235401459855275\n",
            "The Tale of the Body Thief (Vampire Chronicles (Paperback)), measure: 0.1223540145985515\n",
            "Life of Pi, measure: 0.12235401459855033\n",
            "The Return of the King (The Lord of the Rings, Part 3), measure: 0.12235401459854893\n",
            "Prodigal Summer, measure: 0.12235401459854847\n",
            "The Fellowship of the Ring (The Lord of the Rings, Part 1), measure: 0.12235401459854814\n",
            "Harry Potter and the Chamber of Secrets Postcard Book, measure: 0.12235401459854721\n",
            "\n",
            "\n",
            "Для книги: The Hobbit : The Enchanting Prelude to The Lord of the Rings рекомендуем похожие:\n",
            "The Fellowship of the Ring (The Lord of the Rings, Part 1), measure: 0.07983576642345382\n",
            "The Two Towers (The Lord of the Rings, Part 2), measure: 0.07983576642340581\n",
            "The Return of the King (The Lord of the Rings, Part 3), measure: 0.07983576642339586\n",
            "The Andromeda Strain, measure: 0.07983576642337414\n",
            "Harry Potter and the Prisoner of Azkaban (Book 3), measure: 0.07983576642337295\n",
            "The Midnight Club, measure: 0.07983576642336693\n",
            "Stupid White Men ...and Other Sorry Excuses for the State of the Nation!, measure: 0.07983576642336644\n",
            "Desecration: Antichrist Takes the Throne (Left Behind No. 9), measure: 0.07983576642336544\n",
            "Anne of Avonlea (Anne of Green Gables Novels (Paperback)), measure: 0.07983576642336487\n",
            "When Did Ignorance Become A Point Of View, measure: 0.07983576642336443\n",
            "\n",
            "\n",
            "Для книги: The Little Prince рекомендуем похожие:\n",
            "Chicken Soup for the Soul (Chicken Soup for the Soul), measure: 0.0030109489051937484\n",
            "Charming the Prince, measure: 0.0030109489051477626\n",
            "The Firm, measure: 0.003010948905144848\n",
            "Prodigal Summer, measure: 0.003010948905140953\n",
            "Next Victim, measure: 0.0030109489051384436\n",
            "Pope Joan (Ballantine Reader's Circle), measure: 0.0030109489051371946\n",
            "Pretend You Don't See Her, measure: 0.0030109489051361625\n",
            "Blue Gold : A Novel from the NUMA Files (NUMA Files (Paperback)), measure: 0.0030109489051359894\n",
            "Point of Origin, measure: 0.003010948905135222\n",
            "Hard Eight : A Stephanie Plum Novel (A Stephanie Plum Novel), measure: 0.003010948905134042\n",
            "\n",
            "\n",
            "Для книги: It рекомендуем похожие:\n",
            "The Tale of the Body Thief (Vampire Chronicles (Paperback)), measure: 0.011313868613205588\n",
            "Hearts In Atlantis, measure: 0.011313868613171001\n",
            "Interview with the Vampire, measure: 0.011313868613168139\n",
            "The Vampire Lestat (Vampire Chronicles, Book II), measure: 0.011313868613166219\n",
            "Dreamcatcher, measure: 0.011313868613164978\n",
            "Catch 22, measure: 0.011313868613164404\n",
            "Different Seasons, measure: 0.011313868613162664\n",
            "Harry Potter and the Prisoner of Azkaban (Book 3), measure: 0.011313868613161599\n",
            "The Grapes of Wrath (20th Century Classics), measure: 0.011313868613160711\n",
            "The Te of Piglet, measure: 0.01131386861316027\n",
            "\n",
            "\n"
          ]
        }
      ]
    },
    {
      "cell_type": "markdown",
      "source": [
        "опять же, по Гарри Поттеру рекомендуем Гарри Поттера, Властелина Колец - это неплохо"
      ],
      "metadata": {
        "id": "1_hpl36jgX9J"
      }
    },
    {
      "cell_type": "markdown",
      "source": [
        "подозреваю, что моя реализация коллаборативной фильтрации не совсем корректна - средние берутся по всем значениям(в том числе нулевым, которые на самом деле не ноль), при вычитании средних нарушается разреженность матрицы(потому что вычитаем опять же из всех элементов) и тд. но сделать умнее и лучше не получилось, буду рада узнать, как эти операции произвести корректнее :)"
      ],
      "metadata": {
        "id": "oFHcFafjiNe0"
      }
    },
    {
      "cell_type": "code",
      "source": [],
      "metadata": {
        "id": "p9wrXfj4izI3"
      },
      "execution_count": null,
      "outputs": []
    }
  ],
  "metadata": {
    "kernelspec": {
      "display_name": "Python 3",
      "language": "python",
      "name": "python3"
    },
    "language_info": {
      "codemirror_mode": {
        "name": "ipython",
        "version": 3
      },
      "file_extension": ".py",
      "mimetype": "text/x-python",
      "name": "python",
      "nbconvert_exporter": "python",
      "pygments_lexer": "ipython3",
      "version": "3.7.5"
    },
    "colab": {
      "provenance": []
    },
    "widgets": {
      "application/vnd.jupyter.widget-state+json": {
        "aafa6abd51d341b0bff91a186b9c13c8": {
          "model_module": "@jupyter-widgets/controls",
          "model_name": "HBoxModel",
          "model_module_version": "1.5.0",
          "state": {
            "_dom_classes": [],
            "_model_module": "@jupyter-widgets/controls",
            "_model_module_version": "1.5.0",
            "_model_name": "HBoxModel",
            "_view_count": null,
            "_view_module": "@jupyter-widgets/controls",
            "_view_module_version": "1.5.0",
            "_view_name": "HBoxView",
            "box_style": "",
            "children": [
              "IPY_MODEL_deeaaf7417f549e3bc6ca186c69e8797",
              "IPY_MODEL_6887975e2fab468bbcfcdc1db37071a6",
              "IPY_MODEL_f25cbba2e17c488685170e5093c91d57"
            ],
            "layout": "IPY_MODEL_381d085453e84b19a7265ab113bd4003"
          }
        },
        "deeaaf7417f549e3bc6ca186c69e8797": {
          "model_module": "@jupyter-widgets/controls",
          "model_name": "HTMLModel",
          "model_module_version": "1.5.0",
          "state": {
            "_dom_classes": [],
            "_model_module": "@jupyter-widgets/controls",
            "_model_module_version": "1.5.0",
            "_model_name": "HTMLModel",
            "_view_count": null,
            "_view_module": "@jupyter-widgets/controls",
            "_view_module_version": "1.5.0",
            "_view_name": "HTMLView",
            "description": "",
            "description_tooltip": null,
            "layout": "IPY_MODEL_5a159325e7bc4a77a9949398b8b9ccd2",
            "placeholder": "​",
            "style": "IPY_MODEL_bb28849afa794590a9d7dfde7f05da81",
            "value": "100%"
          }
        },
        "6887975e2fab468bbcfcdc1db37071a6": {
          "model_module": "@jupyter-widgets/controls",
          "model_name": "FloatProgressModel",
          "model_module_version": "1.5.0",
          "state": {
            "_dom_classes": [],
            "_model_module": "@jupyter-widgets/controls",
            "_model_module_version": "1.5.0",
            "_model_name": "FloatProgressModel",
            "_view_count": null,
            "_view_module": "@jupyter-widgets/controls",
            "_view_module_version": "1.5.0",
            "_view_name": "ProgressView",
            "bar_style": "success",
            "description": "",
            "description_tooltip": null,
            "layout": "IPY_MODEL_55ca8ab491144738a6406625c1dd7129",
            "max": 10012,
            "min": 0,
            "orientation": "horizontal",
            "style": "IPY_MODEL_a91f49573f3b48048d756d01222510fb",
            "value": 10012
          }
        },
        "f25cbba2e17c488685170e5093c91d57": {
          "model_module": "@jupyter-widgets/controls",
          "model_name": "HTMLModel",
          "model_module_version": "1.5.0",
          "state": {
            "_dom_classes": [],
            "_model_module": "@jupyter-widgets/controls",
            "_model_module_version": "1.5.0",
            "_model_name": "HTMLModel",
            "_view_count": null,
            "_view_module": "@jupyter-widgets/controls",
            "_view_module_version": "1.5.0",
            "_view_name": "HTMLView",
            "description": "",
            "description_tooltip": null,
            "layout": "IPY_MODEL_f21b6a800f1241a4866532b6b0d2c94c",
            "placeholder": "​",
            "style": "IPY_MODEL_34caceb869d74b24962731283a55a15c",
            "value": " 10012/10012 [00:08&lt;00:00, 1181.94it/s]"
          }
        },
        "381d085453e84b19a7265ab113bd4003": {
          "model_module": "@jupyter-widgets/base",
          "model_name": "LayoutModel",
          "model_module_version": "1.2.0",
          "state": {
            "_model_module": "@jupyter-widgets/base",
            "_model_module_version": "1.2.0",
            "_model_name": "LayoutModel",
            "_view_count": null,
            "_view_module": "@jupyter-widgets/base",
            "_view_module_version": "1.2.0",
            "_view_name": "LayoutView",
            "align_content": null,
            "align_items": null,
            "align_self": null,
            "border": null,
            "bottom": null,
            "display": null,
            "flex": null,
            "flex_flow": null,
            "grid_area": null,
            "grid_auto_columns": null,
            "grid_auto_flow": null,
            "grid_auto_rows": null,
            "grid_column": null,
            "grid_gap": null,
            "grid_row": null,
            "grid_template_areas": null,
            "grid_template_columns": null,
            "grid_template_rows": null,
            "height": null,
            "justify_content": null,
            "justify_items": null,
            "left": null,
            "margin": null,
            "max_height": null,
            "max_width": null,
            "min_height": null,
            "min_width": null,
            "object_fit": null,
            "object_position": null,
            "order": null,
            "overflow": null,
            "overflow_x": null,
            "overflow_y": null,
            "padding": null,
            "right": null,
            "top": null,
            "visibility": null,
            "width": null
          }
        },
        "5a159325e7bc4a77a9949398b8b9ccd2": {
          "model_module": "@jupyter-widgets/base",
          "model_name": "LayoutModel",
          "model_module_version": "1.2.0",
          "state": {
            "_model_module": "@jupyter-widgets/base",
            "_model_module_version": "1.2.0",
            "_model_name": "LayoutModel",
            "_view_count": null,
            "_view_module": "@jupyter-widgets/base",
            "_view_module_version": "1.2.0",
            "_view_name": "LayoutView",
            "align_content": null,
            "align_items": null,
            "align_self": null,
            "border": null,
            "bottom": null,
            "display": null,
            "flex": null,
            "flex_flow": null,
            "grid_area": null,
            "grid_auto_columns": null,
            "grid_auto_flow": null,
            "grid_auto_rows": null,
            "grid_column": null,
            "grid_gap": null,
            "grid_row": null,
            "grid_template_areas": null,
            "grid_template_columns": null,
            "grid_template_rows": null,
            "height": null,
            "justify_content": null,
            "justify_items": null,
            "left": null,
            "margin": null,
            "max_height": null,
            "max_width": null,
            "min_height": null,
            "min_width": null,
            "object_fit": null,
            "object_position": null,
            "order": null,
            "overflow": null,
            "overflow_x": null,
            "overflow_y": null,
            "padding": null,
            "right": null,
            "top": null,
            "visibility": null,
            "width": null
          }
        },
        "bb28849afa794590a9d7dfde7f05da81": {
          "model_module": "@jupyter-widgets/controls",
          "model_name": "DescriptionStyleModel",
          "model_module_version": "1.5.0",
          "state": {
            "_model_module": "@jupyter-widgets/controls",
            "_model_module_version": "1.5.0",
            "_model_name": "DescriptionStyleModel",
            "_view_count": null,
            "_view_module": "@jupyter-widgets/base",
            "_view_module_version": "1.2.0",
            "_view_name": "StyleView",
            "description_width": ""
          }
        },
        "55ca8ab491144738a6406625c1dd7129": {
          "model_module": "@jupyter-widgets/base",
          "model_name": "LayoutModel",
          "model_module_version": "1.2.0",
          "state": {
            "_model_module": "@jupyter-widgets/base",
            "_model_module_version": "1.2.0",
            "_model_name": "LayoutModel",
            "_view_count": null,
            "_view_module": "@jupyter-widgets/base",
            "_view_module_version": "1.2.0",
            "_view_name": "LayoutView",
            "align_content": null,
            "align_items": null,
            "align_self": null,
            "border": null,
            "bottom": null,
            "display": null,
            "flex": null,
            "flex_flow": null,
            "grid_area": null,
            "grid_auto_columns": null,
            "grid_auto_flow": null,
            "grid_auto_rows": null,
            "grid_column": null,
            "grid_gap": null,
            "grid_row": null,
            "grid_template_areas": null,
            "grid_template_columns": null,
            "grid_template_rows": null,
            "height": null,
            "justify_content": null,
            "justify_items": null,
            "left": null,
            "margin": null,
            "max_height": null,
            "max_width": null,
            "min_height": null,
            "min_width": null,
            "object_fit": null,
            "object_position": null,
            "order": null,
            "overflow": null,
            "overflow_x": null,
            "overflow_y": null,
            "padding": null,
            "right": null,
            "top": null,
            "visibility": null,
            "width": null
          }
        },
        "a91f49573f3b48048d756d01222510fb": {
          "model_module": "@jupyter-widgets/controls",
          "model_name": "ProgressStyleModel",
          "model_module_version": "1.5.0",
          "state": {
            "_model_module": "@jupyter-widgets/controls",
            "_model_module_version": "1.5.0",
            "_model_name": "ProgressStyleModel",
            "_view_count": null,
            "_view_module": "@jupyter-widgets/base",
            "_view_module_version": "1.2.0",
            "_view_name": "StyleView",
            "bar_color": null,
            "description_width": ""
          }
        },
        "f21b6a800f1241a4866532b6b0d2c94c": {
          "model_module": "@jupyter-widgets/base",
          "model_name": "LayoutModel",
          "model_module_version": "1.2.0",
          "state": {
            "_model_module": "@jupyter-widgets/base",
            "_model_module_version": "1.2.0",
            "_model_name": "LayoutModel",
            "_view_count": null,
            "_view_module": "@jupyter-widgets/base",
            "_view_module_version": "1.2.0",
            "_view_name": "LayoutView",
            "align_content": null,
            "align_items": null,
            "align_self": null,
            "border": null,
            "bottom": null,
            "display": null,
            "flex": null,
            "flex_flow": null,
            "grid_area": null,
            "grid_auto_columns": null,
            "grid_auto_flow": null,
            "grid_auto_rows": null,
            "grid_column": null,
            "grid_gap": null,
            "grid_row": null,
            "grid_template_areas": null,
            "grid_template_columns": null,
            "grid_template_rows": null,
            "height": null,
            "justify_content": null,
            "justify_items": null,
            "left": null,
            "margin": null,
            "max_height": null,
            "max_width": null,
            "min_height": null,
            "min_width": null,
            "object_fit": null,
            "object_position": null,
            "order": null,
            "overflow": null,
            "overflow_x": null,
            "overflow_y": null,
            "padding": null,
            "right": null,
            "top": null,
            "visibility": null,
            "width": null
          }
        },
        "34caceb869d74b24962731283a55a15c": {
          "model_module": "@jupyter-widgets/controls",
          "model_name": "DescriptionStyleModel",
          "model_module_version": "1.5.0",
          "state": {
            "_model_module": "@jupyter-widgets/controls",
            "_model_module_version": "1.5.0",
            "_model_name": "DescriptionStyleModel",
            "_view_count": null,
            "_view_module": "@jupyter-widgets/base",
            "_view_module_version": "1.2.0",
            "_view_name": "StyleView",
            "description_width": ""
          }
        }
      }
    }
  },
  "nbformat": 4,
  "nbformat_minor": 0
}